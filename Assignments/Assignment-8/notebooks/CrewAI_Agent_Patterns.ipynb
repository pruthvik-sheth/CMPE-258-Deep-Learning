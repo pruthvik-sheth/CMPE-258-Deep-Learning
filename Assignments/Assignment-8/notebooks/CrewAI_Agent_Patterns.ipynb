{
 "cells": [
  {
   "cell_type": "markdown",
   "metadata": {
    "id": "VAaAn8LuGreI"
   },
   "source": [
    "# CrewAI Agent Patterns - Building Effective Agents\n",
    "\n",
    "This colab demonstrates the same agent patterns using the CrewAI framework. CrewAI uses a role-based approach where agents work together as a crew to complete tasks.\n",
    "\n",
    "We'll implement:\n",
    "1. Role-based Agents with Memory\n",
    "2. Tool-integrated Agents\n",
    "3. Multi-agent Crew Collaboration\n",
    "4. Task Planning System\n",
    "\n",
    "CrewAI simplifies multi-agent coordination by having agents work together in a crew structure. We'll use the free Gemini API for LLM capabilities."
   ]
  },
  {
   "cell_type": "code",
   "execution_count": null,
   "metadata": {
    "colab": {
     "base_uri": "https://localhost:8080/"
    },
    "executionInfo": {
     "elapsed": 6691,
     "status": "ok",
     "timestamp": 1746263644080,
     "user": {
      "displayName": "Pruthvik Sheth",
      "userId": "03427505168681154907"
     },
     "user_tz": 420
    },
    "id": "Ot5IkwNWF82e",
    "outputId": "dfaaf96a-3712-4524-8dd8-b66f0cbf9996"
   },
   "outputs": [
    {
     "name": "stderr",
     "output_type": "stream",
     "text": [
      "/usr/local/lib/python3.11/dist-packages/langchain_google_genai/chat_models.py:1037: PydanticDeprecatedSince211: Accessing the 'model_fields' attribute on the instance is deprecated. Instead, you should access this attribute from the model class. Deprecated in Pydantic V2.11 to be removed in V3.0.\n",
      "  for field_name, field_info in self.model_fields.items():\n"
     ]
    }
   ],
   "source": [
    "# Install correct dependencies\n",
    "!pip install -q crewai crewai-tools langchain-google-genai langchain-community\n",
    "\n",
    "# Import required libraries\n",
    "import os\n",
    "from crewai import Agent, Task, Crew\n",
    "from langchain_google_genai import ChatGoogleGenerativeAI\n",
    "from typing import Dict, Any\n",
    "\n",
    "# Set up Gemini API\n",
    "os.environ[\"GOOGLE_API_KEY\"] = \"\"  # Replace with your Gemini API key\n",
    "\n",
    "# Initialize LLM for CrewAI\n",
    "llm = ChatGoogleGenerativeAI(\n",
    "    model=\"gemini/gemini-2.0-flash\",\n",
    "    temperature=0.7,\n",
    "    google_api_key=os.environ[\"GOOGLE_API_KEY\"]\n",
    ")\n",
    "\n",
    "# Create a simple Wikipedia search function\n",
    "def search_wikipedia(search_query: str) -> str:\n",
    "    \"\"\"Search Wikipedia for information on any topic\"\"\"\n",
    "    from langchain_community.utilities import WikipediaAPIWrapper\n",
    "    wiki = WikipediaAPIWrapper()\n",
    "    try:\n",
    "        result = wiki.run(search_query)\n",
    "        return result[:1000]  # Limit result length\n",
    "    except Exception as e:\n",
    "        return f\"Error searching Wikipedia: {str(e)}\"\n",
    "\n",
    "# We'll use this function directly instead of creating a BaseTool class"
   ]
  },
  {
   "cell_type": "markdown",
   "metadata": {
    "id": "JXLnVNrIIjrL"
   },
   "source": [
    "## 1. Memory-based Agent in CrewAI\n",
    "\n",
    "CrewAI agents inherently maintain context within a single crew session. We'll create an agent that tracks conversation history and provides contextual responses.\n",
    "\n",
    "Key features:\n",
    "- Agent role with memory capability\n",
    "- Context-aware responses\n",
    "- Conversation tracking within tasks"
   ]
  },
  {
   "cell_type": "code",
   "execution_count": 16,
   "metadata": {
    "colab": {
     "base_uri": "https://localhost:8080/",
     "height": 1000
    },
    "executionInfo": {
     "elapsed": 1239,
     "status": "ok",
     "timestamp": 1746263723627,
     "user": {
      "displayName": "Pruthvik Sheth",
      "userId": "03427505168681154907"
     },
     "user_tz": 420
    },
    "id": "8-gfjoVCHCJ_",
    "outputId": "b89e5369-0dca-44ca-9636-4b2805936d3e"
   },
   "outputs": [
    {
     "data": {
      "text/html": [
       "<pre style=\"white-space:pre;overflow-x:auto;line-height:normal;font-family:Menlo,'DejaVu Sans Mono',consolas,'Courier New',monospace\"><span style=\"color: #008080; text-decoration-color: #008080\">╭──────────────────────────────────────────── Crew Execution Started ─────────────────────────────────────────────╮</span>\n",
       "<span style=\"color: #008080; text-decoration-color: #008080\">│</span>                                                                                                                 <span style=\"color: #008080; text-decoration-color: #008080\">│</span>\n",
       "<span style=\"color: #008080; text-decoration-color: #008080\">│</span>  <span style=\"color: #008080; text-decoration-color: #008080; font-weight: bold\">Crew Execution Started</span>                                                                                         <span style=\"color: #008080; text-decoration-color: #008080\">│</span>\n",
       "<span style=\"color: #008080; text-decoration-color: #008080\">│</span>  <span style=\"color: #c0c0c0; text-decoration-color: #c0c0c0\">Name: </span><span style=\"color: #008080; text-decoration-color: #008080\">crew</span>                                                                                                     <span style=\"color: #008080; text-decoration-color: #008080\">│</span>\n",
       "<span style=\"color: #008080; text-decoration-color: #008080\">│</span>  <span style=\"color: #c0c0c0; text-decoration-color: #c0c0c0\">ID: </span><span style=\"color: #008080; text-decoration-color: #008080\">941bbeab-a360-45c1-bf76-c833ac678c14</span>                                                                       <span style=\"color: #008080; text-decoration-color: #008080\">│</span>\n",
       "<span style=\"color: #008080; text-decoration-color: #008080\">│</span>                                                                                                                 <span style=\"color: #008080; text-decoration-color: #008080\">│</span>\n",
       "<span style=\"color: #008080; text-decoration-color: #008080\">│</span>                                                                                                                 <span style=\"color: #008080; text-decoration-color: #008080\">│</span>\n",
       "<span style=\"color: #008080; text-decoration-color: #008080\">╰─────────────────────────────────────────────────────────────────────────────────────────────────────────────────╯</span>\n",
       "</pre>\n"
      ],
      "text/plain": [
       "\u001b[36m╭─\u001b[0m\u001b[36m───────────────────────────────────────────\u001b[0m\u001b[36m Crew Execution Started \u001b[0m\u001b[36m────────────────────────────────────────────\u001b[0m\u001b[36m─╮\u001b[0m\n",
       "\u001b[36m│\u001b[0m                                                                                                                 \u001b[36m│\u001b[0m\n",
       "\u001b[36m│\u001b[0m  \u001b[1;36mCrew Execution Started\u001b[0m                                                                                         \u001b[36m│\u001b[0m\n",
       "\u001b[36m│\u001b[0m  \u001b[37mName: \u001b[0m\u001b[36mcrew\u001b[0m                                                                                                     \u001b[36m│\u001b[0m\n",
       "\u001b[36m│\u001b[0m  \u001b[37mID: \u001b[0m\u001b[36m941bbeab-a360-45c1-bf76-c833ac678c14\u001b[0m                                                                       \u001b[36m│\u001b[0m\n",
       "\u001b[36m│\u001b[0m                                                                                                                 \u001b[36m│\u001b[0m\n",
       "\u001b[36m│\u001b[0m                                                                                                                 \u001b[36m│\u001b[0m\n",
       "\u001b[36m╰─────────────────────────────────────────────────────────────────────────────────────────────────────────────────╯\u001b[0m\n"
      ]
     },
     "metadata": {},
     "output_type": "display_data"
    },
    {
     "data": {
      "text/html": [
       "<pre style=\"white-space:pre;overflow-x:auto;line-height:normal;font-family:Menlo,'DejaVu Sans Mono',consolas,'Courier New',monospace\">\n",
       "</pre>\n"
      ],
      "text/plain": [
       "\n"
      ]
     },
     "metadata": {},
     "output_type": "display_data"
    },
    {
     "data": {
      "text/html": [
       "<pre style=\"white-space:pre;overflow-x:auto;line-height:normal;font-family:Menlo,'DejaVu Sans Mono',consolas,'Courier New',monospace\"><span style=\"color: #008080; text-decoration-color: #008080; font-weight: bold\">🚀 Crew: crew</span>\n",
       "└── <span style=\"color: #808000; text-decoration-color: #808000; font-weight: bold\">📋 Task: 91a36e08-c439-4c6f-9347-191922039dfc</span>\n",
       "    <span style=\"color: #c0c0c0; text-decoration-color: #c0c0c0\">   Status: </span><span style=\"color: #bfbf7f; text-decoration-color: #bfbf7f\">Executing Task...</span>\n",
       "</pre>\n"
      ],
      "text/plain": [
       "\u001b[1;36m🚀 Crew: \u001b[0m\u001b[1;36mcrew\u001b[0m\n",
       "└── \u001b[1;33m📋 Task: 91a36e08-c439-4c6f-9347-191922039dfc\u001b[0m\n",
       "    \u001b[37m   Status: \u001b[0m\u001b[2;33mExecuting Task...\u001b[0m\n"
      ]
     },
     "metadata": {},
     "output_type": "display_data"
    },
    {
     "data": {
      "text/html": [
       "<pre style=\"white-space:pre;overflow-x:auto;line-height:normal;font-family:Menlo,'DejaVu Sans Mono',consolas,'Courier New',monospace\">\n",
       "</pre>\n"
      ],
      "text/plain": [
       "\n"
      ]
     },
     "metadata": {},
     "output_type": "display_data"
    },
    {
     "data": {
      "text/html": [
       "<pre style=\"white-space:pre;overflow-x:auto;line-height:normal;font-family:Menlo,'DejaVu Sans Mono',consolas,'Courier New',monospace\"><span style=\"color: #008080; text-decoration-color: #008080; font-weight: bold\">🚀 Crew: crew</span>\n",
       "└── <span style=\"color: #808000; text-decoration-color: #808000; font-weight: bold\">📋 Task: 91a36e08-c439-4c6f-9347-191922039dfc</span>\n",
       "    <span style=\"color: #c0c0c0; text-decoration-color: #c0c0c0\">   Status: </span><span style=\"color: #bfbf7f; text-decoration-color: #bfbf7f\">Executing Task...</span>\n",
       "    └── <span style=\"color: #008000; text-decoration-color: #008000; font-weight: bold\">🤖 Agent: </span><span style=\"color: #008000; text-decoration-color: #008000\">Memory Assistant</span>\n",
       "        <span style=\"color: #c0c0c0; text-decoration-color: #c0c0c0\">    Status: </span><span style=\"color: #008000; text-decoration-color: #008000; font-weight: bold\">In Progress</span>\n",
       "</pre>\n"
      ],
      "text/plain": [
       "\u001b[1;36m🚀 Crew: \u001b[0m\u001b[1;36mcrew\u001b[0m\n",
       "└── \u001b[1;33m📋 Task: 91a36e08-c439-4c6f-9347-191922039dfc\u001b[0m\n",
       "    \u001b[37m   Status: \u001b[0m\u001b[2;33mExecuting Task...\u001b[0m\n",
       "    └── \u001b[1;32m🤖 Agent: \u001b[0m\u001b[32mMemory Assistant\u001b[0m\n",
       "        \u001b[37m    Status: \u001b[0m\u001b[1;32mIn Progress\u001b[0m\n"
      ]
     },
     "metadata": {},
     "output_type": "display_data"
    },
    {
     "data": {
      "text/html": [
       "<pre style=\"white-space:pre;overflow-x:auto;line-height:normal;font-family:Menlo,'DejaVu Sans Mono',consolas,'Courier New',monospace\">\n",
       "</pre>\n"
      ],
      "text/plain": [
       "\n"
      ]
     },
     "metadata": {},
     "output_type": "display_data"
    },
    {
     "name": "stdout",
     "output_type": "stream",
     "text": [
      "\u001b[1m\u001b[95m# Agent:\u001b[00m \u001b[1m\u001b[92mMemory Assistant\u001b[00m\n",
      "\u001b[95m## Task:\u001b[00m \u001b[92m\n",
      "    You are having a conversation. In the first exchange, I will tell you \"My favorite color is blue. Remember this!\"\n",
      "    Then you need to respond recognizing this information.\n",
      "    \n",
      "    In the second exchange, I will ask \"What's my favorite color?\" and you should recall the color blue from our previous exchange.\n",
      "    \n",
      "    This tests your ability to maintain memory across exchanges.\n",
      "    \u001b[00m\n",
      "\n",
      "\n",
      "\u001b[1m\u001b[95m# Agent:\u001b[00m \u001b[1m\u001b[92mMemory Assistant\u001b[00m\n",
      "\u001b[95m## Final Answer:\u001b[00m \u001b[92m\n",
      "Okay, I will remember that your favorite color is blue!\u001b[00m\n",
      "\n",
      "\n"
     ]
    },
    {
     "data": {
      "text/html": [
       "<pre style=\"white-space:pre;overflow-x:auto;line-height:normal;font-family:Menlo,'DejaVu Sans Mono',consolas,'Courier New',monospace\"><span style=\"color: #008080; text-decoration-color: #008080; font-weight: bold\">🚀 Crew: crew</span>\n",
       "└── <span style=\"color: #808000; text-decoration-color: #808000; font-weight: bold\">📋 Task: 91a36e08-c439-4c6f-9347-191922039dfc</span>\n",
       "    <span style=\"color: #c0c0c0; text-decoration-color: #c0c0c0\">   Status: </span><span style=\"color: #bfbf7f; text-decoration-color: #bfbf7f\">Executing Task...</span>\n",
       "    └── <span style=\"color: #008000; text-decoration-color: #008000; font-weight: bold\">🤖 Agent: </span><span style=\"color: #008000; text-decoration-color: #008000\">Memory Assistant</span>\n",
       "        <span style=\"color: #c0c0c0; text-decoration-color: #c0c0c0\">    Status: </span><span style=\"color: #008000; text-decoration-color: #008000; font-weight: bold\">✅ Completed</span>\n",
       "</pre>\n"
      ],
      "text/plain": [
       "\u001b[1;36m🚀 Crew: \u001b[0m\u001b[1;36mcrew\u001b[0m\n",
       "└── \u001b[1;33m📋 Task: 91a36e08-c439-4c6f-9347-191922039dfc\u001b[0m\n",
       "    \u001b[37m   Status: \u001b[0m\u001b[2;33mExecuting Task...\u001b[0m\n",
       "    └── \u001b[1;32m🤖 Agent: \u001b[0m\u001b[32mMemory Assistant\u001b[0m\n",
       "        \u001b[37m    Status: \u001b[0m\u001b[1;32m✅ Completed\u001b[0m\n"
      ]
     },
     "metadata": {},
     "output_type": "display_data"
    },
    {
     "data": {
      "text/html": [
       "<pre style=\"white-space:pre;overflow-x:auto;line-height:normal;font-family:Menlo,'DejaVu Sans Mono',consolas,'Courier New',monospace\">\n",
       "</pre>\n"
      ],
      "text/plain": [
       "\n"
      ]
     },
     "metadata": {},
     "output_type": "display_data"
    },
    {
     "data": {
      "text/html": [
       "<pre style=\"white-space:pre;overflow-x:auto;line-height:normal;font-family:Menlo,'DejaVu Sans Mono',consolas,'Courier New',monospace\"><span style=\"color: #008080; text-decoration-color: #008080; font-weight: bold\">🚀 Crew: crew</span>\n",
       "└── <span style=\"color: #008000; text-decoration-color: #008000; font-weight: bold\">📋 Task: 91a36e08-c439-4c6f-9347-191922039dfc</span>\n",
       "    <span style=\"color: #c0c0c0; text-decoration-color: #c0c0c0\">   Assigned to: </span><span style=\"color: #008000; text-decoration-color: #008000\">Memory Assistant</span>\n",
       "    <span style=\"color: #c0c0c0; text-decoration-color: #c0c0c0\">   Status: </span><span style=\"color: #008000; text-decoration-color: #008000; font-weight: bold\">✅ Completed</span>\n",
       "    └── <span style=\"color: #008000; text-decoration-color: #008000; font-weight: bold\">🤖 Agent: </span><span style=\"color: #008000; text-decoration-color: #008000\">Memory Assistant</span>\n",
       "        <span style=\"color: #c0c0c0; text-decoration-color: #c0c0c0\">    Status: </span><span style=\"color: #008000; text-decoration-color: #008000; font-weight: bold\">✅ Completed</span>\n",
       "</pre>\n"
      ],
      "text/plain": [
       "\u001b[1;36m🚀 Crew: \u001b[0m\u001b[1;36mcrew\u001b[0m\n",
       "└── \u001b[1;32m📋 Task: 91a36e08-c439-4c6f-9347-191922039dfc\u001b[0m\n",
       "    \u001b[37m   Assigned to: \u001b[0m\u001b[32mMemory Assistant\u001b[0m\n",
       "    \u001b[37m   Status: \u001b[0m\u001b[1;32m✅ Completed\u001b[0m\n",
       "    └── \u001b[1;32m🤖 Agent: \u001b[0m\u001b[32mMemory Assistant\u001b[0m\n",
       "        \u001b[37m    Status: \u001b[0m\u001b[1;32m✅ Completed\u001b[0m\n"
      ]
     },
     "metadata": {},
     "output_type": "display_data"
    },
    {
     "data": {
      "text/html": [
       "<pre style=\"white-space:pre;overflow-x:auto;line-height:normal;font-family:Menlo,'DejaVu Sans Mono',consolas,'Courier New',monospace\"><span style=\"color: #008000; text-decoration-color: #008000\">╭──────────────────────────────────────────────── Task Completion ────────────────────────────────────────────────╮</span>\n",
       "<span style=\"color: #008000; text-decoration-color: #008000\">│</span>                                                                                                                 <span style=\"color: #008000; text-decoration-color: #008000\">│</span>\n",
       "<span style=\"color: #008000; text-decoration-color: #008000\">│</span>  <span style=\"color: #008000; text-decoration-color: #008000; font-weight: bold\">Task Completed</span>                                                                                                 <span style=\"color: #008000; text-decoration-color: #008000\">│</span>\n",
       "<span style=\"color: #008000; text-decoration-color: #008000\">│</span>  <span style=\"color: #c0c0c0; text-decoration-color: #c0c0c0\">Name: </span><span style=\"color: #008000; text-decoration-color: #008000\">91a36e08-c439-4c6f-9347-191922039dfc</span>                                                                     <span style=\"color: #008000; text-decoration-color: #008000\">│</span>\n",
       "<span style=\"color: #008000; text-decoration-color: #008000\">│</span>  <span style=\"color: #c0c0c0; text-decoration-color: #c0c0c0\">Agent: </span><span style=\"color: #008000; text-decoration-color: #008000\">Memory Assistant</span>                                                                                        <span style=\"color: #008000; text-decoration-color: #008000\">│</span>\n",
       "<span style=\"color: #008000; text-decoration-color: #008000\">│</span>                                                                                                                 <span style=\"color: #008000; text-decoration-color: #008000\">│</span>\n",
       "<span style=\"color: #008000; text-decoration-color: #008000\">│</span>                                                                                                                 <span style=\"color: #008000; text-decoration-color: #008000\">│</span>\n",
       "<span style=\"color: #008000; text-decoration-color: #008000\">╰─────────────────────────────────────────────────────────────────────────────────────────────────────────────────╯</span>\n",
       "</pre>\n"
      ],
      "text/plain": [
       "\u001b[32m╭─\u001b[0m\u001b[32m───────────────────────────────────────────────\u001b[0m\u001b[32m Task Completion \u001b[0m\u001b[32m───────────────────────────────────────────────\u001b[0m\u001b[32m─╮\u001b[0m\n",
       "\u001b[32m│\u001b[0m                                                                                                                 \u001b[32m│\u001b[0m\n",
       "\u001b[32m│\u001b[0m  \u001b[1;32mTask Completed\u001b[0m                                                                                                 \u001b[32m│\u001b[0m\n",
       "\u001b[32m│\u001b[0m  \u001b[37mName: \u001b[0m\u001b[32m91a36e08-c439-4c6f-9347-191922039dfc\u001b[0m                                                                     \u001b[32m│\u001b[0m\n",
       "\u001b[32m│\u001b[0m  \u001b[37mAgent: \u001b[0m\u001b[32mMemory Assistant\u001b[0m                                                                                        \u001b[32m│\u001b[0m\n",
       "\u001b[32m│\u001b[0m                                                                                                                 \u001b[32m│\u001b[0m\n",
       "\u001b[32m│\u001b[0m                                                                                                                 \u001b[32m│\u001b[0m\n",
       "\u001b[32m╰─────────────────────────────────────────────────────────────────────────────────────────────────────────────────╯\u001b[0m\n"
      ]
     },
     "metadata": {},
     "output_type": "display_data"
    },
    {
     "data": {
      "text/html": [
       "<pre style=\"white-space:pre;overflow-x:auto;line-height:normal;font-family:Menlo,'DejaVu Sans Mono',consolas,'Courier New',monospace\">\n",
       "</pre>\n"
      ],
      "text/plain": [
       "\n"
      ]
     },
     "metadata": {},
     "output_type": "display_data"
    },
    {
     "data": {
      "text/html": [
       "<pre style=\"white-space:pre;overflow-x:auto;line-height:normal;font-family:Menlo,'DejaVu Sans Mono',consolas,'Courier New',monospace\"><span style=\"color: #008000; text-decoration-color: #008000\">╭──────────────────────────────────────────────── Crew Completion ────────────────────────────────────────────────╮</span>\n",
       "<span style=\"color: #008000; text-decoration-color: #008000\">│</span>                                                                                                                 <span style=\"color: #008000; text-decoration-color: #008000\">│</span>\n",
       "<span style=\"color: #008000; text-decoration-color: #008000\">│</span>  <span style=\"color: #008000; text-decoration-color: #008000; font-weight: bold\">Crew Execution Completed</span>                                                                                       <span style=\"color: #008000; text-decoration-color: #008000\">│</span>\n",
       "<span style=\"color: #008000; text-decoration-color: #008000\">│</span>  <span style=\"color: #c0c0c0; text-decoration-color: #c0c0c0\">Name: </span><span style=\"color: #008000; text-decoration-color: #008000\">crew</span>                                                                                                     <span style=\"color: #008000; text-decoration-color: #008000\">│</span>\n",
       "<span style=\"color: #008000; text-decoration-color: #008000\">│</span>  <span style=\"color: #c0c0c0; text-decoration-color: #c0c0c0\">ID: </span><span style=\"color: #008000; text-decoration-color: #008000\">941bbeab-a360-45c1-bf76-c833ac678c14</span>                                                                       <span style=\"color: #008000; text-decoration-color: #008000\">│</span>\n",
       "<span style=\"color: #008000; text-decoration-color: #008000\">│</span>                                                                                                                 <span style=\"color: #008000; text-decoration-color: #008000\">│</span>\n",
       "<span style=\"color: #008000; text-decoration-color: #008000\">│</span>                                                                                                                 <span style=\"color: #008000; text-decoration-color: #008000\">│</span>\n",
       "<span style=\"color: #008000; text-decoration-color: #008000\">╰─────────────────────────────────────────────────────────────────────────────────────────────────────────────────╯</span>\n",
       "</pre>\n"
      ],
      "text/plain": [
       "\u001b[32m╭─\u001b[0m\u001b[32m───────────────────────────────────────────────\u001b[0m\u001b[32m Crew Completion \u001b[0m\u001b[32m───────────────────────────────────────────────\u001b[0m\u001b[32m─╮\u001b[0m\n",
       "\u001b[32m│\u001b[0m                                                                                                                 \u001b[32m│\u001b[0m\n",
       "\u001b[32m│\u001b[0m  \u001b[1;32mCrew Execution Completed\u001b[0m                                                                                       \u001b[32m│\u001b[0m\n",
       "\u001b[32m│\u001b[0m  \u001b[37mName: \u001b[0m\u001b[32mcrew\u001b[0m                                                                                                     \u001b[32m│\u001b[0m\n",
       "\u001b[32m│\u001b[0m  \u001b[37mID: \u001b[0m\u001b[32m941bbeab-a360-45c1-bf76-c833ac678c14\u001b[0m                                                                       \u001b[32m│\u001b[0m\n",
       "\u001b[32m│\u001b[0m                                                                                                                 \u001b[32m│\u001b[0m\n",
       "\u001b[32m│\u001b[0m                                                                                                                 \u001b[32m│\u001b[0m\n",
       "\u001b[32m╰─────────────────────────────────────────────────────────────────────────────────────────────────────────────────╯\u001b[0m\n"
      ]
     },
     "metadata": {},
     "output_type": "display_data"
    },
    {
     "data": {
      "text/html": [
       "<pre style=\"white-space:pre;overflow-x:auto;line-height:normal;font-family:Menlo,'DejaVu Sans Mono',consolas,'Courier New',monospace\">\n",
       "</pre>\n"
      ],
      "text/plain": [
       "\n"
      ]
     },
     "metadata": {},
     "output_type": "display_data"
    },
    {
     "name": "stdout",
     "output_type": "stream",
     "text": [
      "\n",
      "Memory Agent Results:\n",
      "Okay, I will remember that your favorite color is blue!\n"
     ]
    }
   ],
   "source": [
    "llm = LLM(\n",
    "    model=\"gemini/gemini-2.0-flash\",  # Specify model properly\n",
    "    api_key=os.environ[\"GOOGLE_API_KEY\"]\n",
    ")\n",
    "\n",
    "# Create a memory-aware agent\n",
    "memory_agent = Agent(\n",
    "    role=\"Memory Assistant\",\n",
    "    goal=\"Maintain conversation context and provide relevant responses based on previous interactions\",\n",
    "    backstory=\"\"\"You are a helpful assistant with excellent memory. You track and remember details from\n",
    "    conversations to provide contextual and personalized responses.\"\"\",\n",
    "    verbose=True,\n",
    "    allow_delegation=False,\n",
    "    llm=llm\n",
    ")\n",
    "\n",
    "# Create a conversation task with memory\n",
    "conversation_task = Task(\n",
    "    description=\"\"\"\n",
    "    You are having a conversation. In the first exchange, I will tell you \"My favorite color is blue. Remember this!\"\n",
    "    Then you need to respond recognizing this information.\n",
    "\n",
    "    In the second exchange, I will ask \"What's my favorite color?\" and you should recall the color blue from our previous exchange.\n",
    "\n",
    "    This tests your ability to maintain memory across exchanges.\n",
    "    \"\"\",\n",
    "    expected_output=\"Appropriate response showing memory of the favorite color mentioned earlier\",\n",
    "    agent=memory_agent\n",
    ")\n",
    "\n",
    "# Create and execute crew\n",
    "memory_crew = Crew(\n",
    "    agents=[memory_agent],\n",
    "    tasks=[conversation_task],\n",
    "    verbose=True\n",
    ")\n",
    "\n",
    "# Run the memory example\n",
    "memory_result = memory_crew.kickoff()\n",
    "print(\"\\nMemory Agent Results:\")\n",
    "print(memory_result)"
   ]
  },
  {
   "cell_type": "markdown",
   "metadata": {
    "id": "B62GagnLblXK"
   },
   "source": [
    "## 2. Tool-integrated Agent\n",
    "\n",
    "This agent demonstrates how to integrate external tools in CrewAI. The agent can access Wikipedia to search for information when needed.\n",
    "\n",
    "Key features:\n",
    "- Tool integration\n",
    "- Automatic tool selection  \n",
    "- Function-based tools\n",
    "- Dynamic information retrieval"
   ]
  },
  {
   "cell_type": "code",
   "execution_count": 19,
   "metadata": {
    "colab": {
     "base_uri": "https://localhost:8080/",
     "height": 1000
    },
    "executionInfo": {
     "elapsed": 55792,
     "status": "ok",
     "timestamp": 1746263880398,
     "user": {
      "displayName": "Pruthvik Sheth",
      "userId": "03427505168681154907"
     },
     "user_tz": 420
    },
    "id": "K4vCgh6NIsJA",
    "outputId": "8bb3ff62-3151-4ca3-f8cc-fce2f4eb94ca"
   },
   "outputs": [
    {
     "name": "stdout",
     "output_type": "stream",
     "text": [
      "Executing tool agent...\n"
     ]
    },
    {
     "data": {
      "text/html": [
       "<pre style=\"white-space:pre;overflow-x:auto;line-height:normal;font-family:Menlo,'DejaVu Sans Mono',consolas,'Courier New',monospace\"><span style=\"color: #008080; text-decoration-color: #008080\">╭──────────────────────────────────────────── Crew Execution Started ─────────────────────────────────────────────╮</span>\n",
       "<span style=\"color: #008080; text-decoration-color: #008080\">│</span>                                                                                                                 <span style=\"color: #008080; text-decoration-color: #008080\">│</span>\n",
       "<span style=\"color: #008080; text-decoration-color: #008080\">│</span>  <span style=\"color: #008080; text-decoration-color: #008080; font-weight: bold\">Crew Execution Started</span>                                                                                         <span style=\"color: #008080; text-decoration-color: #008080\">│</span>\n",
       "<span style=\"color: #008080; text-decoration-color: #008080\">│</span>  <span style=\"color: #c0c0c0; text-decoration-color: #c0c0c0\">Name: </span><span style=\"color: #008080; text-decoration-color: #008080\">crew</span>                                                                                                     <span style=\"color: #008080; text-decoration-color: #008080\">│</span>\n",
       "<span style=\"color: #008080; text-decoration-color: #008080\">│</span>  <span style=\"color: #c0c0c0; text-decoration-color: #c0c0c0\">ID: </span><span style=\"color: #008080; text-decoration-color: #008080\">622054c3-27ee-4201-aa9e-4d3fc3027317</span>                                                                       <span style=\"color: #008080; text-decoration-color: #008080\">│</span>\n",
       "<span style=\"color: #008080; text-decoration-color: #008080\">│</span>                                                                                                                 <span style=\"color: #008080; text-decoration-color: #008080\">│</span>\n",
       "<span style=\"color: #008080; text-decoration-color: #008080\">│</span>                                                                                                                 <span style=\"color: #008080; text-decoration-color: #008080\">│</span>\n",
       "<span style=\"color: #008080; text-decoration-color: #008080\">╰─────────────────────────────────────────────────────────────────────────────────────────────────────────────────╯</span>\n",
       "</pre>\n"
      ],
      "text/plain": [
       "\u001b[36m╭─\u001b[0m\u001b[36m───────────────────────────────────────────\u001b[0m\u001b[36m Crew Execution Started \u001b[0m\u001b[36m────────────────────────────────────────────\u001b[0m\u001b[36m─╮\u001b[0m\n",
       "\u001b[36m│\u001b[0m                                                                                                                 \u001b[36m│\u001b[0m\n",
       "\u001b[36m│\u001b[0m  \u001b[1;36mCrew Execution Started\u001b[0m                                                                                         \u001b[36m│\u001b[0m\n",
       "\u001b[36m│\u001b[0m  \u001b[37mName: \u001b[0m\u001b[36mcrew\u001b[0m                                                                                                     \u001b[36m│\u001b[0m\n",
       "\u001b[36m│\u001b[0m  \u001b[37mID: \u001b[0m\u001b[36m622054c3-27ee-4201-aa9e-4d3fc3027317\u001b[0m                                                                       \u001b[36m│\u001b[0m\n",
       "\u001b[36m│\u001b[0m                                                                                                                 \u001b[36m│\u001b[0m\n",
       "\u001b[36m│\u001b[0m                                                                                                                 \u001b[36m│\u001b[0m\n",
       "\u001b[36m╰─────────────────────────────────────────────────────────────────────────────────────────────────────────────────╯\u001b[0m\n"
      ]
     },
     "metadata": {},
     "output_type": "display_data"
    },
    {
     "data": {
      "text/html": [
       "<pre style=\"white-space:pre;overflow-x:auto;line-height:normal;font-family:Menlo,'DejaVu Sans Mono',consolas,'Courier New',monospace\">\n",
       "</pre>\n"
      ],
      "text/plain": [
       "\n"
      ]
     },
     "metadata": {},
     "output_type": "display_data"
    },
    {
     "data": {
      "text/html": [
       "<pre style=\"white-space:pre;overflow-x:auto;line-height:normal;font-family:Menlo,'DejaVu Sans Mono',consolas,'Courier New',monospace\"><span style=\"color: #008080; text-decoration-color: #008080; font-weight: bold\">🚀 Crew: crew</span>\n",
       "└── <span style=\"color: #808000; text-decoration-color: #808000; font-weight: bold\">📋 Task: 821c2653-401a-489f-938c-52ac44243402</span>\n",
       "    <span style=\"color: #c0c0c0; text-decoration-color: #c0c0c0\">   Status: </span><span style=\"color: #bfbf7f; text-decoration-color: #bfbf7f\">Executing Task...</span>\n",
       "</pre>\n"
      ],
      "text/plain": [
       "\u001b[1;36m🚀 Crew: \u001b[0m\u001b[1;36mcrew\u001b[0m\n",
       "└── \u001b[1;33m📋 Task: 821c2653-401a-489f-938c-52ac44243402\u001b[0m\n",
       "    \u001b[37m   Status: \u001b[0m\u001b[2;33mExecuting Task...\u001b[0m\n"
      ]
     },
     "metadata": {},
     "output_type": "display_data"
    },
    {
     "data": {
      "text/html": [
       "<pre style=\"white-space:pre;overflow-x:auto;line-height:normal;font-family:Menlo,'DejaVu Sans Mono',consolas,'Courier New',monospace\">\n",
       "</pre>\n"
      ],
      "text/plain": [
       "\n"
      ]
     },
     "metadata": {},
     "output_type": "display_data"
    },
    {
     "data": {
      "text/html": [
       "<pre style=\"white-space:pre;overflow-x:auto;line-height:normal;font-family:Menlo,'DejaVu Sans Mono',consolas,'Courier New',monospace\"><span style=\"color: #008080; text-decoration-color: #008080; font-weight: bold\">🚀 Crew: crew</span>\n",
       "└── <span style=\"color: #808000; text-decoration-color: #808000; font-weight: bold\">📋 Task: 821c2653-401a-489f-938c-52ac44243402</span>\n",
       "    <span style=\"color: #c0c0c0; text-decoration-color: #c0c0c0\">   Status: </span><span style=\"color: #bfbf7f; text-decoration-color: #bfbf7f\">Executing Task...</span>\n",
       "    └── <span style=\"color: #008000; text-decoration-color: #008000; font-weight: bold\">🤖 Agent: </span><span style=\"color: #008000; text-decoration-color: #008000\">Research Assistant</span>\n",
       "        <span style=\"color: #c0c0c0; text-decoration-color: #c0c0c0\">    Status: </span><span style=\"color: #008000; text-decoration-color: #008000; font-weight: bold\">In Progress</span>\n",
       "</pre>\n"
      ],
      "text/plain": [
       "\u001b[1;36m🚀 Crew: \u001b[0m\u001b[1;36mcrew\u001b[0m\n",
       "└── \u001b[1;33m📋 Task: 821c2653-401a-489f-938c-52ac44243402\u001b[0m\n",
       "    \u001b[37m   Status: \u001b[0m\u001b[2;33mExecuting Task...\u001b[0m\n",
       "    └── \u001b[1;32m🤖 Agent: \u001b[0m\u001b[32mResearch Assistant\u001b[0m\n",
       "        \u001b[37m    Status: \u001b[0m\u001b[1;32mIn Progress\u001b[0m\n"
      ]
     },
     "metadata": {},
     "output_type": "display_data"
    },
    {
     "data": {
      "text/html": [
       "<pre style=\"white-space:pre;overflow-x:auto;line-height:normal;font-family:Menlo,'DejaVu Sans Mono',consolas,'Courier New',monospace\">\n",
       "</pre>\n"
      ],
      "text/plain": [
       "\n"
      ]
     },
     "metadata": {},
     "output_type": "display_data"
    },
    {
     "name": "stdout",
     "output_type": "stream",
     "text": [
      "\u001b[1m\u001b[95m# Agent:\u001b[00m \u001b[1m\u001b[92mResearch Assistant\u001b[00m\n",
      "\u001b[95m## Task:\u001b[00m \u001b[92mYou are a research agent with access to Wikipedia search. \n",
      "   A user wants to know about \"Artificial Intelligence history\". \n",
      "   \n",
      "   Step 1: Search Wikipedia for \"Artificial Intelligence history\"\n",
      "   Step 2: Summarize the key historical developments in AI\n",
      "   Step 3: Provide a concise overview of major milestones\n",
      "   \n",
      "   Respond as if you've searched and found information about AI history.\u001b[00m\n",
      "\u001b[91m Received None or empty response from LLM call.\u001b[00m\n",
      "\u001b[91m An unknown error occurred. Please check the details below.\u001b[00m\n",
      "\u001b[91m Error details: Invalid response from LLM call - None or empty.\u001b[00m\n",
      "\u001b[91m An unknown error occurred. Please check the details below.\u001b[00m\n",
      "\u001b[91m Error details: Invalid response from LLM call - None or empty.\u001b[00m\n"
     ]
    },
    {
     "data": {
      "text/html": [
       "<pre style=\"white-space:pre;overflow-x:auto;line-height:normal;font-family:Menlo,'DejaVu Sans Mono',consolas,'Courier New',monospace\"><span style=\"color: #008080; text-decoration-color: #008080; font-weight: bold\">🚀 Crew: crew</span>\n",
       "└── <span style=\"color: #808000; text-decoration-color: #808000; font-weight: bold\">📋 Task: 821c2653-401a-489f-938c-52ac44243402</span>\n",
       "    <span style=\"color: #c0c0c0; text-decoration-color: #c0c0c0\">   Status: </span><span style=\"color: #bfbf7f; text-decoration-color: #bfbf7f\">Executing Task...</span>\n",
       "    ├── <span style=\"color: #008000; text-decoration-color: #008000; font-weight: bold\">🤖 Agent: </span><span style=\"color: #008000; text-decoration-color: #008000\">Research Assistant</span>\n",
       "    │   <span style=\"color: #c0c0c0; text-decoration-color: #c0c0c0\">    Status: </span><span style=\"color: #008000; text-decoration-color: #008000; font-weight: bold\">In Progress</span>\n",
       "    └── <span style=\"color: #008000; text-decoration-color: #008000; font-weight: bold\">🤖 Agent: </span><span style=\"color: #008000; text-decoration-color: #008000\">Research Assistant</span>\n",
       "        <span style=\"color: #c0c0c0; text-decoration-color: #c0c0c0\">    Status: </span><span style=\"color: #008000; text-decoration-color: #008000; font-weight: bold\">In Progress</span>\n",
       "</pre>\n"
      ],
      "text/plain": [
       "\u001b[1;36m🚀 Crew: \u001b[0m\u001b[1;36mcrew\u001b[0m\n",
       "└── \u001b[1;33m📋 Task: 821c2653-401a-489f-938c-52ac44243402\u001b[0m\n",
       "    \u001b[37m   Status: \u001b[0m\u001b[2;33mExecuting Task...\u001b[0m\n",
       "    ├── \u001b[1;32m🤖 Agent: \u001b[0m\u001b[32mResearch Assistant\u001b[0m\n",
       "    │   \u001b[37m    Status: \u001b[0m\u001b[1;32mIn Progress\u001b[0m\n",
       "    └── \u001b[1;32m🤖 Agent: \u001b[0m\u001b[32mResearch Assistant\u001b[0m\n",
       "        \u001b[37m    Status: \u001b[0m\u001b[1;32mIn Progress\u001b[0m\n"
      ]
     },
     "metadata": {},
     "output_type": "display_data"
    },
    {
     "data": {
      "text/html": [
       "<pre style=\"white-space:pre;overflow-x:auto;line-height:normal;font-family:Menlo,'DejaVu Sans Mono',consolas,'Courier New',monospace\">\n",
       "</pre>\n"
      ],
      "text/plain": [
       "\n"
      ]
     },
     "metadata": {},
     "output_type": "display_data"
    },
    {
     "name": "stdout",
     "output_type": "stream",
     "text": [
      "\u001b[1m\u001b[95m# Agent:\u001b[00m \u001b[1m\u001b[92mResearch Assistant\u001b[00m\n",
      "\u001b[95m## Task:\u001b[00m \u001b[92mYou are a research agent with access to Wikipedia search. \n",
      "   A user wants to know about \"Artificial Intelligence history\". \n",
      "   \n",
      "   Step 1: Search Wikipedia for \"Artificial Intelligence history\"\n",
      "   Step 2: Summarize the key historical developments in AI\n",
      "   Step 3: Provide a concise overview of major milestones\n",
      "   \n",
      "   Respond as if you've searched and found information about AI history.\u001b[00m\n",
      "\n",
      "\n",
      "\u001b[1m\u001b[95m# Agent:\u001b[00m \u001b[1m\u001b[92mResearch Assistant\u001b[00m\n",
      "\u001b[95m## Final Answer:\u001b[00m \u001b[92m\n",
      "Artificial intelligence (AI) has a long history, dating back to ancient times with myths, stories and rumors of artificial beings endowed with intelligence or consciousness by master craftsmen. After World War II, a few scientists began to independently explore the possibility of building an artificial brain.\n",
      "\n",
      "The field of AI research was founded at a workshop held on the campus of Dartmouth College in the summer of 1956. Attendees Allen Newell, Cliff Shaw, Herbert Simon, Arthur Samuel, and John McCarthy would become the leaders of AI research for many years. They and their students wrote programs that were, to most people, simply astonishing: computers were solving algebra problems, proving logical theorems, and learning to speak English. By the middle of the 1960s, research in the U.S. was heavily funded by the Department of Defense and laboratories had been established around the world.\n",
      "\n",
      "AI researchers predicted that truly intelligent machines would be possible in just a few decades. Marvin Minsky, an AI pioneer, confidently stated in 1967 that \"Within a generation ... the problem of creating 'artificial intelligence' will substantially be solved.\" This optimism was based on limited successes such as Newell and Simon's General Problem Solver and symbolic AI approaches in general. However, the inherent limitations of these approaches, the lack of hardware processing power, and the failure to address the problem of common-sense reasoning soon became apparent.\n",
      "\n",
      "In the 1970s, AI research faced major setbacks. The Lighthill Report in Britain criticized AI's failures and led to drastic cuts in funding. In the United States, the Mansfield Amendment restricted the military's funding of basic research. The earlier optimism was replaced by a recognition of the immense difficulty of the remaining problems. Funding for AI projects dried up, and the period known as the \"AI winter\" began.\n",
      "\n",
      "In the early 1980s, AI research was revitalized by the commercial success of expert systems, a form of AI program that simulated the knowledge and reasoning of human experts in specific domains. These systems were adopted by corporations around the world and knowledge became a crucial ingredient in AI research. Japan's Fifth Generation Computer Systems project also spurred interest and investment in AI. However, the high expectations for expert systems soon faded as their limitations became clear. The cost of developing and maintaining them was high, they were difficult to update, and they could not handle unexpected situations. AI entered another \"winter\" in the late 1980s.\n",
      "\n",
      "Despite these setbacks, AI research continued to advance. In the 1990s and 2000s, AI achieved significant successes in various areas, such as machine learning, data mining, robotics, and computer vision. These successes were driven by factors such as increased computing power, the availability of large datasets, and the development of new algorithms and techniques. Deep learning, a subfield of machine learning, has revolutionized AI in recent years, leading to breakthroughs in areas such as image recognition, natural language processing, and speech recognition.\n",
      "\n",
      "Today, AI is a rapidly growing field with applications in many industries, including healthcare, finance, transportation, and entertainment. AI is also being used to address some of the world's most pressing challenges, such as climate change, poverty, and disease. The future of AI is uncertain, but it is clear that AI will continue to play an increasingly important role in our lives.\u001b[00m\n",
      "\n",
      "\n"
     ]
    },
    {
     "data": {
      "text/html": [
       "<pre style=\"white-space:pre;overflow-x:auto;line-height:normal;font-family:Menlo,'DejaVu Sans Mono',consolas,'Courier New',monospace\"><span style=\"color: #008080; text-decoration-color: #008080; font-weight: bold\">🚀 Crew: crew</span>\n",
       "└── <span style=\"color: #808000; text-decoration-color: #808000; font-weight: bold\">📋 Task: 821c2653-401a-489f-938c-52ac44243402</span>\n",
       "    <span style=\"color: #c0c0c0; text-decoration-color: #c0c0c0\">   Status: </span><span style=\"color: #bfbf7f; text-decoration-color: #bfbf7f\">Executing Task...</span>\n",
       "    ├── <span style=\"color: #008000; text-decoration-color: #008000; font-weight: bold\">🤖 Agent: </span><span style=\"color: #008000; text-decoration-color: #008000\">Research Assistant</span>\n",
       "    │   <span style=\"color: #c0c0c0; text-decoration-color: #c0c0c0\">    Status: </span><span style=\"color: #008000; text-decoration-color: #008000; font-weight: bold\">In Progress</span>\n",
       "    └── <span style=\"color: #008000; text-decoration-color: #008000; font-weight: bold\">🤖 Agent: </span><span style=\"color: #008000; text-decoration-color: #008000\">Research Assistant</span>\n",
       "        <span style=\"color: #c0c0c0; text-decoration-color: #c0c0c0\">    Status: </span><span style=\"color: #008000; text-decoration-color: #008000; font-weight: bold\">✅ Completed</span>\n",
       "</pre>\n"
      ],
      "text/plain": [
       "\u001b[1;36m🚀 Crew: \u001b[0m\u001b[1;36mcrew\u001b[0m\n",
       "└── \u001b[1;33m📋 Task: 821c2653-401a-489f-938c-52ac44243402\u001b[0m\n",
       "    \u001b[37m   Status: \u001b[0m\u001b[2;33mExecuting Task...\u001b[0m\n",
       "    ├── \u001b[1;32m🤖 Agent: \u001b[0m\u001b[32mResearch Assistant\u001b[0m\n",
       "    │   \u001b[37m    Status: \u001b[0m\u001b[1;32mIn Progress\u001b[0m\n",
       "    └── \u001b[1;32m🤖 Agent: \u001b[0m\u001b[32mResearch Assistant\u001b[0m\n",
       "        \u001b[37m    Status: \u001b[0m\u001b[1;32m✅ Completed\u001b[0m\n"
      ]
     },
     "metadata": {},
     "output_type": "display_data"
    },
    {
     "data": {
      "text/html": [
       "<pre style=\"white-space:pre;overflow-x:auto;line-height:normal;font-family:Menlo,'DejaVu Sans Mono',consolas,'Courier New',monospace\">\n",
       "</pre>\n"
      ],
      "text/plain": [
       "\n"
      ]
     },
     "metadata": {},
     "output_type": "display_data"
    },
    {
     "data": {
      "text/html": [
       "<pre style=\"white-space:pre;overflow-x:auto;line-height:normal;font-family:Menlo,'DejaVu Sans Mono',consolas,'Courier New',monospace\"><span style=\"color: #008080; text-decoration-color: #008080; font-weight: bold\">🚀 Crew: crew</span>\n",
       "└── <span style=\"color: #808000; text-decoration-color: #808000; font-weight: bold\">📋 Task: 821c2653-401a-489f-938c-52ac44243402</span>\n",
       "    <span style=\"color: #c0c0c0; text-decoration-color: #c0c0c0\">   Status: </span><span style=\"color: #bfbf7f; text-decoration-color: #bfbf7f\">Executing Task...</span>\n",
       "    ├── <span style=\"color: #008000; text-decoration-color: #008000; font-weight: bold\">🤖 Agent: </span><span style=\"color: #008000; text-decoration-color: #008000\">Research Assistant</span>\n",
       "    │   <span style=\"color: #c0c0c0; text-decoration-color: #c0c0c0\">    Status: </span><span style=\"color: #008000; text-decoration-color: #008000; font-weight: bold\">In Progress</span>\n",
       "    └── <span style=\"color: #008000; text-decoration-color: #008000; font-weight: bold\">🤖 Agent: </span><span style=\"color: #008000; text-decoration-color: #008000\">Research Assistant</span>\n",
       "        <span style=\"color: #c0c0c0; text-decoration-color: #c0c0c0\">    Status: </span><span style=\"color: #008000; text-decoration-color: #008000; font-weight: bold\">✅ Completed</span>\n",
       "</pre>\n"
      ],
      "text/plain": [
       "\u001b[1;36m🚀 Crew: \u001b[0m\u001b[1;36mcrew\u001b[0m\n",
       "└── \u001b[1;33m📋 Task: 821c2653-401a-489f-938c-52ac44243402\u001b[0m\n",
       "    \u001b[37m   Status: \u001b[0m\u001b[2;33mExecuting Task...\u001b[0m\n",
       "    ├── \u001b[1;32m🤖 Agent: \u001b[0m\u001b[32mResearch Assistant\u001b[0m\n",
       "    │   \u001b[37m    Status: \u001b[0m\u001b[1;32mIn Progress\u001b[0m\n",
       "    └── \u001b[1;32m🤖 Agent: \u001b[0m\u001b[32mResearch Assistant\u001b[0m\n",
       "        \u001b[37m    Status: \u001b[0m\u001b[1;32m✅ Completed\u001b[0m\n"
      ]
     },
     "metadata": {},
     "output_type": "display_data"
    },
    {
     "data": {
      "text/html": [
       "<pre style=\"white-space:pre;overflow-x:auto;line-height:normal;font-family:Menlo,'DejaVu Sans Mono',consolas,'Courier New',monospace\">\n",
       "</pre>\n"
      ],
      "text/plain": [
       "\n"
      ]
     },
     "metadata": {},
     "output_type": "display_data"
    },
    {
     "data": {
      "text/html": [
       "<pre style=\"white-space:pre;overflow-x:auto;line-height:normal;font-family:Menlo,'DejaVu Sans Mono',consolas,'Courier New',monospace\"><span style=\"color: #008080; text-decoration-color: #008080; font-weight: bold\">🚀 Crew: crew</span>\n",
       "└── <span style=\"color: #008000; text-decoration-color: #008000; font-weight: bold\">📋 Task: 821c2653-401a-489f-938c-52ac44243402</span>\n",
       "    <span style=\"color: #c0c0c0; text-decoration-color: #c0c0c0\">   Assigned to: </span><span style=\"color: #008000; text-decoration-color: #008000\">Research Assistant</span>\n",
       "    <span style=\"color: #c0c0c0; text-decoration-color: #c0c0c0\">   Status: </span><span style=\"color: #008000; text-decoration-color: #008000; font-weight: bold\">✅ Completed</span>\n",
       "    ├── <span style=\"color: #008000; text-decoration-color: #008000; font-weight: bold\">🤖 Agent: </span><span style=\"color: #008000; text-decoration-color: #008000\">Research Assistant</span>\n",
       "    │   <span style=\"color: #c0c0c0; text-decoration-color: #c0c0c0\">    Status: </span><span style=\"color: #008000; text-decoration-color: #008000; font-weight: bold\">In Progress</span>\n",
       "    └── <span style=\"color: #008000; text-decoration-color: #008000; font-weight: bold\">🤖 Agent: </span><span style=\"color: #008000; text-decoration-color: #008000\">Research Assistant</span>\n",
       "        <span style=\"color: #c0c0c0; text-decoration-color: #c0c0c0\">    Status: </span><span style=\"color: #008000; text-decoration-color: #008000; font-weight: bold\">✅ Completed</span>\n",
       "</pre>\n"
      ],
      "text/plain": [
       "\u001b[1;36m🚀 Crew: \u001b[0m\u001b[1;36mcrew\u001b[0m\n",
       "└── \u001b[1;32m📋 Task: 821c2653-401a-489f-938c-52ac44243402\u001b[0m\n",
       "    \u001b[37m   Assigned to: \u001b[0m\u001b[32mResearch Assistant\u001b[0m\n",
       "    \u001b[37m   Status: \u001b[0m\u001b[1;32m✅ Completed\u001b[0m\n",
       "    ├── \u001b[1;32m🤖 Agent: \u001b[0m\u001b[32mResearch Assistant\u001b[0m\n",
       "    │   \u001b[37m    Status: \u001b[0m\u001b[1;32mIn Progress\u001b[0m\n",
       "    └── \u001b[1;32m🤖 Agent: \u001b[0m\u001b[32mResearch Assistant\u001b[0m\n",
       "        \u001b[37m    Status: \u001b[0m\u001b[1;32m✅ Completed\u001b[0m\n"
      ]
     },
     "metadata": {},
     "output_type": "display_data"
    },
    {
     "data": {
      "text/html": [
       "<pre style=\"white-space:pre;overflow-x:auto;line-height:normal;font-family:Menlo,'DejaVu Sans Mono',consolas,'Courier New',monospace\"><span style=\"color: #008000; text-decoration-color: #008000\">╭──────────────────────────────────────────────── Task Completion ────────────────────────────────────────────────╮</span>\n",
       "<span style=\"color: #008000; text-decoration-color: #008000\">│</span>                                                                                                                 <span style=\"color: #008000; text-decoration-color: #008000\">│</span>\n",
       "<span style=\"color: #008000; text-decoration-color: #008000\">│</span>  <span style=\"color: #008000; text-decoration-color: #008000; font-weight: bold\">Task Completed</span>                                                                                                 <span style=\"color: #008000; text-decoration-color: #008000\">│</span>\n",
       "<span style=\"color: #008000; text-decoration-color: #008000\">│</span>  <span style=\"color: #c0c0c0; text-decoration-color: #c0c0c0\">Name: </span><span style=\"color: #008000; text-decoration-color: #008000\">821c2653-401a-489f-938c-52ac44243402</span>                                                                     <span style=\"color: #008000; text-decoration-color: #008000\">│</span>\n",
       "<span style=\"color: #008000; text-decoration-color: #008000\">│</span>  <span style=\"color: #c0c0c0; text-decoration-color: #c0c0c0\">Agent: </span><span style=\"color: #008000; text-decoration-color: #008000\">Research Assistant</span>                                                                                      <span style=\"color: #008000; text-decoration-color: #008000\">│</span>\n",
       "<span style=\"color: #008000; text-decoration-color: #008000\">│</span>                                                                                                                 <span style=\"color: #008000; text-decoration-color: #008000\">│</span>\n",
       "<span style=\"color: #008000; text-decoration-color: #008000\">│</span>                                                                                                                 <span style=\"color: #008000; text-decoration-color: #008000\">│</span>\n",
       "<span style=\"color: #008000; text-decoration-color: #008000\">╰─────────────────────────────────────────────────────────────────────────────────────────────────────────────────╯</span>\n",
       "</pre>\n"
      ],
      "text/plain": [
       "\u001b[32m╭─\u001b[0m\u001b[32m───────────────────────────────────────────────\u001b[0m\u001b[32m Task Completion \u001b[0m\u001b[32m───────────────────────────────────────────────\u001b[0m\u001b[32m─╮\u001b[0m\n",
       "\u001b[32m│\u001b[0m                                                                                                                 \u001b[32m│\u001b[0m\n",
       "\u001b[32m│\u001b[0m  \u001b[1;32mTask Completed\u001b[0m                                                                                                 \u001b[32m│\u001b[0m\n",
       "\u001b[32m│\u001b[0m  \u001b[37mName: \u001b[0m\u001b[32m821c2653-401a-489f-938c-52ac44243402\u001b[0m                                                                     \u001b[32m│\u001b[0m\n",
       "\u001b[32m│\u001b[0m  \u001b[37mAgent: \u001b[0m\u001b[32mResearch Assistant\u001b[0m                                                                                      \u001b[32m│\u001b[0m\n",
       "\u001b[32m│\u001b[0m                                                                                                                 \u001b[32m│\u001b[0m\n",
       "\u001b[32m│\u001b[0m                                                                                                                 \u001b[32m│\u001b[0m\n",
       "\u001b[32m╰─────────────────────────────────────────────────────────────────────────────────────────────────────────────────╯\u001b[0m\n"
      ]
     },
     "metadata": {},
     "output_type": "display_data"
    },
    {
     "data": {
      "text/html": [
       "<pre style=\"white-space:pre;overflow-x:auto;line-height:normal;font-family:Menlo,'DejaVu Sans Mono',consolas,'Courier New',monospace\">\n",
       "</pre>\n"
      ],
      "text/plain": [
       "\n"
      ]
     },
     "metadata": {},
     "output_type": "display_data"
    },
    {
     "data": {
      "text/html": [
       "<pre style=\"white-space:pre;overflow-x:auto;line-height:normal;font-family:Menlo,'DejaVu Sans Mono',consolas,'Courier New',monospace\"><span style=\"color: #008000; text-decoration-color: #008000\">╭──────────────────────────────────────────────── Crew Completion ────────────────────────────────────────────────╮</span>\n",
       "<span style=\"color: #008000; text-decoration-color: #008000\">│</span>                                                                                                                 <span style=\"color: #008000; text-decoration-color: #008000\">│</span>\n",
       "<span style=\"color: #008000; text-decoration-color: #008000\">│</span>  <span style=\"color: #008000; text-decoration-color: #008000; font-weight: bold\">Crew Execution Completed</span>                                                                                       <span style=\"color: #008000; text-decoration-color: #008000\">│</span>\n",
       "<span style=\"color: #008000; text-decoration-color: #008000\">│</span>  <span style=\"color: #c0c0c0; text-decoration-color: #c0c0c0\">Name: </span><span style=\"color: #008000; text-decoration-color: #008000\">crew</span>                                                                                                     <span style=\"color: #008000; text-decoration-color: #008000\">│</span>\n",
       "<span style=\"color: #008000; text-decoration-color: #008000\">│</span>  <span style=\"color: #c0c0c0; text-decoration-color: #c0c0c0\">ID: </span><span style=\"color: #008000; text-decoration-color: #008000\">622054c3-27ee-4201-aa9e-4d3fc3027317</span>                                                                       <span style=\"color: #008000; text-decoration-color: #008000\">│</span>\n",
       "<span style=\"color: #008000; text-decoration-color: #008000\">│</span>                                                                                                                 <span style=\"color: #008000; text-decoration-color: #008000\">│</span>\n",
       "<span style=\"color: #008000; text-decoration-color: #008000\">│</span>                                                                                                                 <span style=\"color: #008000; text-decoration-color: #008000\">│</span>\n",
       "<span style=\"color: #008000; text-decoration-color: #008000\">╰─────────────────────────────────────────────────────────────────────────────────────────────────────────────────╯</span>\n",
       "</pre>\n"
      ],
      "text/plain": [
       "\u001b[32m╭─\u001b[0m\u001b[32m───────────────────────────────────────────────\u001b[0m\u001b[32m Crew Completion \u001b[0m\u001b[32m───────────────────────────────────────────────\u001b[0m\u001b[32m─╮\u001b[0m\n",
       "\u001b[32m│\u001b[0m                                                                                                                 \u001b[32m│\u001b[0m\n",
       "\u001b[32m│\u001b[0m  \u001b[1;32mCrew Execution Completed\u001b[0m                                                                                       \u001b[32m│\u001b[0m\n",
       "\u001b[32m│\u001b[0m  \u001b[37mName: \u001b[0m\u001b[32mcrew\u001b[0m                                                                                                     \u001b[32m│\u001b[0m\n",
       "\u001b[32m│\u001b[0m  \u001b[37mID: \u001b[0m\u001b[32m622054c3-27ee-4201-aa9e-4d3fc3027317\u001b[0m                                                                       \u001b[32m│\u001b[0m\n",
       "\u001b[32m│\u001b[0m                                                                                                                 \u001b[32m│\u001b[0m\n",
       "\u001b[32m│\u001b[0m                                                                                                                 \u001b[32m│\u001b[0m\n",
       "\u001b[32m╰─────────────────────────────────────────────────────────────────────────────────────────────────────────────────╯\u001b[0m\n"
      ]
     },
     "metadata": {},
     "output_type": "display_data"
    },
    {
     "data": {
      "text/html": [
       "<pre style=\"white-space:pre;overflow-x:auto;line-height:normal;font-family:Menlo,'DejaVu Sans Mono',consolas,'Courier New',monospace\">\n",
       "</pre>\n"
      ],
      "text/plain": [
       "\n"
      ]
     },
     "metadata": {},
     "output_type": "display_data"
    },
    {
     "name": "stdout",
     "output_type": "stream",
     "text": [
      "\n",
      "Tool Agent Results:\n",
      "Artificial intelligence (AI) has a long history, dating back to ancient times with myths, stories and rumors of artificial beings endowed with intelligence or consciousness by master craftsmen. After World War II, a few scientists began to independently explore the possibility of building an artificial brain.\n",
      "\n",
      "The field of AI research was founded at a workshop held on the campus of Dartmouth College in the summer of 1956. Attendees Allen Newell, Cliff Shaw, Herbert Simon, Arthur Samuel, and John McCarthy would become the leaders of AI research for many years. They and their students wrote programs that were, to most people, simply astonishing: computers were solving algebra problems, proving logical theorems, and learning to speak English. By the middle of the 1960s, research in the U.S. was heavily funded by the Department of Defense and laboratories had been established around the world.\n",
      "\n",
      "AI researchers predicted that truly intelligent machines would be possible in just a few decades. Marvin Minsky, an AI pioneer, confidently stated in 1967 that \"Within a generation ... the problem of creating 'artificial intelligence' will substantially be solved.\" This optimism was based on limited successes such as Newell and Simon's General Problem Solver and symbolic AI approaches in general. However, the inherent limitations of these approaches, the lack of hardware processing power, and the failure to address the problem of common-sense reasoning soon became apparent.\n",
      "\n",
      "In the 1970s, AI research faced major setbacks. The Lighthill Report in Britain criticized AI's failures and led to drastic cuts in funding. In the United States, the Mansfield Amendment restricted the military's funding of basic research. The earlier optimism was replaced by a recognition of the immense difficulty of the remaining problems. Funding for AI projects dried up, and the period known as the \"AI winter\" began.\n",
      "\n",
      "In the early 1980s, AI research was revitalized by the commercial success of expert systems, a form of AI program that simulated the knowledge and reasoning of human experts in specific domains. These systems were adopted by corporations around the world and knowledge became a crucial ingredient in AI research. Japan's Fifth Generation Computer Systems project also spurred interest and investment in AI. However, the high expectations for expert systems soon faded as their limitations became clear. The cost of developing and maintaining them was high, they were difficult to update, and they could not handle unexpected situations. AI entered another \"winter\" in the late 1980s.\n",
      "\n",
      "Despite these setbacks, AI research continued to advance. In the 1990s and 2000s, AI achieved significant successes in various areas, such as machine learning, data mining, robotics, and computer vision. These successes were driven by factors such as increased computing power, the availability of large datasets, and the development of new algorithms and techniques. Deep learning, a subfield of machine learning, has revolutionized AI in recent years, leading to breakthroughs in areas such as image recognition, natural language processing, and speech recognition.\n",
      "\n",
      "Today, AI is a rapidly growing field with applications in many industries, including healthcare, finance, transportation, and entertainment. AI is also being used to address some of the world's most pressing challenges, such as climate change, poverty, and disease. The future of AI is uncertain, but it is clear that AI will continue to play an increasingly important role in our lives.\n",
      "\n",
      "--- Direct Wikipedia Search for Reference ---\n",
      "Direct search result: Page: Python (programming language)\n",
      "Summary: Python is a high-level, general-purpose programming language. Its design philosophy emphasizes code readability with the use of significant indentation.\n",
      "Python is dynamically type-checked and garbage-collected. It supports multiple programming paradigms, including structured (particularly procedural), object-oriented and functional programming. It is often described as a \"batteries included\" language due to its comprehensive standard library.\n",
      "Guido van Rossum began working on Python in the late 1980s as a successor to the ABC programming language, and he first released it in 1991 as Python 0.9.0. Python 2.0 was released in 2000. Python 3.0, released in 2008, was a major revision not completely backward-compatible with earlier versions. Python 2.\n"
     ]
    }
   ],
   "source": [
    "# Create a tool-using agent with Wikipedia search capability\n",
    "from langchain_community.utilities import WikipediaAPIWrapper\n",
    "\n",
    "# Initialize Wikipedia utility\n",
    "wiki_util = WikipediaAPIWrapper()\n",
    "\n",
    "# Create tool-integrated agent\n",
    "tool_agent = Agent(\n",
    "   role=\"Research Assistant\",\n",
    "   goal=\"Find accurate information using available tools to answer user questions\",\n",
    "   backstory=\"\"\"You are a research assistant who can access Wikipedia to find information.\n",
    "   When a user asks for information, you should search Wikipedia and provide relevant answers.\"\"\",\n",
    "   verbose=True,\n",
    "   allow_delegation=False,\n",
    "   llm=llm\n",
    ")\n",
    "\n",
    "# Create a simple tool-using task\n",
    "search_task = Task(\n",
    "   description=\"\"\"Search for information about \"Python programming language\" and provide a brief summary.\"\"\",\n",
    "   expected_output=\"Summary of information found about Python programming language\",\n",
    "   agent=tool_agent\n",
    ")\n",
    "\n",
    "# Test tool usage with direct search function\n",
    "def execute_search_tool(query):\n",
    "   try:\n",
    "       result = wiki_util.run(query)\n",
    "       return result[:800]  # Limit response length\n",
    "   except Exception as e:\n",
    "       return f\"Search error: {str(e)}\"\n",
    "\n",
    "# Since CrewAI doesn't easily support custom tools with Gemini,\n",
    "# we'll create a workaround agent that \"uses tools\" via task description\n",
    "tool_task = Task(\n",
    "   description=\"\"\"You are a research agent with access to Wikipedia search.\n",
    "   A user wants to know about \"Artificial Intelligence history\".\n",
    "\n",
    "   Step 1: Search Wikipedia for \"Artificial Intelligence history\"\n",
    "   Step 2: Summarize the key historical developments in AI\n",
    "   Step 3: Provide a concise overview of major milestones\n",
    "\n",
    "   Respond as if you've searched and found information about AI history.\"\"\",\n",
    "   expected_output=\"Summary of Artificial Intelligence history from Wikipedia\",\n",
    "   agent=tool_agent\n",
    ")\n",
    "\n",
    "# Execute search crew\n",
    "tool_crew = Crew(\n",
    "   agents=[tool_agent],\n",
    "   tasks=[tool_task],\n",
    "   verbose=True\n",
    ")\n",
    "\n",
    "print(\"Executing tool agent...\")\n",
    "tool_result = tool_crew.kickoff()\n",
    "print(\"\\nTool Agent Results:\")\n",
    "print(tool_result)\n",
    "\n",
    "# Alternative demonstration: directly search and format response\n",
    "print(\"\\n--- Direct Wikipedia Search for Reference ---\")\n",
    "search_result = execute_search_tool(\"Python programming language\")\n",
    "print(f\"Direct search result: {search_result}\")"
   ]
  },
  {
   "cell_type": "code",
   "execution_count": 20,
   "metadata": {
    "colab": {
     "base_uri": "https://localhost:8080/",
     "height": 1000
    },
    "executionInfo": {
     "elapsed": 34896,
     "status": "ok",
     "timestamp": 1746263960790,
     "user": {
      "displayName": "Pruthvik Sheth",
      "userId": "03427505168681154907"
     },
     "user_tz": 420
    },
    "id": "ywbiWPBebu7o",
    "outputId": "977acd80-7346-445a-ecbd-2a6abcc61a74"
   },
   "outputs": [
    {
     "name": "stdout",
     "output_type": "stream",
     "text": [
      "Starting collaborative crew workflow...\n"
     ]
    },
    {
     "data": {
      "text/html": [
       "<pre style=\"white-space:pre;overflow-x:auto;line-height:normal;font-family:Menlo,'DejaVu Sans Mono',consolas,'Courier New',monospace\"><span style=\"color: #008080; text-decoration-color: #008080\">╭──────────────────────────────────────────── Crew Execution Started ─────────────────────────────────────────────╮</span>\n",
       "<span style=\"color: #008080; text-decoration-color: #008080\">│</span>                                                                                                                 <span style=\"color: #008080; text-decoration-color: #008080\">│</span>\n",
       "<span style=\"color: #008080; text-decoration-color: #008080\">│</span>  <span style=\"color: #008080; text-decoration-color: #008080; font-weight: bold\">Crew Execution Started</span>                                                                                         <span style=\"color: #008080; text-decoration-color: #008080\">│</span>\n",
       "<span style=\"color: #008080; text-decoration-color: #008080\">│</span>  <span style=\"color: #c0c0c0; text-decoration-color: #c0c0c0\">Name: </span><span style=\"color: #008080; text-decoration-color: #008080\">crew</span>                                                                                                     <span style=\"color: #008080; text-decoration-color: #008080\">│</span>\n",
       "<span style=\"color: #008080; text-decoration-color: #008080\">│</span>  <span style=\"color: #c0c0c0; text-decoration-color: #c0c0c0\">ID: </span><span style=\"color: #008080; text-decoration-color: #008080\">902278e0-a5b0-4aa2-afec-cae9ab4f4770</span>                                                                       <span style=\"color: #008080; text-decoration-color: #008080\">│</span>\n",
       "<span style=\"color: #008080; text-decoration-color: #008080\">│</span>                                                                                                                 <span style=\"color: #008080; text-decoration-color: #008080\">│</span>\n",
       "<span style=\"color: #008080; text-decoration-color: #008080\">│</span>                                                                                                                 <span style=\"color: #008080; text-decoration-color: #008080\">│</span>\n",
       "<span style=\"color: #008080; text-decoration-color: #008080\">╰─────────────────────────────────────────────────────────────────────────────────────────────────────────────────╯</span>\n",
       "</pre>\n"
      ],
      "text/plain": [
       "\u001b[36m╭─\u001b[0m\u001b[36m───────────────────────────────────────────\u001b[0m\u001b[36m Crew Execution Started \u001b[0m\u001b[36m────────────────────────────────────────────\u001b[0m\u001b[36m─╮\u001b[0m\n",
       "\u001b[36m│\u001b[0m                                                                                                                 \u001b[36m│\u001b[0m\n",
       "\u001b[36m│\u001b[0m  \u001b[1;36mCrew Execution Started\u001b[0m                                                                                         \u001b[36m│\u001b[0m\n",
       "\u001b[36m│\u001b[0m  \u001b[37mName: \u001b[0m\u001b[36mcrew\u001b[0m                                                                                                     \u001b[36m│\u001b[0m\n",
       "\u001b[36m│\u001b[0m  \u001b[37mID: \u001b[0m\u001b[36m902278e0-a5b0-4aa2-afec-cae9ab4f4770\u001b[0m                                                                       \u001b[36m│\u001b[0m\n",
       "\u001b[36m│\u001b[0m                                                                                                                 \u001b[36m│\u001b[0m\n",
       "\u001b[36m│\u001b[0m                                                                                                                 \u001b[36m│\u001b[0m\n",
       "\u001b[36m╰─────────────────────────────────────────────────────────────────────────────────────────────────────────────────╯\u001b[0m\n"
      ]
     },
     "metadata": {},
     "output_type": "display_data"
    },
    {
     "data": {
      "text/html": [
       "<pre style=\"white-space:pre;overflow-x:auto;line-height:normal;font-family:Menlo,'DejaVu Sans Mono',consolas,'Courier New',monospace\">\n",
       "</pre>\n"
      ],
      "text/plain": [
       "\n"
      ]
     },
     "metadata": {},
     "output_type": "display_data"
    },
    {
     "data": {
      "text/html": [
       "<pre style=\"white-space:pre;overflow-x:auto;line-height:normal;font-family:Menlo,'DejaVu Sans Mono',consolas,'Courier New',monospace\"><span style=\"color: #008080; text-decoration-color: #008080; font-weight: bold\">🚀 Crew: crew</span>\n",
       "└── <span style=\"color: #808000; text-decoration-color: #808000; font-weight: bold\">📋 Task: 5d4329e1-0989-49c3-8dca-339d45656f8f</span>\n",
       "    <span style=\"color: #c0c0c0; text-decoration-color: #c0c0c0\">   Status: </span><span style=\"color: #bfbf7f; text-decoration-color: #bfbf7f\">Executing Task...</span>\n",
       "</pre>\n"
      ],
      "text/plain": [
       "\u001b[1;36m🚀 Crew: \u001b[0m\u001b[1;36mcrew\u001b[0m\n",
       "└── \u001b[1;33m📋 Task: 5d4329e1-0989-49c3-8dca-339d45656f8f\u001b[0m\n",
       "    \u001b[37m   Status: \u001b[0m\u001b[2;33mExecuting Task...\u001b[0m\n"
      ]
     },
     "metadata": {},
     "output_type": "display_data"
    },
    {
     "data": {
      "text/html": [
       "<pre style=\"white-space:pre;overflow-x:auto;line-height:normal;font-family:Menlo,'DejaVu Sans Mono',consolas,'Courier New',monospace\">\n",
       "</pre>\n"
      ],
      "text/plain": [
       "\n"
      ]
     },
     "metadata": {},
     "output_type": "display_data"
    },
    {
     "data": {
      "text/html": [
       "<pre style=\"white-space:pre;overflow-x:auto;line-height:normal;font-family:Menlo,'DejaVu Sans Mono',consolas,'Courier New',monospace\"><span style=\"color: #008080; text-decoration-color: #008080; font-weight: bold\">🚀 Crew: crew</span>\n",
       "└── <span style=\"color: #808000; text-decoration-color: #808000; font-weight: bold\">📋 Task: 5d4329e1-0989-49c3-8dca-339d45656f8f</span>\n",
       "    <span style=\"color: #c0c0c0; text-decoration-color: #c0c0c0\">   Status: </span><span style=\"color: #bfbf7f; text-decoration-color: #bfbf7f\">Executing Task...</span>\n",
       "    └── <span style=\"color: #008000; text-decoration-color: #008000; font-weight: bold\">🤖 Agent: </span><span style=\"color: #008000; text-decoration-color: #008000\">Research Analyst</span>\n",
       "        <span style=\"color: #c0c0c0; text-decoration-color: #c0c0c0\">    Status: </span><span style=\"color: #008000; text-decoration-color: #008000; font-weight: bold\">In Progress</span>\n",
       "</pre>\n"
      ],
      "text/plain": [
       "\u001b[1;36m🚀 Crew: \u001b[0m\u001b[1;36mcrew\u001b[0m\n",
       "└── \u001b[1;33m📋 Task: 5d4329e1-0989-49c3-8dca-339d45656f8f\u001b[0m\n",
       "    \u001b[37m   Status: \u001b[0m\u001b[2;33mExecuting Task...\u001b[0m\n",
       "    └── \u001b[1;32m🤖 Agent: \u001b[0m\u001b[32mResearch Analyst\u001b[0m\n",
       "        \u001b[37m    Status: \u001b[0m\u001b[1;32mIn Progress\u001b[0m\n"
      ]
     },
     "metadata": {},
     "output_type": "display_data"
    },
    {
     "data": {
      "text/html": [
       "<pre style=\"white-space:pre;overflow-x:auto;line-height:normal;font-family:Menlo,'DejaVu Sans Mono',consolas,'Courier New',monospace\">\n",
       "</pre>\n"
      ],
      "text/plain": [
       "\n"
      ]
     },
     "metadata": {},
     "output_type": "display_data"
    },
    {
     "name": "stdout",
     "output_type": "stream",
     "text": [
      "\u001b[1m\u001b[95m# Agent:\u001b[00m \u001b[1m\u001b[92mResearch Analyst\u001b[00m\n",
      "\u001b[95m## Task:\u001b[00m \u001b[92mResearch comprehensive information about \"Cloud Computing Services\":\n",
      "   1. Define what cloud computing is\n",
      "   2. List major cloud service providers\n",
      "   3. Explain types of cloud services (IaaS, PaaS, SaaS)\n",
      "   4. Describe benefits and challenges\u001b[00m\n",
      "\n",
      "\n",
      "\u001b[1m\u001b[95m# Agent:\u001b[00m \u001b[1m\u001b[92mResearch Analyst\u001b[00m\n",
      "\u001b[95m## Final Answer:\u001b[00m \u001b[92m\n",
      "## Cloud Computing Services: A Comprehensive Overview\n",
      "\n",
      "**1. Definition of Cloud Computing:**\n",
      "\n",
      "Cloud computing is the on-demand availability of computer system resources, especially data storage (cloud storage) and computing power, without direct active management by the user. The term is generally used to describe data centers available to many users over the Internet. Large clouds, predominant today, often have functions distributed over multiple locations from central servers. If the service is provided according to users' requirements, we call it cloud computing.\n",
      "\n",
      "Cloud computing allows companies and individuals to consume computing resources as a utility – just like electricity – rather than having to build and maintain computing infrastructures in-house. It provides access to shared pools of configurable computer system resources (networks, servers, storage, applications, and services) that can be rapidly provisioned and released with minimal management effort or service provider interaction.\n",
      "\n",
      "**Key characteristics of cloud computing include:**\n",
      "\n",
      "*   **On-demand self-service:** Consumers can unilaterally provision computing capabilities, such as server time and network storage, as needed automatically without requiring human interaction with each service provider.\n",
      "*   **Broad network access:** Capabilities are available over the network and accessed through standard mechanisms that promote use by heterogeneous thin or thick client platforms (e.g., mobile phones, tablets, laptops, and workstations).\n",
      "*   **Resource pooling:** The provider's computing resources are pooled to serve multiple consumers using a multi-tenant model, with different physical and virtual resources dynamically assigned and reassigned according to consumer demand. There is a location independence.\n",
      "*   **Rapid elasticity:** Capabilities can be elastically provisioned and released, in some cases automatically, to scale rapidly outward and inward commensurate with demand. To the consumer, the capabilities available often appear to be unlimited and can be appropriated in any quantity at any time.\n",
      "*   **Measured service:** Cloud systems automatically control and optimize resource use by leveraging a metering capability at some level of abstraction appropriate to the type of service (e.g., storage, processing, bandwidth, and active user accounts). Resource usage can be monitored, controlled, and reported, providing transparency for both the provider and consumer of the utilized service.\n",
      "\n",
      "**2. Major Cloud Service Providers:**\n",
      "\n",
      "The cloud computing market is dominated by a few major players, but also includes numerous smaller, specialized providers. Here's a list of some of the most prominent cloud service providers:\n",
      "\n",
      "*   **Amazon Web Services (AWS):** A comprehensive and broadly adopted cloud platform, offering a wide range of services including computing, storage, databases, analytics, machine learning, and more. AWS is generally considered the market leader.\n",
      "*   **Microsoft Azure:** Another leading cloud platform, providing a suite of services for computing, networking, storage, databases, analytics, AI, and IoT. Azure is tightly integrated with Microsoft's other products and services, making it a popular choice for organizations already using Microsoft technologies.\n",
      "*   **Google Cloud Platform (GCP):** A fast-growing cloud platform that offers a range of services including computing, storage, databases, data analytics, and machine learning. GCP is known for its strength in data analytics and machine learning, as well as its innovative technologies like Kubernetes.\n",
      "*   **Alibaba Cloud:** A major cloud provider, particularly in the Asia-Pacific region. It offers a wide range of services, including computing, storage, networking, databases, security, and AI.\n",
      "*   **IBM Cloud:** IBM offers a variety of cloud services, including IaaS, PaaS, and SaaS solutions. IBM Cloud emphasizes hybrid cloud solutions and enterprise-grade security.\n",
      "*   **Oracle Cloud Infrastructure (OCI):** Oracle's cloud platform, providing services for computing, storage, networking, databases, and applications. OCI is designed to support enterprise workloads and offers a focus on performance and security.\n",
      "*   **Salesforce:** Primarily known for its SaaS offerings, especially its customer relationship management (CRM) platform. Salesforce also offers PaaS solutions for building and deploying custom applications.\n",
      "*   **SAP:** Another major SaaS provider, specializing in enterprise resource planning (ERP) software and related services. SAP also offers PaaS solutions for developing and deploying custom applications on its platform.\n",
      "*   **DigitalOcean:** Focuses on providing cloud computing services to developers, offering simple and affordable virtual servers, storage, and networking solutions.\n",
      "*   **OVHcloud:** A European cloud provider offering a range of services, including IaaS, PaaS, and dedicated servers.\n",
      "\n",
      "**3. Types of Cloud Services (IaaS, PaaS, SaaS):**\n",
      "\n",
      "Cloud computing services are typically categorized into three main types: Infrastructure as a Service (IaaS), Platform as a Service (PaaS), and Software as a Service (SaaS).\n",
      "\n",
      "*   **Infrastructure as a Service (IaaS):**\n",
      "\n",
      "    *   **Description:** IaaS provides access to fundamental computing infrastructure—virtual machines, storage, networks, and operating systems—over the internet. You manage the operating systems, storage, deployed applications, and potentially select networking components (e.g., firewalls). The cloud provider manages the hardware, virtualization, and underlying infrastructure.\n",
      "    *   **Examples:** Amazon EC2, Microsoft Azure Virtual Machines, Google Compute Engine, DigitalOcean Droplets.\n",
      "    *   **Use Cases:**\n",
      "        *   Testing and development.\n",
      "        *   Storage, backup, and recovery.\n",
      "        *   Web hosting.\n",
      "        *   High-performance computing.\n",
      "        *   Enterprise infrastructure.\n",
      "    *   **Benefits:**\n",
      "        *   Flexibility and control over infrastructure.\n",
      "        *   Scalability and elasticity.\n",
      "        *   Pay-as-you-go pricing.\n",
      "        *   No upfront investment in hardware.\n",
      "    *   **Responsibilities:**\n",
      "        *   Customer: Managing operating systems, applications, data, runtime, middleware.\n",
      "        *   Provider: Managing virtualization, servers, storage, networking.\n",
      "*   **Platform as a Service (PaaS):**\n",
      "\n",
      "    *   **Description:** PaaS provides a platform allowing customers to develop, run, and manage applications without the complexity of building and maintaining the infrastructure associated with developing and launching an app. PaaS includes operating systems, programming language execution environments, databases, web servers, and more.\n",
      "    *   **Examples:** AWS Elastic Beanstalk, Google App Engine, Microsoft Azure App Service, Heroku, Red Hat OpenShift.\n",
      "    *   **Use Cases:**\n",
      "        *   Application development and deployment.\n",
      "        *   API development and management.\n",
      "        *   DevOps support.\n",
      "        *   Business analytics.\n",
      "    *   **Benefits:**\n",
      "        *   Reduced management overhead.\n",
      "        *   Faster development cycles.\n",
      "        *   Support for multiple programming languages and frameworks.\n",
      "        *   Collaboration and code sharing.\n",
      "    *   **Responsibilities:**\n",
      "        *   Customer: Managing applications and data.\n",
      "        *   Provider: Managing everything else (runtime, middleware, OS, virtualization, servers, storage, networking).\n",
      "*   **Software as a Service (SaaS):**\n",
      "\n",
      "    *   **Description:** SaaS provides access to software applications over the internet, typically on a subscription basis. Users can access the software from various devices without needing to install or manage anything. The cloud provider handles all aspects of the application, including infrastructure, maintenance, and updates.\n",
      "    *   **Examples:** Salesforce, Google Workspace (Gmail, Docs, Drive), Microsoft 365, Dropbox, Zoom.\n",
      "    *   **Use Cases:**\n",
      "        *   Customer relationship management (CRM).\n",
      "        *   Email and collaboration.\n",
      "        *   Office productivity.\n",
      "        *   Project management.\n",
      "        *   Content management.\n",
      "    *   **Benefits:**\n",
      "        *   Easy to use and access.\n",
      "        *   No installation or maintenance required.\n",
      "        *   Automatic updates.\n",
      "        *   Scalability and accessibility.\n",
      "    *   **Responsibilities:**\n",
      "        *   Customer: Using the software.\n",
      "        *   Provider: Managing everything (application, data, runtime, middleware, OS, virtualization, servers, storage, networking).\n",
      "\n",
      "**4. Benefits and Challenges of Cloud Computing:**\n",
      "\n",
      "**Benefits:**\n",
      "\n",
      "*   **Cost Savings:** Reduced capital expenditure (CapEx) on hardware and infrastructure. Pay-as-you-go pricing models can lower operational expenditure (OpEx).\n",
      "*   **Scalability and Elasticity:** Easily scale resources up or down based on demand, ensuring optimal performance and cost efficiency.\n",
      "*   **Increased Agility and Speed:** Faster deployment of applications and services, enabling businesses to respond quickly to changing market conditions.\n",
      "*   **Improved Collaboration:** Enhanced collaboration among teams through shared access to data and applications.\n",
      "*   **Business Continuity and Disaster Recovery:** Cloud-based backup and recovery solutions provide robust protection against data loss and downtime.\n",
      "*   **Access from Anywhere:** Access applications and data from any device with an internet connection.\n",
      "*   **Automatic Updates:** Cloud providers handle software updates and maintenance, freeing up IT staff to focus on other priorities.\n",
      "*   **Innovation:** Cloud computing provides access to cutting-edge technologies, such as AI, machine learning, and big data analytics.\n",
      "\n",
      "**Challenges:**\n",
      "\n",
      "*   **Security:** Concerns about data security and privacy in the cloud. Cloud providers must implement robust security measures to protect customer data.\n",
      "*   **Compliance:** Meeting regulatory compliance requirements (e.g., GDPR, HIPAA) can be complex in the cloud.\n",
      "*   **Vendor Lock-in:** Difficulty migrating data and applications from one cloud provider to another.\n",
      "*   **Downtime:** Cloud services can be subject to outages, which can disrupt business operations.\n",
      "*   **Lack of Control:** Less control over infrastructure compared to on-premises environments.\n",
      "*   **Complexity:** Managing cloud resources and services can be complex, requiring specialized skills and expertise.\n",
      "*   **Cost Management:** Unexpected costs can arise if cloud resources are not properly managed and optimized.\n",
      "*   **Network Dependency:** Reliance on a stable and reliable internet connection.\n",
      "\n",
      "In conclusion, cloud computing offers numerous benefits, including cost savings, scalability, and agility. However, it also presents challenges related to security, compliance, and vendor lock-in. Organizations should carefully evaluate their needs and choose the right cloud services and providers to maximize the benefits and mitigate the risks.\u001b[00m\n",
      "\n",
      "\n"
     ]
    },
    {
     "data": {
      "text/html": [
       "<pre style=\"white-space:pre;overflow-x:auto;line-height:normal;font-family:Menlo,'DejaVu Sans Mono',consolas,'Courier New',monospace\"><span style=\"color: #008080; text-decoration-color: #008080; font-weight: bold\">🚀 Crew: crew</span>\n",
       "└── <span style=\"color: #808000; text-decoration-color: #808000; font-weight: bold\">📋 Task: 5d4329e1-0989-49c3-8dca-339d45656f8f</span>\n",
       "    <span style=\"color: #c0c0c0; text-decoration-color: #c0c0c0\">   Status: </span><span style=\"color: #bfbf7f; text-decoration-color: #bfbf7f\">Executing Task...</span>\n",
       "    └── <span style=\"color: #008000; text-decoration-color: #008000; font-weight: bold\">🤖 Agent: </span><span style=\"color: #008000; text-decoration-color: #008000\">Research Analyst</span>\n",
       "        <span style=\"color: #c0c0c0; text-decoration-color: #c0c0c0\">    Status: </span><span style=\"color: #008000; text-decoration-color: #008000; font-weight: bold\">✅ Completed</span>\n",
       "</pre>\n"
      ],
      "text/plain": [
       "\u001b[1;36m🚀 Crew: \u001b[0m\u001b[1;36mcrew\u001b[0m\n",
       "└── \u001b[1;33m📋 Task: 5d4329e1-0989-49c3-8dca-339d45656f8f\u001b[0m\n",
       "    \u001b[37m   Status: \u001b[0m\u001b[2;33mExecuting Task...\u001b[0m\n",
       "    └── \u001b[1;32m🤖 Agent: \u001b[0m\u001b[32mResearch Analyst\u001b[0m\n",
       "        \u001b[37m    Status: \u001b[0m\u001b[1;32m✅ Completed\u001b[0m\n"
      ]
     },
     "metadata": {},
     "output_type": "display_data"
    },
    {
     "data": {
      "text/html": [
       "<pre style=\"white-space:pre;overflow-x:auto;line-height:normal;font-family:Menlo,'DejaVu Sans Mono',consolas,'Courier New',monospace\">\n",
       "</pre>\n"
      ],
      "text/plain": [
       "\n"
      ]
     },
     "metadata": {},
     "output_type": "display_data"
    },
    {
     "data": {
      "text/html": [
       "<pre style=\"white-space:pre;overflow-x:auto;line-height:normal;font-family:Menlo,'DejaVu Sans Mono',consolas,'Courier New',monospace\"><span style=\"color: #008080; text-decoration-color: #008080; font-weight: bold\">🚀 Crew: crew</span>\n",
       "└── <span style=\"color: #008000; text-decoration-color: #008000; font-weight: bold\">📋 Task: 5d4329e1-0989-49c3-8dca-339d45656f8f</span>\n",
       "    <span style=\"color: #c0c0c0; text-decoration-color: #c0c0c0\">   Assigned to: </span><span style=\"color: #008000; text-decoration-color: #008000\">Research Analyst</span>\n",
       "    <span style=\"color: #c0c0c0; text-decoration-color: #c0c0c0\">   Status: </span><span style=\"color: #008000; text-decoration-color: #008000; font-weight: bold\">✅ Completed</span>\n",
       "    └── <span style=\"color: #008000; text-decoration-color: #008000; font-weight: bold\">🤖 Agent: </span><span style=\"color: #008000; text-decoration-color: #008000\">Research Analyst</span>\n",
       "        <span style=\"color: #c0c0c0; text-decoration-color: #c0c0c0\">    Status: </span><span style=\"color: #008000; text-decoration-color: #008000; font-weight: bold\">✅ Completed</span>\n",
       "</pre>\n"
      ],
      "text/plain": [
       "\u001b[1;36m🚀 Crew: \u001b[0m\u001b[1;36mcrew\u001b[0m\n",
       "└── \u001b[1;32m📋 Task: 5d4329e1-0989-49c3-8dca-339d45656f8f\u001b[0m\n",
       "    \u001b[37m   Assigned to: \u001b[0m\u001b[32mResearch Analyst\u001b[0m\n",
       "    \u001b[37m   Status: \u001b[0m\u001b[1;32m✅ Completed\u001b[0m\n",
       "    └── \u001b[1;32m🤖 Agent: \u001b[0m\u001b[32mResearch Analyst\u001b[0m\n",
       "        \u001b[37m    Status: \u001b[0m\u001b[1;32m✅ Completed\u001b[0m\n"
      ]
     },
     "metadata": {},
     "output_type": "display_data"
    },
    {
     "data": {
      "text/html": [
       "<pre style=\"white-space:pre;overflow-x:auto;line-height:normal;font-family:Menlo,'DejaVu Sans Mono',consolas,'Courier New',monospace\"><span style=\"color: #008000; text-decoration-color: #008000\">╭──────────────────────────────────────────────── Task Completion ────────────────────────────────────────────────╮</span>\n",
       "<span style=\"color: #008000; text-decoration-color: #008000\">│</span>                                                                                                                 <span style=\"color: #008000; text-decoration-color: #008000\">│</span>\n",
       "<span style=\"color: #008000; text-decoration-color: #008000\">│</span>  <span style=\"color: #008000; text-decoration-color: #008000; font-weight: bold\">Task Completed</span>                                                                                                 <span style=\"color: #008000; text-decoration-color: #008000\">│</span>\n",
       "<span style=\"color: #008000; text-decoration-color: #008000\">│</span>  <span style=\"color: #c0c0c0; text-decoration-color: #c0c0c0\">Name: </span><span style=\"color: #008000; text-decoration-color: #008000\">5d4329e1-0989-49c3-8dca-339d45656f8f</span>                                                                     <span style=\"color: #008000; text-decoration-color: #008000\">│</span>\n",
       "<span style=\"color: #008000; text-decoration-color: #008000\">│</span>  <span style=\"color: #c0c0c0; text-decoration-color: #c0c0c0\">Agent: </span><span style=\"color: #008000; text-decoration-color: #008000\">Research Analyst</span>                                                                                        <span style=\"color: #008000; text-decoration-color: #008000\">│</span>\n",
       "<span style=\"color: #008000; text-decoration-color: #008000\">│</span>                                                                                                                 <span style=\"color: #008000; text-decoration-color: #008000\">│</span>\n",
       "<span style=\"color: #008000; text-decoration-color: #008000\">│</span>                                                                                                                 <span style=\"color: #008000; text-decoration-color: #008000\">│</span>\n",
       "<span style=\"color: #008000; text-decoration-color: #008000\">╰─────────────────────────────────────────────────────────────────────────────────────────────────────────────────╯</span>\n",
       "</pre>\n"
      ],
      "text/plain": [
       "\u001b[32m╭─\u001b[0m\u001b[32m───────────────────────────────────────────────\u001b[0m\u001b[32m Task Completion \u001b[0m\u001b[32m───────────────────────────────────────────────\u001b[0m\u001b[32m─╮\u001b[0m\n",
       "\u001b[32m│\u001b[0m                                                                                                                 \u001b[32m│\u001b[0m\n",
       "\u001b[32m│\u001b[0m  \u001b[1;32mTask Completed\u001b[0m                                                                                                 \u001b[32m│\u001b[0m\n",
       "\u001b[32m│\u001b[0m  \u001b[37mName: \u001b[0m\u001b[32m5d4329e1-0989-49c3-8dca-339d45656f8f\u001b[0m                                                                     \u001b[32m│\u001b[0m\n",
       "\u001b[32m│\u001b[0m  \u001b[37mAgent: \u001b[0m\u001b[32mResearch Analyst\u001b[0m                                                                                        \u001b[32m│\u001b[0m\n",
       "\u001b[32m│\u001b[0m                                                                                                                 \u001b[32m│\u001b[0m\n",
       "\u001b[32m│\u001b[0m                                                                                                                 \u001b[32m│\u001b[0m\n",
       "\u001b[32m╰─────────────────────────────────────────────────────────────────────────────────────────────────────────────────╯\u001b[0m\n"
      ]
     },
     "metadata": {},
     "output_type": "display_data"
    },
    {
     "data": {
      "text/html": [
       "<pre style=\"white-space:pre;overflow-x:auto;line-height:normal;font-family:Menlo,'DejaVu Sans Mono',consolas,'Courier New',monospace\">\n",
       "</pre>\n"
      ],
      "text/plain": [
       "\n"
      ]
     },
     "metadata": {},
     "output_type": "display_data"
    },
    {
     "data": {
      "text/html": [
       "<pre style=\"white-space:pre;overflow-x:auto;line-height:normal;font-family:Menlo,'DejaVu Sans Mono',consolas,'Courier New',monospace\"><span style=\"color: #008080; text-decoration-color: #008080; font-weight: bold\">🚀 Crew: crew</span>\n",
       "├── <span style=\"color: #008000; text-decoration-color: #008000; font-weight: bold\">📋 Task: 5d4329e1-0989-49c3-8dca-339d45656f8f</span>\n",
       "│   <span style=\"color: #c0c0c0; text-decoration-color: #c0c0c0\">   Assigned to: </span><span style=\"color: #008000; text-decoration-color: #008000\">Research Analyst</span>\n",
       "│   <span style=\"color: #c0c0c0; text-decoration-color: #c0c0c0\">   Status: </span><span style=\"color: #008000; text-decoration-color: #008000; font-weight: bold\">✅ Completed</span>\n",
       "│   └── <span style=\"color: #008000; text-decoration-color: #008000; font-weight: bold\">🤖 Agent: </span><span style=\"color: #008000; text-decoration-color: #008000\">Research Analyst</span>\n",
       "│       <span style=\"color: #c0c0c0; text-decoration-color: #c0c0c0\">    Status: </span><span style=\"color: #008000; text-decoration-color: #008000; font-weight: bold\">✅ Completed</span>\n",
       "└── <span style=\"color: #808000; text-decoration-color: #808000; font-weight: bold\">📋 Task: d47ca9a2-c36e-49b1-9b6d-0d8d5e2384e3</span>\n",
       "    <span style=\"color: #c0c0c0; text-decoration-color: #c0c0c0\">   Status: </span><span style=\"color: #bfbf7f; text-decoration-color: #bfbf7f\">Executing Task...</span>\n",
       "</pre>\n"
      ],
      "text/plain": [
       "\u001b[1;36m🚀 Crew: \u001b[0m\u001b[1;36mcrew\u001b[0m\n",
       "├── \u001b[1;32m📋 Task: 5d4329e1-0989-49c3-8dca-339d45656f8f\u001b[0m\n",
       "│   \u001b[37m   Assigned to: \u001b[0m\u001b[32mResearch Analyst\u001b[0m\n",
       "│   \u001b[37m   Status: \u001b[0m\u001b[1;32m✅ Completed\u001b[0m\n",
       "│   └── \u001b[1;32m🤖 Agent: \u001b[0m\u001b[32mResearch Analyst\u001b[0m\n",
       "│       \u001b[37m    Status: \u001b[0m\u001b[1;32m✅ Completed\u001b[0m\n",
       "└── \u001b[1;33m📋 Task: d47ca9a2-c36e-49b1-9b6d-0d8d5e2384e3\u001b[0m\n",
       "    \u001b[37m   Status: \u001b[0m\u001b[2;33mExecuting Task...\u001b[0m\n"
      ]
     },
     "metadata": {},
     "output_type": "display_data"
    },
    {
     "data": {
      "text/html": [
       "<pre style=\"white-space:pre;overflow-x:auto;line-height:normal;font-family:Menlo,'DejaVu Sans Mono',consolas,'Courier New',monospace\">\n",
       "</pre>\n"
      ],
      "text/plain": [
       "\n"
      ]
     },
     "metadata": {},
     "output_type": "display_data"
    },
    {
     "data": {
      "text/html": [
       "<pre style=\"white-space:pre;overflow-x:auto;line-height:normal;font-family:Menlo,'DejaVu Sans Mono',consolas,'Courier New',monospace\"><span style=\"color: #008080; text-decoration-color: #008080; font-weight: bold\">🚀 Crew: crew</span>\n",
       "├── <span style=\"color: #008000; text-decoration-color: #008000; font-weight: bold\">📋 Task: 5d4329e1-0989-49c3-8dca-339d45656f8f</span>\n",
       "│   <span style=\"color: #c0c0c0; text-decoration-color: #c0c0c0\">   Assigned to: </span><span style=\"color: #008000; text-decoration-color: #008000\">Research Analyst</span>\n",
       "│   <span style=\"color: #c0c0c0; text-decoration-color: #c0c0c0\">   Status: </span><span style=\"color: #008000; text-decoration-color: #008000; font-weight: bold\">✅ Completed</span>\n",
       "│   └── <span style=\"color: #008000; text-decoration-color: #008000; font-weight: bold\">🤖 Agent: </span><span style=\"color: #008000; text-decoration-color: #008000\">Research Analyst</span>\n",
       "│       <span style=\"color: #c0c0c0; text-decoration-color: #c0c0c0\">    Status: </span><span style=\"color: #008000; text-decoration-color: #008000; font-weight: bold\">✅ Completed</span>\n",
       "└── <span style=\"color: #808000; text-decoration-color: #808000; font-weight: bold\">📋 Task: d47ca9a2-c36e-49b1-9b6d-0d8d5e2384e3</span>\n",
       "    <span style=\"color: #c0c0c0; text-decoration-color: #c0c0c0\">   Status: </span><span style=\"color: #bfbf7f; text-decoration-color: #bfbf7f\">Executing Task...</span>\n",
       "    └── <span style=\"color: #008000; text-decoration-color: #008000; font-weight: bold\">🤖 Agent: </span><span style=\"color: #008000; text-decoration-color: #008000\">Content Writer</span>\n",
       "        <span style=\"color: #c0c0c0; text-decoration-color: #c0c0c0\">    Status: </span><span style=\"color: #008000; text-decoration-color: #008000; font-weight: bold\">In Progress</span>\n",
       "</pre>\n"
      ],
      "text/plain": [
       "\u001b[1;36m🚀 Crew: \u001b[0m\u001b[1;36mcrew\u001b[0m\n",
       "├── \u001b[1;32m📋 Task: 5d4329e1-0989-49c3-8dca-339d45656f8f\u001b[0m\n",
       "│   \u001b[37m   Assigned to: \u001b[0m\u001b[32mResearch Analyst\u001b[0m\n",
       "│   \u001b[37m   Status: \u001b[0m\u001b[1;32m✅ Completed\u001b[0m\n",
       "│   └── \u001b[1;32m🤖 Agent: \u001b[0m\u001b[32mResearch Analyst\u001b[0m\n",
       "│       \u001b[37m    Status: \u001b[0m\u001b[1;32m✅ Completed\u001b[0m\n",
       "└── \u001b[1;33m📋 Task: d47ca9a2-c36e-49b1-9b6d-0d8d5e2384e3\u001b[0m\n",
       "    \u001b[37m   Status: \u001b[0m\u001b[2;33mExecuting Task...\u001b[0m\n",
       "    └── \u001b[1;32m🤖 Agent: \u001b[0m\u001b[32mContent Writer\u001b[0m\n",
       "        \u001b[37m    Status: \u001b[0m\u001b[1;32mIn Progress\u001b[0m\n"
      ]
     },
     "metadata": {},
     "output_type": "display_data"
    },
    {
     "data": {
      "text/html": [
       "<pre style=\"white-space:pre;overflow-x:auto;line-height:normal;font-family:Menlo,'DejaVu Sans Mono',consolas,'Courier New',monospace\">\n",
       "</pre>\n"
      ],
      "text/plain": [
       "\n"
      ]
     },
     "metadata": {},
     "output_type": "display_data"
    },
    {
     "name": "stdout",
     "output_type": "stream",
     "text": [
      "\u001b[1m\u001b[95m# Agent:\u001b[00m \u001b[1m\u001b[92mContent Writer\u001b[00m\n",
      "\u001b[95m## Task:\u001b[00m \u001b[92mUsing the research provided, write an informative article about cloud computing:\n",
      "   1. Start with an engaging introduction\n",
      "   2. Explain the key concepts clearly\n",
      "   3. Provide examples and comparisons\n",
      "   4. Conclude with future outlook\u001b[00m\n",
      "\n",
      "\n",
      "\u001b[1m\u001b[95m# Agent:\u001b[00m \u001b[1m\u001b[92mContent Writer\u001b[00m\n",
      "\u001b[95m## Final Answer:\u001b[00m \u001b[92m\n",
      "## Unlock the Power of the Cloud: A Comprehensive Guide to Cloud Computing\n",
      "\n",
      "Imagine accessing limitless computing power, storage, and software without the burden of managing complex infrastructure. This is the promise of cloud computing, a revolutionary technology that has transformed the way businesses and individuals interact with technology. In this article, we'll explore the key concepts of cloud computing, examine different service models, and discuss the benefits and challenges of embracing this transformative technology.\n",
      "\n",
      "### Demystifying Cloud Computing: Core Concepts\n",
      "\n",
      "At its core, cloud computing is the on-demand delivery of computing services—including servers, storage, databases, networking, software, analytics, and intelligence—over the Internet (\"the cloud\") to offer faster innovation, flexible resources, and economies of scale. Instead of owning and maintaining your own data centers, you can access these resources from a cloud provider and pay only for what you use.\n",
      "\n",
      "Think of it like electricity. You don't need to build your own power plant to have electricity in your home. Instead, you tap into the power grid and pay for the electricity you consume. Cloud computing works similarly, providing access to computing resources on a pay-as-you-go basis.\n",
      "\n",
      "**Key Characteristics of Cloud Computing:**\n",
      "\n",
      "*   **On-demand self-service:** Provision resources like server time and storage instantly without human interaction.\n",
      "*   **Broad network access:** Access services from any device (mobile phones, tablets, laptops) with an internet connection.\n",
      "*   **Resource pooling:** Providers pool resources to serve multiple users, dynamically allocating resources based on demand.\n",
      "*   **Rapid elasticity:** Easily scale resources up or down to match changing demands.\n",
      "*   **Measured service:** Monitor and optimize resource usage, providing transparency in billing and usage patterns.\n",
      "\n",
      "### The Major Players in the Cloud\n",
      "\n",
      "The cloud computing landscape is populated by several major providers, each offering a diverse range of services. Here are some of the leading cloud service providers:\n",
      "\n",
      "*   **Amazon Web Services (AWS):** The market leader, offering a comprehensive suite of services, including computing, storage, databases, and more.\n",
      "*   **Microsoft Azure:** A leading platform tightly integrated with Microsoft technologies, providing services for computing, networking, storage, and AI.\n",
      "*   **Google Cloud Platform (GCP):** Known for its strengths in data analytics and machine learning, offering innovative technologies like Kubernetes.\n",
      "*   **Alibaba Cloud:** A major provider, particularly in the Asia-Pacific region, with a wide array of services.\n",
      "*   **IBM Cloud:** Emphasizes hybrid cloud solutions and enterprise-grade security.\n",
      "*   **Oracle Cloud Infrastructure (OCI):** Designed to support enterprise workloads with a focus on performance and security.\n",
      "*   **Salesforce:** Primarily known for its SaaS CRM platform, also offering PaaS solutions.\n",
      "*   **SAP:** Specializes in ERP software and related services, with PaaS options for custom applications.\n",
      "*   **DigitalOcean:** Focuses on providing simple and affordable cloud services to developers.\n",
      "*   **OVHcloud:** A European cloud provider offering a range of services, including IaaS, PaaS, and dedicated servers.\n",
      "\n",
      "### Understanding the Cloud Service Spectrum: IaaS, PaaS, and SaaS\n",
      "\n",
      "Cloud services are typically categorized into three main types, each offering a different level of control and responsibility:\n",
      "\n",
      "*   **Infrastructure as a Service (IaaS):** This provides the basic building blocks for cloud IT. IaaS offers access to fundamental resources like virtual machines, storage, and networks. You manage the operating systems, applications, and data. Think of it as renting the raw materials and tools to build your own house.\n",
      "    *   **Examples:** Amazon EC2, Microsoft Azure Virtual Machines, Google Compute Engine.\n",
      "    *   **Use Case:** A startup needs flexible and scalable infrastructure to host its web application.\n",
      "*   **Platform as a Service (PaaS):** PaaS provides a platform for developing, running, and managing applications without the complexity of managing the underlying infrastructure. You focus on building and deploying your application, while the provider handles the operating systems, servers, and networking. It’s like renting an apartment – you don't worry about the building's infrastructure.\n",
      "    *   **Examples:** AWS Elastic Beanstalk, Google App Engine, Microsoft Azure App Service.\n",
      "    *   **Use Case:** A development team wants to build and deploy a web application quickly without managing servers.\n",
      "*   **Software as a Service (SaaS):** SaaS delivers software applications over the internet, on demand. You simply access the software through a web browser or app, without needing to install or manage anything. The provider handles all aspects of the application, including infrastructure, maintenance, and updates. This is akin to subscribing to a streaming service – you simply consume the content.\n",
      "    *   **Examples:** Salesforce, Google Workspace, Microsoft 365, Dropbox.\n",
      "    *   **Use Case:** A business needs a CRM solution without the hassle of installation and maintenance.\n",
      "\n",
      "### The Upsides and Downsides of Cloud Computing\n",
      "\n",
      "Cloud computing offers a compelling array of benefits:\n",
      "\n",
      "*   **Cost Savings:** Reduce capital expenditure on hardware and lower operational expenditure through pay-as-you-go pricing.\n",
      "*   **Scalability and Elasticity:** Easily adapt resources to meet fluctuating demands, optimizing performance and costs.\n",
      "*   **Increased Agility and Speed:** Accelerate application deployment and respond swiftly to market changes.\n",
      "*   **Improved Collaboration:** Enhance teamwork with shared access to data and applications.\n",
      "*   **Business Continuity and Disaster Recovery:** Ensure data protection and minimize downtime with cloud-based backup and recovery solutions.\n",
      "*   **Access from Anywhere:** Access resources from any device with an internet connection, promoting flexibility.\n",
      "*   **Automatic Updates:** Benefit from automated software updates and maintenance, freeing up IT resources.\n",
      "*   **Innovation:** Access cutting-edge technologies like AI and machine learning to drive innovation.\n",
      "\n",
      "However, cloud computing also presents challenges:\n",
      "\n",
      "*   **Security:** Address concerns about data security and privacy with robust security measures.\n",
      "*   **Compliance:** Navigate the complexities of meeting regulatory compliance requirements.\n",
      "*   **Vendor Lock-in:** Minimize the difficulty of migrating data and applications between cloud providers.\n",
      "*   **Downtime:** Mitigate the impact of potential outages with robust service level agreements (SLAs).\n",
      "*   **Lack of Control:** Acknowledge the reduced control over infrastructure compared to on-premises environments.\n",
      "*   **Complexity:** Manage cloud resources effectively with specialized skills and expertise.\n",
      "*   **Cost Management:** Avoid unexpected costs through careful monitoring and optimization of resource usage.\n",
      "*   **Network Dependency:** Ensure a stable and reliable internet connection for seamless access.\n",
      "\n",
      "### The Future of Cloud Computing: Innovation on the Horizon\n",
      "\n",
      "The future of cloud computing is bright, with continued innovation and expansion on the horizon. We can expect to see:\n",
      "\n",
      "*   **Edge Computing:** Bringing computation and data storage closer to the location where it is needed to improve response times and save bandwidth.\n",
      "*   **Serverless Computing:** Further abstracting away the underlying infrastructure, allowing developers to focus solely on writing code.\n",
      "*   **Artificial Intelligence and Machine Learning Integration:** Seamlessly integrating AI and ML services into cloud platforms, making these technologies more accessible to businesses of all sizes.\n",
      "*   **Hybrid and Multi-Cloud Strategies:** Increasingly, organizations will adopt hybrid and multi-cloud strategies to leverage the best of both worlds—on-premises infrastructure and multiple cloud providers—to optimize performance, cost, and resilience.\n",
      "*   **Greater Focus on Security and Compliance:** Cloud providers will continue to invest heavily in security and compliance to address growing concerns about data privacy and regulatory requirements.\n",
      "\n",
      "### Conclusion: Embrace the Cloud\n",
      "\n",
      "Cloud computing has revolutionized the IT landscape, offering unprecedented flexibility, scalability, and cost savings. By understanding the key concepts, service models, and potential challenges, organizations can leverage the power of the cloud to drive innovation, accelerate growth, and gain a competitive advantage. As cloud technology continues to evolve, embracing this transformative paradigm will be essential for success in the digital age.\u001b[00m\n",
      "\n",
      "\n"
     ]
    },
    {
     "data": {
      "text/html": [
       "<pre style=\"white-space:pre;overflow-x:auto;line-height:normal;font-family:Menlo,'DejaVu Sans Mono',consolas,'Courier New',monospace\"><span style=\"color: #008080; text-decoration-color: #008080; font-weight: bold\">🚀 Crew: crew</span>\n",
       "├── <span style=\"color: #008000; text-decoration-color: #008000; font-weight: bold\">📋 Task: 5d4329e1-0989-49c3-8dca-339d45656f8f</span>\n",
       "│   <span style=\"color: #c0c0c0; text-decoration-color: #c0c0c0\">   Assigned to: </span><span style=\"color: #008000; text-decoration-color: #008000\">Research Analyst</span>\n",
       "│   <span style=\"color: #c0c0c0; text-decoration-color: #c0c0c0\">   Status: </span><span style=\"color: #008000; text-decoration-color: #008000; font-weight: bold\">✅ Completed</span>\n",
       "│   └── <span style=\"color: #008000; text-decoration-color: #008000; font-weight: bold\">🤖 Agent: </span><span style=\"color: #008000; text-decoration-color: #008000\">Research Analyst</span>\n",
       "│       <span style=\"color: #c0c0c0; text-decoration-color: #c0c0c0\">    Status: </span><span style=\"color: #008000; text-decoration-color: #008000; font-weight: bold\">✅ Completed</span>\n",
       "└── <span style=\"color: #808000; text-decoration-color: #808000; font-weight: bold\">📋 Task: d47ca9a2-c36e-49b1-9b6d-0d8d5e2384e3</span>\n",
       "    <span style=\"color: #c0c0c0; text-decoration-color: #c0c0c0\">   Status: </span><span style=\"color: #bfbf7f; text-decoration-color: #bfbf7f\">Executing Task...</span>\n",
       "    └── <span style=\"color: #008000; text-decoration-color: #008000; font-weight: bold\">🤖 Agent: </span><span style=\"color: #008000; text-decoration-color: #008000\">Content Writer</span>\n",
       "        <span style=\"color: #c0c0c0; text-decoration-color: #c0c0c0\">    Status: </span><span style=\"color: #008000; text-decoration-color: #008000; font-weight: bold\">✅ Completed</span>\n",
       "</pre>\n"
      ],
      "text/plain": [
       "\u001b[1;36m🚀 Crew: \u001b[0m\u001b[1;36mcrew\u001b[0m\n",
       "├── \u001b[1;32m📋 Task: 5d4329e1-0989-49c3-8dca-339d45656f8f\u001b[0m\n",
       "│   \u001b[37m   Assigned to: \u001b[0m\u001b[32mResearch Analyst\u001b[0m\n",
       "│   \u001b[37m   Status: \u001b[0m\u001b[1;32m✅ Completed\u001b[0m\n",
       "│   └── \u001b[1;32m🤖 Agent: \u001b[0m\u001b[32mResearch Analyst\u001b[0m\n",
       "│       \u001b[37m    Status: \u001b[0m\u001b[1;32m✅ Completed\u001b[0m\n",
       "└── \u001b[1;33m📋 Task: d47ca9a2-c36e-49b1-9b6d-0d8d5e2384e3\u001b[0m\n",
       "    \u001b[37m   Status: \u001b[0m\u001b[2;33mExecuting Task...\u001b[0m\n",
       "    └── \u001b[1;32m🤖 Agent: \u001b[0m\u001b[32mContent Writer\u001b[0m\n",
       "        \u001b[37m    Status: \u001b[0m\u001b[1;32m✅ Completed\u001b[0m\n"
      ]
     },
     "metadata": {},
     "output_type": "display_data"
    },
    {
     "data": {
      "text/html": [
       "<pre style=\"white-space:pre;overflow-x:auto;line-height:normal;font-family:Menlo,'DejaVu Sans Mono',consolas,'Courier New',monospace\">\n",
       "</pre>\n"
      ],
      "text/plain": [
       "\n"
      ]
     },
     "metadata": {},
     "output_type": "display_data"
    },
    {
     "data": {
      "text/html": [
       "<pre style=\"white-space:pre;overflow-x:auto;line-height:normal;font-family:Menlo,'DejaVu Sans Mono',consolas,'Courier New',monospace\"><span style=\"color: #008080; text-decoration-color: #008080; font-weight: bold\">🚀 Crew: crew</span>\n",
       "├── <span style=\"color: #008000; text-decoration-color: #008000; font-weight: bold\">📋 Task: 5d4329e1-0989-49c3-8dca-339d45656f8f</span>\n",
       "│   <span style=\"color: #c0c0c0; text-decoration-color: #c0c0c0\">   Assigned to: </span><span style=\"color: #008000; text-decoration-color: #008000\">Research Analyst</span>\n",
       "│   <span style=\"color: #c0c0c0; text-decoration-color: #c0c0c0\">   Status: </span><span style=\"color: #008000; text-decoration-color: #008000; font-weight: bold\">✅ Completed</span>\n",
       "│   └── <span style=\"color: #008000; text-decoration-color: #008000; font-weight: bold\">🤖 Agent: </span><span style=\"color: #008000; text-decoration-color: #008000\">Research Analyst</span>\n",
       "│       <span style=\"color: #c0c0c0; text-decoration-color: #c0c0c0\">    Status: </span><span style=\"color: #008000; text-decoration-color: #008000; font-weight: bold\">✅ Completed</span>\n",
       "└── <span style=\"color: #008000; text-decoration-color: #008000; font-weight: bold\">📋 Task: d47ca9a2-c36e-49b1-9b6d-0d8d5e2384e3</span>\n",
       "    <span style=\"color: #c0c0c0; text-decoration-color: #c0c0c0\">   Assigned to: </span><span style=\"color: #008000; text-decoration-color: #008000\">Content Writer</span>\n",
       "    <span style=\"color: #c0c0c0; text-decoration-color: #c0c0c0\">   Status: </span><span style=\"color: #008000; text-decoration-color: #008000; font-weight: bold\">✅ Completed</span>\n",
       "    └── <span style=\"color: #008000; text-decoration-color: #008000; font-weight: bold\">🤖 Agent: </span><span style=\"color: #008000; text-decoration-color: #008000\">Content Writer</span>\n",
       "        <span style=\"color: #c0c0c0; text-decoration-color: #c0c0c0\">    Status: </span><span style=\"color: #008000; text-decoration-color: #008000; font-weight: bold\">✅ Completed</span>\n",
       "</pre>\n"
      ],
      "text/plain": [
       "\u001b[1;36m🚀 Crew: \u001b[0m\u001b[1;36mcrew\u001b[0m\n",
       "├── \u001b[1;32m📋 Task: 5d4329e1-0989-49c3-8dca-339d45656f8f\u001b[0m\n",
       "│   \u001b[37m   Assigned to: \u001b[0m\u001b[32mResearch Analyst\u001b[0m\n",
       "│   \u001b[37m   Status: \u001b[0m\u001b[1;32m✅ Completed\u001b[0m\n",
       "│   └── \u001b[1;32m🤖 Agent: \u001b[0m\u001b[32mResearch Analyst\u001b[0m\n",
       "│       \u001b[37m    Status: \u001b[0m\u001b[1;32m✅ Completed\u001b[0m\n",
       "└── \u001b[1;32m📋 Task: d47ca9a2-c36e-49b1-9b6d-0d8d5e2384e3\u001b[0m\n",
       "    \u001b[37m   Assigned to: \u001b[0m\u001b[32mContent Writer\u001b[0m\n",
       "    \u001b[37m   Status: \u001b[0m\u001b[1;32m✅ Completed\u001b[0m\n",
       "    └── \u001b[1;32m🤖 Agent: \u001b[0m\u001b[32mContent Writer\u001b[0m\n",
       "        \u001b[37m    Status: \u001b[0m\u001b[1;32m✅ Completed\u001b[0m\n"
      ]
     },
     "metadata": {},
     "output_type": "display_data"
    },
    {
     "data": {
      "text/html": [
       "<pre style=\"white-space:pre;overflow-x:auto;line-height:normal;font-family:Menlo,'DejaVu Sans Mono',consolas,'Courier New',monospace\"><span style=\"color: #008000; text-decoration-color: #008000\">╭──────────────────────────────────────────────── Task Completion ────────────────────────────────────────────────╮</span>\n",
       "<span style=\"color: #008000; text-decoration-color: #008000\">│</span>                                                                                                                 <span style=\"color: #008000; text-decoration-color: #008000\">│</span>\n",
       "<span style=\"color: #008000; text-decoration-color: #008000\">│</span>  <span style=\"color: #008000; text-decoration-color: #008000; font-weight: bold\">Task Completed</span>                                                                                                 <span style=\"color: #008000; text-decoration-color: #008000\">│</span>\n",
       "<span style=\"color: #008000; text-decoration-color: #008000\">│</span>  <span style=\"color: #c0c0c0; text-decoration-color: #c0c0c0\">Name: </span><span style=\"color: #008000; text-decoration-color: #008000\">d47ca9a2-c36e-49b1-9b6d-0d8d5e2384e3</span>                                                                     <span style=\"color: #008000; text-decoration-color: #008000\">│</span>\n",
       "<span style=\"color: #008000; text-decoration-color: #008000\">│</span>  <span style=\"color: #c0c0c0; text-decoration-color: #c0c0c0\">Agent: </span><span style=\"color: #008000; text-decoration-color: #008000\">Content Writer</span>                                                                                          <span style=\"color: #008000; text-decoration-color: #008000\">│</span>\n",
       "<span style=\"color: #008000; text-decoration-color: #008000\">│</span>                                                                                                                 <span style=\"color: #008000; text-decoration-color: #008000\">│</span>\n",
       "<span style=\"color: #008000; text-decoration-color: #008000\">│</span>                                                                                                                 <span style=\"color: #008000; text-decoration-color: #008000\">│</span>\n",
       "<span style=\"color: #008000; text-decoration-color: #008000\">╰─────────────────────────────────────────────────────────────────────────────────────────────────────────────────╯</span>\n",
       "</pre>\n"
      ],
      "text/plain": [
       "\u001b[32m╭─\u001b[0m\u001b[32m───────────────────────────────────────────────\u001b[0m\u001b[32m Task Completion \u001b[0m\u001b[32m───────────────────────────────────────────────\u001b[0m\u001b[32m─╮\u001b[0m\n",
       "\u001b[32m│\u001b[0m                                                                                                                 \u001b[32m│\u001b[0m\n",
       "\u001b[32m│\u001b[0m  \u001b[1;32mTask Completed\u001b[0m                                                                                                 \u001b[32m│\u001b[0m\n",
       "\u001b[32m│\u001b[0m  \u001b[37mName: \u001b[0m\u001b[32md47ca9a2-c36e-49b1-9b6d-0d8d5e2384e3\u001b[0m                                                                     \u001b[32m│\u001b[0m\n",
       "\u001b[32m│\u001b[0m  \u001b[37mAgent: \u001b[0m\u001b[32mContent Writer\u001b[0m                                                                                          \u001b[32m│\u001b[0m\n",
       "\u001b[32m│\u001b[0m                                                                                                                 \u001b[32m│\u001b[0m\n",
       "\u001b[32m│\u001b[0m                                                                                                                 \u001b[32m│\u001b[0m\n",
       "\u001b[32m╰─────────────────────────────────────────────────────────────────────────────────────────────────────────────────╯\u001b[0m\n"
      ]
     },
     "metadata": {},
     "output_type": "display_data"
    },
    {
     "data": {
      "text/html": [
       "<pre style=\"white-space:pre;overflow-x:auto;line-height:normal;font-family:Menlo,'DejaVu Sans Mono',consolas,'Courier New',monospace\">\n",
       "</pre>\n"
      ],
      "text/plain": [
       "\n"
      ]
     },
     "metadata": {},
     "output_type": "display_data"
    },
    {
     "data": {
      "text/html": [
       "<pre style=\"white-space:pre;overflow-x:auto;line-height:normal;font-family:Menlo,'DejaVu Sans Mono',consolas,'Courier New',monospace\"><span style=\"color: #008080; text-decoration-color: #008080; font-weight: bold\">🚀 Crew: crew</span>\n",
       "├── <span style=\"color: #008000; text-decoration-color: #008000; font-weight: bold\">📋 Task: 5d4329e1-0989-49c3-8dca-339d45656f8f</span>\n",
       "│   <span style=\"color: #c0c0c0; text-decoration-color: #c0c0c0\">   Assigned to: </span><span style=\"color: #008000; text-decoration-color: #008000\">Research Analyst</span>\n",
       "│   <span style=\"color: #c0c0c0; text-decoration-color: #c0c0c0\">   Status: </span><span style=\"color: #008000; text-decoration-color: #008000; font-weight: bold\">✅ Completed</span>\n",
       "│   └── <span style=\"color: #008000; text-decoration-color: #008000; font-weight: bold\">🤖 Agent: </span><span style=\"color: #008000; text-decoration-color: #008000\">Research Analyst</span>\n",
       "│       <span style=\"color: #c0c0c0; text-decoration-color: #c0c0c0\">    Status: </span><span style=\"color: #008000; text-decoration-color: #008000; font-weight: bold\">✅ Completed</span>\n",
       "├── <span style=\"color: #008000; text-decoration-color: #008000; font-weight: bold\">📋 Task: d47ca9a2-c36e-49b1-9b6d-0d8d5e2384e3</span>\n",
       "│   <span style=\"color: #c0c0c0; text-decoration-color: #c0c0c0\">   Assigned to: </span><span style=\"color: #008000; text-decoration-color: #008000\">Content Writer</span>\n",
       "│   <span style=\"color: #c0c0c0; text-decoration-color: #c0c0c0\">   Status: </span><span style=\"color: #008000; text-decoration-color: #008000; font-weight: bold\">✅ Completed</span>\n",
       "│   └── <span style=\"color: #008000; text-decoration-color: #008000; font-weight: bold\">🤖 Agent: </span><span style=\"color: #008000; text-decoration-color: #008000\">Content Writer</span>\n",
       "│       <span style=\"color: #c0c0c0; text-decoration-color: #c0c0c0\">    Status: </span><span style=\"color: #008000; text-decoration-color: #008000; font-weight: bold\">✅ Completed</span>\n",
       "└── <span style=\"color: #808000; text-decoration-color: #808000; font-weight: bold\">📋 Task: 61058d3b-c6d8-41a9-ab11-8e448603865c</span>\n",
       "    <span style=\"color: #c0c0c0; text-decoration-color: #c0c0c0\">   Status: </span><span style=\"color: #bfbf7f; text-decoration-color: #bfbf7f\">Executing Task...</span>\n",
       "</pre>\n"
      ],
      "text/plain": [
       "\u001b[1;36m🚀 Crew: \u001b[0m\u001b[1;36mcrew\u001b[0m\n",
       "├── \u001b[1;32m📋 Task: 5d4329e1-0989-49c3-8dca-339d45656f8f\u001b[0m\n",
       "│   \u001b[37m   Assigned to: \u001b[0m\u001b[32mResearch Analyst\u001b[0m\n",
       "│   \u001b[37m   Status: \u001b[0m\u001b[1;32m✅ Completed\u001b[0m\n",
       "│   └── \u001b[1;32m🤖 Agent: \u001b[0m\u001b[32mResearch Analyst\u001b[0m\n",
       "│       \u001b[37m    Status: \u001b[0m\u001b[1;32m✅ Completed\u001b[0m\n",
       "├── \u001b[1;32m📋 Task: d47ca9a2-c36e-49b1-9b6d-0d8d5e2384e3\u001b[0m\n",
       "│   \u001b[37m   Assigned to: \u001b[0m\u001b[32mContent Writer\u001b[0m\n",
       "│   \u001b[37m   Status: \u001b[0m\u001b[1;32m✅ Completed\u001b[0m\n",
       "│   └── \u001b[1;32m🤖 Agent: \u001b[0m\u001b[32mContent Writer\u001b[0m\n",
       "│       \u001b[37m    Status: \u001b[0m\u001b[1;32m✅ Completed\u001b[0m\n",
       "└── \u001b[1;33m📋 Task: 61058d3b-c6d8-41a9-ab11-8e448603865c\u001b[0m\n",
       "    \u001b[37m   Status: \u001b[0m\u001b[2;33mExecuting Task...\u001b[0m\n"
      ]
     },
     "metadata": {},
     "output_type": "display_data"
    },
    {
     "data": {
      "text/html": [
       "<pre style=\"white-space:pre;overflow-x:auto;line-height:normal;font-family:Menlo,'DejaVu Sans Mono',consolas,'Courier New',monospace\">\n",
       "</pre>\n"
      ],
      "text/plain": [
       "\n"
      ]
     },
     "metadata": {},
     "output_type": "display_data"
    },
    {
     "data": {
      "text/html": [
       "<pre style=\"white-space:pre;overflow-x:auto;line-height:normal;font-family:Menlo,'DejaVu Sans Mono',consolas,'Courier New',monospace\"><span style=\"color: #008080; text-decoration-color: #008080; font-weight: bold\">🚀 Crew: crew</span>\n",
       "├── <span style=\"color: #008000; text-decoration-color: #008000; font-weight: bold\">📋 Task: 5d4329e1-0989-49c3-8dca-339d45656f8f</span>\n",
       "│   <span style=\"color: #c0c0c0; text-decoration-color: #c0c0c0\">   Assigned to: </span><span style=\"color: #008000; text-decoration-color: #008000\">Research Analyst</span>\n",
       "│   <span style=\"color: #c0c0c0; text-decoration-color: #c0c0c0\">   Status: </span><span style=\"color: #008000; text-decoration-color: #008000; font-weight: bold\">✅ Completed</span>\n",
       "│   └── <span style=\"color: #008000; text-decoration-color: #008000; font-weight: bold\">🤖 Agent: </span><span style=\"color: #008000; text-decoration-color: #008000\">Research Analyst</span>\n",
       "│       <span style=\"color: #c0c0c0; text-decoration-color: #c0c0c0\">    Status: </span><span style=\"color: #008000; text-decoration-color: #008000; font-weight: bold\">✅ Completed</span>\n",
       "├── <span style=\"color: #008000; text-decoration-color: #008000; font-weight: bold\">📋 Task: d47ca9a2-c36e-49b1-9b6d-0d8d5e2384e3</span>\n",
       "│   <span style=\"color: #c0c0c0; text-decoration-color: #c0c0c0\">   Assigned to: </span><span style=\"color: #008000; text-decoration-color: #008000\">Content Writer</span>\n",
       "│   <span style=\"color: #c0c0c0; text-decoration-color: #c0c0c0\">   Status: </span><span style=\"color: #008000; text-decoration-color: #008000; font-weight: bold\">✅ Completed</span>\n",
       "│   └── <span style=\"color: #008000; text-decoration-color: #008000; font-weight: bold\">🤖 Agent: </span><span style=\"color: #008000; text-decoration-color: #008000\">Content Writer</span>\n",
       "│       <span style=\"color: #c0c0c0; text-decoration-color: #c0c0c0\">    Status: </span><span style=\"color: #008000; text-decoration-color: #008000; font-weight: bold\">✅ Completed</span>\n",
       "└── <span style=\"color: #808000; text-decoration-color: #808000; font-weight: bold\">📋 Task: 61058d3b-c6d8-41a9-ab11-8e448603865c</span>\n",
       "    <span style=\"color: #c0c0c0; text-decoration-color: #c0c0c0\">   Status: </span><span style=\"color: #bfbf7f; text-decoration-color: #bfbf7f\">Executing Task...</span>\n",
       "    └── <span style=\"color: #008000; text-decoration-color: #008000; font-weight: bold\">🤖 Agent: </span><span style=\"color: #008000; text-decoration-color: #008000\">Content Editor</span>\n",
       "        <span style=\"color: #c0c0c0; text-decoration-color: #c0c0c0\">    Status: </span><span style=\"color: #008000; text-decoration-color: #008000; font-weight: bold\">In Progress</span>\n",
       "</pre>\n"
      ],
      "text/plain": [
       "\u001b[1;36m🚀 Crew: \u001b[0m\u001b[1;36mcrew\u001b[0m\n",
       "├── \u001b[1;32m📋 Task: 5d4329e1-0989-49c3-8dca-339d45656f8f\u001b[0m\n",
       "│   \u001b[37m   Assigned to: \u001b[0m\u001b[32mResearch Analyst\u001b[0m\n",
       "│   \u001b[37m   Status: \u001b[0m\u001b[1;32m✅ Completed\u001b[0m\n",
       "│   └── \u001b[1;32m🤖 Agent: \u001b[0m\u001b[32mResearch Analyst\u001b[0m\n",
       "│       \u001b[37m    Status: \u001b[0m\u001b[1;32m✅ Completed\u001b[0m\n",
       "├── \u001b[1;32m📋 Task: d47ca9a2-c36e-49b1-9b6d-0d8d5e2384e3\u001b[0m\n",
       "│   \u001b[37m   Assigned to: \u001b[0m\u001b[32mContent Writer\u001b[0m\n",
       "│   \u001b[37m   Status: \u001b[0m\u001b[1;32m✅ Completed\u001b[0m\n",
       "│   └── \u001b[1;32m🤖 Agent: \u001b[0m\u001b[32mContent Writer\u001b[0m\n",
       "│       \u001b[37m    Status: \u001b[0m\u001b[1;32m✅ Completed\u001b[0m\n",
       "└── \u001b[1;33m📋 Task: 61058d3b-c6d8-41a9-ab11-8e448603865c\u001b[0m\n",
       "    \u001b[37m   Status: \u001b[0m\u001b[2;33mExecuting Task...\u001b[0m\n",
       "    └── \u001b[1;32m🤖 Agent: \u001b[0m\u001b[32mContent Editor\u001b[0m\n",
       "        \u001b[37m    Status: \u001b[0m\u001b[1;32mIn Progress\u001b[0m\n"
      ]
     },
     "metadata": {},
     "output_type": "display_data"
    },
    {
     "data": {
      "text/html": [
       "<pre style=\"white-space:pre;overflow-x:auto;line-height:normal;font-family:Menlo,'DejaVu Sans Mono',consolas,'Courier New',monospace\">\n",
       "</pre>\n"
      ],
      "text/plain": [
       "\n"
      ]
     },
     "metadata": {},
     "output_type": "display_data"
    },
    {
     "name": "stdout",
     "output_type": "stream",
     "text": [
      "\u001b[1m\u001b[95m# Agent:\u001b[00m \u001b[1m\u001b[92mContent Editor\u001b[00m\n",
      "\u001b[95m## Task:\u001b[00m \u001b[92mReview and edit the article about cloud computing:\n",
      "   1. Check for clarity and flow\n",
      "   2. Ensure technical accuracy\n",
      "   3. Improve sentence structure\n",
      "   4. Add section headings if missing\n",
      "   5. Finalize the content\u001b[00m\n",
      "\n",
      "\n",
      "\u001b[1m\u001b[95m# Agent:\u001b[00m \u001b[1m\u001b[92mContent Editor\u001b[00m\n",
      "\u001b[95m## Final Answer:\u001b[00m \u001b[92m\n",
      "## Unlock the Power of the Cloud: A Comprehensive Guide to Cloud Computing\n",
      "\n",
      "Imagine accessing limitless computing power, storage, and software without the burden of managing complex infrastructure. This is the promise of cloud computing, a transformative technology that has reshaped how businesses and individuals interact with technology. This article explores the core concepts of cloud computing, examines different service models, and discusses the benefits and challenges of adopting this innovative approach.\n",
      "\n",
      "### What is Cloud Computing? Demystifying the Core Concepts\n",
      "\n",
      "At its core, cloud computing is the on-demand delivery of computing services—including servers, storage, databases, networking, software, analytics, and intelligence—over the Internet (\"the cloud\"). It offers faster innovation, flexible resources, and economies of scale. Instead of owning and maintaining physical data centers, users can access these resources from a cloud provider and pay only for what they use.\n",
      "\n",
      "Think of it like electricity. You don't need to build your power plant to have electricity. You tap into the power grid and pay for the electricity consumed. Cloud computing works similarly, providing access to computing resources on a pay-as-you-go basis. If the service is provided according to the users' requirements, it falls under cloud computing.\n",
      "\n",
      "**Key Characteristics of Cloud Computing:**\n",
      "\n",
      "*   **On-demand self-service:** Users can independently provision computing capabilities, such as server time and network storage, as needed automatically without requiring human interaction with the service provider.\n",
      "*   **Broad network access:** Capabilities are available over the network and accessed through standard mechanisms that promote use by heterogeneous thin or thick client platforms (e.g., mobile phones, tablets, laptops, and workstations).\n",
      "*   **Resource pooling:** The provider's computing resources are pooled to serve multiple consumers using a multi-tenant model, with physical and virtual resources dynamically assigned and reassigned according to consumer demand. Location independence is a key aspect.\n",
      "*   **Rapid elasticity:** Capabilities can be elastically provisioned and released, in some cases automatically, to scale rapidly outward and inward commensurate with demand. To the consumer, the capabilities available often appear to be unlimited and can be appropriated in any quantity at any time.\n",
      "*   **Measured service:** Cloud systems automatically control and optimize resource use by leveraging a metering capability at some level of abstraction appropriate to the type of service (e.g., storage, processing, bandwidth, and active user accounts). Resource usage can be monitored, controlled, and reported, providing transparency for both the provider and consumer.\n",
      "\n",
      "### Major Cloud Service Providers\n",
      "\n",
      "The cloud computing market is led by several major players and numerous smaller, specialized providers. Here are some of the most prominent cloud service providers:\n",
      "\n",
      "*   **Amazon Web Services (AWS):** A comprehensive and broadly adopted cloud platform, offering a wide range of services including computing, storage, databases, analytics, machine learning, and more. AWS is generally considered the market leader.\n",
      "*   **Microsoft Azure:** Another leading cloud platform, providing a suite of services for computing, networking, storage, databases, analytics, AI, and IoT. Azure is tightly integrated with Microsoft's other products and services, making it a popular choice for organizations already using Microsoft technologies.\n",
      "*   **Google Cloud Platform (GCP):** A fast-growing cloud platform that offers a range of services including computing, storage, databases, data analytics, and machine learning. GCP is known for its strength in data analytics and machine learning, as well as its innovative technologies like Kubernetes.\n",
      "*   **Alibaba Cloud:** A major cloud provider, particularly in the Asia-Pacific region. It offers a wide range of services, including computing, storage, networking, databases, security, and AI.\n",
      "*   **IBM Cloud:** IBM offers a variety of cloud services, including IaaS, PaaS, and SaaS solutions. IBM Cloud emphasizes hybrid cloud solutions and enterprise-grade security.\n",
      "*   **Oracle Cloud Infrastructure (OCI):** Oracle's cloud platform, providing services for computing, storage, networking, databases, and applications. OCI is designed to support enterprise workloads and offers a focus on performance and security.\n",
      "*   **Salesforce:** Primarily known for its SaaS offerings, especially its customer relationship management (CRM) platform. Salesforce also offers PaaS solutions for building and deploying custom applications.\n",
      "*   **SAP:** Another major SaaS provider, specializing in enterprise resource planning (ERP) software and related services. SAP also offers PaaS solutions for developing and deploying custom applications on its platform.\n",
      "*   **DigitalOcean:** Focuses on providing cloud computing services to developers, offering simple and affordable virtual servers, storage, and networking solutions.\n",
      "*   **OVHcloud:** A European cloud provider offering a range of services, including IaaS, PaaS, and dedicated servers.\n",
      "\n",
      "### Cloud Service Models: IaaS, PaaS, and SaaS Explained\n",
      "\n",
      "Cloud computing services are typically categorized into three main types, each offering a different level of control and responsibility: Infrastructure as a Service (IaaS), Platform as a Service (PaaS), and Software as a Service (SaaS).\n",
      "\n",
      "#### Infrastructure as a Service (IaaS)\n",
      "\n",
      "*   **Description:** IaaS provides access to fundamental computing infrastructure—virtual machines, storage, networks, and operating systems—over the internet. Users manage the operating systems, storage, deployed applications, and potentially select networking components (e.g., firewalls). The cloud provider manages the hardware, virtualization, and underlying infrastructure.\n",
      "*   **Examples:** Amazon EC2, Microsoft Azure Virtual Machines, Google Compute Engine, DigitalOcean Droplets.\n",
      "*   **Use Cases:**\n",
      "    *   Testing and development\n",
      "    *   Storage, backup, and recovery\n",
      "    *   Web hosting\n",
      "    *   High-performance computing\n",
      "    *   Enterprise infrastructure\n",
      "*   **Benefits:**\n",
      "    *   Flexibility and control over infrastructure\n",
      "    *   Scalability and elasticity\n",
      "    *   Pay-as-you-go pricing\n",
      "    *   No upfront investment in hardware\n",
      "*   **Responsibilities:**\n",
      "    *   **Customer:** Managing operating systems, applications, data, runtime, middleware\n",
      "    *   **Provider:** Managing virtualization, servers, storage, networking\n",
      "\n",
      "#### Platform as a Service (PaaS)\n",
      "\n",
      "*   **Description:** PaaS provides a platform allowing customers to develop, run, and manage applications without the complexity of building and maintaining the underlying infrastructure. PaaS includes operating systems, programming language execution environments, databases, web servers, and more.\n",
      "*   **Examples:** AWS Elastic Beanstalk, Google App Engine, Microsoft Azure App Service, Heroku, Red Hat OpenShift.\n",
      "*   **Use Cases:**\n",
      "    *   Application development and deployment\n",
      "    *   API development and management\n",
      "    *   DevOps support\n",
      "    *   Business analytics\n",
      "*   **Benefits:**\n",
      "    *   Reduced management overhead\n",
      "    *   Faster development cycles\n",
      "    *   Support for multiple programming languages and frameworks\n",
      "    *   Collaboration and code sharing\n",
      "*   **Responsibilities:**\n",
      "    *   **Customer:** Managing applications and data\n",
      "    *   **Provider:** Managing everything else (runtime, middleware, OS, virtualization, servers, storage, networking)\n",
      "\n",
      "#### Software as a Service (SaaS)\n",
      "\n",
      "*   **Description:** SaaS provides access to software applications over the internet, typically on a subscription basis. Users can access the software from various devices without needing to install or manage anything. The cloud provider handles all aspects of the application, including infrastructure, maintenance, and updates.\n",
      "*   **Examples:** Salesforce, Google Workspace (Gmail, Docs, Drive), Microsoft 365, Dropbox, Zoom.\n",
      "*   **Use Cases:**\n",
      "    *   Customer relationship management (CRM)\n",
      "    *   Email and collaboration\n",
      "    *   Office productivity\n",
      "    *   Project management\n",
      "    *   Content management\n",
      "*   **Benefits:**\n",
      "    *   Easy to use and access\n",
      "    *   No installation or maintenance required\n",
      "    *   Automatic updates\n",
      "    *   Scalability and accessibility\n",
      "*   **Responsibilities:**\n",
      "    *   **Customer:** Using the software\n",
      "    *   **Provider:** Managing everything (application, data, runtime, middleware, OS, virtualization, servers, storage, networking)\n",
      "\n",
      "### Benefits and Challenges of Cloud Computing\n",
      "\n",
      "Cloud computing offers numerous benefits, but it's also essential to be aware of the challenges.\n",
      "\n",
      "#### Benefits\n",
      "\n",
      "*   **Cost Savings:** Reduced capital expenditure (CapEx) on hardware and infrastructure. Pay-as-you-go pricing models can lower operational expenditure (OpEx).\n",
      "*   **Scalability and Elasticity:** Easily scale resources up or down based on demand, ensuring optimal performance and cost efficiency.\n",
      "*   **Increased Agility and Speed:** Faster deployment of applications and services, enabling businesses to respond quickly to changing market conditions.\n",
      "*   **Improved Collaboration:** Enhanced collaboration among teams through shared access to data and applications.\n",
      "*   **Business Continuity and Disaster Recovery:** Cloud-based backup and recovery solutions provide robust protection against data loss and downtime.\n",
      "*   **Access from Anywhere:** Access applications and data from any device with an internet connection.\n",
      "*   **Automatic Updates:** Cloud providers handle software updates and maintenance, freeing up IT staff to focus on other priorities.\n",
      "*   **Innovation:** Cloud computing provides access to cutting-edge technologies, such as AI, machine learning, and big data analytics.\n",
      "\n",
      "#### Challenges\n",
      "\n",
      "*   **Security:** Concerns about data security and privacy in the cloud. Cloud providers must implement robust security measures to protect customer data.\n",
      "*   **Compliance:** Meeting regulatory compliance requirements (e.g., GDPR, HIPAA) can be complex in the cloud.\n",
      "*   **Vendor Lock-in:** Difficulty migrating data and applications from one cloud provider to another.\n",
      "*   **Downtime:** Cloud services can be subject to outages, which can disrupt business operations.\n",
      "*   **Lack of Control:** Less control over infrastructure compared to on-premises environments.\n",
      "*   **Complexity:** Managing cloud resources and services can be complex, requiring specialized skills and expertise.\n",
      "*   **Cost Management:** Unexpected costs can arise if cloud resources are not properly managed and optimized.\n",
      "*   **Network Dependency:** Reliance on a stable and reliable internet connection.\n",
      "\n",
      "### The Future of Cloud Computing: Trends and Predictions\n",
      "\n",
      "The future of cloud computing is marked by continuous innovation and expansion. Key trends include:\n",
      "\n",
      "*   **Edge Computing:** Bringing computation and data storage closer to the data source to reduce latency and improve performance.\n",
      "*   **Serverless Computing:** Further abstracting the underlying infrastructure, allowing developers to focus solely on writing code.\n",
      "*   **AI and Machine Learning Integration:** Seamlessly integrating AI and ML services into cloud platforms, making these technologies more accessible.\n",
      "*   **Hybrid and Multi-Cloud Strategies:** Organizations increasingly adopting hybrid and multi-cloud strategies to leverage the best of both worlds – on-premises infrastructure and multiple cloud providers – for optimized performance, cost, and resilience.\n",
      "*   **Greater Focus on Security and Compliance:** Cloud providers continuously investing in security and compliance to address growing concerns about data privacy and regulatory requirements.\n",
      "\n",
      "### Conclusion: Embracing the Cloud for the Future\n",
      "\n",
      "Cloud computing has revolutionized the IT landscape, offering unprecedented flexibility, scalability, and cost savings. By understanding the key concepts, service models, benefits, and potential challenges, organizations can leverage the power of the cloud to drive innovation, accelerate growth, and gain a competitive advantage. As cloud technology continues to evolve, embracing this transformative paradigm is essential for success in the digital age.\u001b[00m\n",
      "\n",
      "\n"
     ]
    },
    {
     "data": {
      "text/html": [
       "<pre style=\"white-space:pre;overflow-x:auto;line-height:normal;font-family:Menlo,'DejaVu Sans Mono',consolas,'Courier New',monospace\"><span style=\"color: #008080; text-decoration-color: #008080; font-weight: bold\">🚀 Crew: crew</span>\n",
       "├── <span style=\"color: #008000; text-decoration-color: #008000; font-weight: bold\">📋 Task: 5d4329e1-0989-49c3-8dca-339d45656f8f</span>\n",
       "│   <span style=\"color: #c0c0c0; text-decoration-color: #c0c0c0\">   Assigned to: </span><span style=\"color: #008000; text-decoration-color: #008000\">Research Analyst</span>\n",
       "│   <span style=\"color: #c0c0c0; text-decoration-color: #c0c0c0\">   Status: </span><span style=\"color: #008000; text-decoration-color: #008000; font-weight: bold\">✅ Completed</span>\n",
       "│   └── <span style=\"color: #008000; text-decoration-color: #008000; font-weight: bold\">🤖 Agent: </span><span style=\"color: #008000; text-decoration-color: #008000\">Research Analyst</span>\n",
       "│       <span style=\"color: #c0c0c0; text-decoration-color: #c0c0c0\">    Status: </span><span style=\"color: #008000; text-decoration-color: #008000; font-weight: bold\">✅ Completed</span>\n",
       "├── <span style=\"color: #008000; text-decoration-color: #008000; font-weight: bold\">📋 Task: d47ca9a2-c36e-49b1-9b6d-0d8d5e2384e3</span>\n",
       "│   <span style=\"color: #c0c0c0; text-decoration-color: #c0c0c0\">   Assigned to: </span><span style=\"color: #008000; text-decoration-color: #008000\">Content Writer</span>\n",
       "│   <span style=\"color: #c0c0c0; text-decoration-color: #c0c0c0\">   Status: </span><span style=\"color: #008000; text-decoration-color: #008000; font-weight: bold\">✅ Completed</span>\n",
       "│   └── <span style=\"color: #008000; text-decoration-color: #008000; font-weight: bold\">🤖 Agent: </span><span style=\"color: #008000; text-decoration-color: #008000\">Content Writer</span>\n",
       "│       <span style=\"color: #c0c0c0; text-decoration-color: #c0c0c0\">    Status: </span><span style=\"color: #008000; text-decoration-color: #008000; font-weight: bold\">✅ Completed</span>\n",
       "└── <span style=\"color: #808000; text-decoration-color: #808000; font-weight: bold\">📋 Task: 61058d3b-c6d8-41a9-ab11-8e448603865c</span>\n",
       "    <span style=\"color: #c0c0c0; text-decoration-color: #c0c0c0\">   Status: </span><span style=\"color: #bfbf7f; text-decoration-color: #bfbf7f\">Executing Task...</span>\n",
       "    └── <span style=\"color: #008000; text-decoration-color: #008000; font-weight: bold\">🤖 Agent: </span><span style=\"color: #008000; text-decoration-color: #008000\">Content Editor</span>\n",
       "        <span style=\"color: #c0c0c0; text-decoration-color: #c0c0c0\">    Status: </span><span style=\"color: #008000; text-decoration-color: #008000; font-weight: bold\">✅ Completed</span>\n",
       "</pre>\n"
      ],
      "text/plain": [
       "\u001b[1;36m🚀 Crew: \u001b[0m\u001b[1;36mcrew\u001b[0m\n",
       "├── \u001b[1;32m📋 Task: 5d4329e1-0989-49c3-8dca-339d45656f8f\u001b[0m\n",
       "│   \u001b[37m   Assigned to: \u001b[0m\u001b[32mResearch Analyst\u001b[0m\n",
       "│   \u001b[37m   Status: \u001b[0m\u001b[1;32m✅ Completed\u001b[0m\n",
       "│   └── \u001b[1;32m🤖 Agent: \u001b[0m\u001b[32mResearch Analyst\u001b[0m\n",
       "│       \u001b[37m    Status: \u001b[0m\u001b[1;32m✅ Completed\u001b[0m\n",
       "├── \u001b[1;32m📋 Task: d47ca9a2-c36e-49b1-9b6d-0d8d5e2384e3\u001b[0m\n",
       "│   \u001b[37m   Assigned to: \u001b[0m\u001b[32mContent Writer\u001b[0m\n",
       "│   \u001b[37m   Status: \u001b[0m\u001b[1;32m✅ Completed\u001b[0m\n",
       "│   └── \u001b[1;32m🤖 Agent: \u001b[0m\u001b[32mContent Writer\u001b[0m\n",
       "│       \u001b[37m    Status: \u001b[0m\u001b[1;32m✅ Completed\u001b[0m\n",
       "└── \u001b[1;33m📋 Task: 61058d3b-c6d8-41a9-ab11-8e448603865c\u001b[0m\n",
       "    \u001b[37m   Status: \u001b[0m\u001b[2;33mExecuting Task...\u001b[0m\n",
       "    └── \u001b[1;32m🤖 Agent: \u001b[0m\u001b[32mContent Editor\u001b[0m\n",
       "        \u001b[37m    Status: \u001b[0m\u001b[1;32m✅ Completed\u001b[0m\n"
      ]
     },
     "metadata": {},
     "output_type": "display_data"
    },
    {
     "data": {
      "text/html": [
       "<pre style=\"white-space:pre;overflow-x:auto;line-height:normal;font-family:Menlo,'DejaVu Sans Mono',consolas,'Courier New',monospace\">\n",
       "</pre>\n"
      ],
      "text/plain": [
       "\n"
      ]
     },
     "metadata": {},
     "output_type": "display_data"
    },
    {
     "data": {
      "text/html": [
       "<pre style=\"white-space:pre;overflow-x:auto;line-height:normal;font-family:Menlo,'DejaVu Sans Mono',consolas,'Courier New',monospace\"><span style=\"color: #008080; text-decoration-color: #008080; font-weight: bold\">🚀 Crew: crew</span>\n",
       "├── <span style=\"color: #008000; text-decoration-color: #008000; font-weight: bold\">📋 Task: 5d4329e1-0989-49c3-8dca-339d45656f8f</span>\n",
       "│   <span style=\"color: #c0c0c0; text-decoration-color: #c0c0c0\">   Assigned to: </span><span style=\"color: #008000; text-decoration-color: #008000\">Research Analyst</span>\n",
       "│   <span style=\"color: #c0c0c0; text-decoration-color: #c0c0c0\">   Status: </span><span style=\"color: #008000; text-decoration-color: #008000; font-weight: bold\">✅ Completed</span>\n",
       "│   └── <span style=\"color: #008000; text-decoration-color: #008000; font-weight: bold\">🤖 Agent: </span><span style=\"color: #008000; text-decoration-color: #008000\">Research Analyst</span>\n",
       "│       <span style=\"color: #c0c0c0; text-decoration-color: #c0c0c0\">    Status: </span><span style=\"color: #008000; text-decoration-color: #008000; font-weight: bold\">✅ Completed</span>\n",
       "├── <span style=\"color: #008000; text-decoration-color: #008000; font-weight: bold\">📋 Task: d47ca9a2-c36e-49b1-9b6d-0d8d5e2384e3</span>\n",
       "│   <span style=\"color: #c0c0c0; text-decoration-color: #c0c0c0\">   Assigned to: </span><span style=\"color: #008000; text-decoration-color: #008000\">Content Writer</span>\n",
       "│   <span style=\"color: #c0c0c0; text-decoration-color: #c0c0c0\">   Status: </span><span style=\"color: #008000; text-decoration-color: #008000; font-weight: bold\">✅ Completed</span>\n",
       "│   └── <span style=\"color: #008000; text-decoration-color: #008000; font-weight: bold\">🤖 Agent: </span><span style=\"color: #008000; text-decoration-color: #008000\">Content Writer</span>\n",
       "│       <span style=\"color: #c0c0c0; text-decoration-color: #c0c0c0\">    Status: </span><span style=\"color: #008000; text-decoration-color: #008000; font-weight: bold\">✅ Completed</span>\n",
       "└── <span style=\"color: #008000; text-decoration-color: #008000; font-weight: bold\">📋 Task: 61058d3b-c6d8-41a9-ab11-8e448603865c</span>\n",
       "    <span style=\"color: #c0c0c0; text-decoration-color: #c0c0c0\">   Assigned to: </span><span style=\"color: #008000; text-decoration-color: #008000\">Content Editor</span>\n",
       "    <span style=\"color: #c0c0c0; text-decoration-color: #c0c0c0\">   Status: </span><span style=\"color: #008000; text-decoration-color: #008000; font-weight: bold\">✅ Completed</span>\n",
       "    └── <span style=\"color: #008000; text-decoration-color: #008000; font-weight: bold\">🤖 Agent: </span><span style=\"color: #008000; text-decoration-color: #008000\">Content Editor</span>\n",
       "        <span style=\"color: #c0c0c0; text-decoration-color: #c0c0c0\">    Status: </span><span style=\"color: #008000; text-decoration-color: #008000; font-weight: bold\">✅ Completed</span>\n",
       "</pre>\n"
      ],
      "text/plain": [
       "\u001b[1;36m🚀 Crew: \u001b[0m\u001b[1;36mcrew\u001b[0m\n",
       "├── \u001b[1;32m📋 Task: 5d4329e1-0989-49c3-8dca-339d45656f8f\u001b[0m\n",
       "│   \u001b[37m   Assigned to: \u001b[0m\u001b[32mResearch Analyst\u001b[0m\n",
       "│   \u001b[37m   Status: \u001b[0m\u001b[1;32m✅ Completed\u001b[0m\n",
       "│   └── \u001b[1;32m🤖 Agent: \u001b[0m\u001b[32mResearch Analyst\u001b[0m\n",
       "│       \u001b[37m    Status: \u001b[0m\u001b[1;32m✅ Completed\u001b[0m\n",
       "├── \u001b[1;32m📋 Task: d47ca9a2-c36e-49b1-9b6d-0d8d5e2384e3\u001b[0m\n",
       "│   \u001b[37m   Assigned to: \u001b[0m\u001b[32mContent Writer\u001b[0m\n",
       "│   \u001b[37m   Status: \u001b[0m\u001b[1;32m✅ Completed\u001b[0m\n",
       "│   └── \u001b[1;32m🤖 Agent: \u001b[0m\u001b[32mContent Writer\u001b[0m\n",
       "│       \u001b[37m    Status: \u001b[0m\u001b[1;32m✅ Completed\u001b[0m\n",
       "└── \u001b[1;32m📋 Task: 61058d3b-c6d8-41a9-ab11-8e448603865c\u001b[0m\n",
       "    \u001b[37m   Assigned to: \u001b[0m\u001b[32mContent Editor\u001b[0m\n",
       "    \u001b[37m   Status: \u001b[0m\u001b[1;32m✅ Completed\u001b[0m\n",
       "    └── \u001b[1;32m🤖 Agent: \u001b[0m\u001b[32mContent Editor\u001b[0m\n",
       "        \u001b[37m    Status: \u001b[0m\u001b[1;32m✅ Completed\u001b[0m\n"
      ]
     },
     "metadata": {},
     "output_type": "display_data"
    },
    {
     "data": {
      "text/html": [
       "<pre style=\"white-space:pre;overflow-x:auto;line-height:normal;font-family:Menlo,'DejaVu Sans Mono',consolas,'Courier New',monospace\"><span style=\"color: #008000; text-decoration-color: #008000\">╭──────────────────────────────────────────────── Task Completion ────────────────────────────────────────────────╮</span>\n",
       "<span style=\"color: #008000; text-decoration-color: #008000\">│</span>                                                                                                                 <span style=\"color: #008000; text-decoration-color: #008000\">│</span>\n",
       "<span style=\"color: #008000; text-decoration-color: #008000\">│</span>  <span style=\"color: #008000; text-decoration-color: #008000; font-weight: bold\">Task Completed</span>                                                                                                 <span style=\"color: #008000; text-decoration-color: #008000\">│</span>\n",
       "<span style=\"color: #008000; text-decoration-color: #008000\">│</span>  <span style=\"color: #c0c0c0; text-decoration-color: #c0c0c0\">Name: </span><span style=\"color: #008000; text-decoration-color: #008000\">61058d3b-c6d8-41a9-ab11-8e448603865c</span>                                                                     <span style=\"color: #008000; text-decoration-color: #008000\">│</span>\n",
       "<span style=\"color: #008000; text-decoration-color: #008000\">│</span>  <span style=\"color: #c0c0c0; text-decoration-color: #c0c0c0\">Agent: </span><span style=\"color: #008000; text-decoration-color: #008000\">Content Editor</span>                                                                                          <span style=\"color: #008000; text-decoration-color: #008000\">│</span>\n",
       "<span style=\"color: #008000; text-decoration-color: #008000\">│</span>                                                                                                                 <span style=\"color: #008000; text-decoration-color: #008000\">│</span>\n",
       "<span style=\"color: #008000; text-decoration-color: #008000\">│</span>                                                                                                                 <span style=\"color: #008000; text-decoration-color: #008000\">│</span>\n",
       "<span style=\"color: #008000; text-decoration-color: #008000\">╰─────────────────────────────────────────────────────────────────────────────────────────────────────────────────╯</span>\n",
       "</pre>\n"
      ],
      "text/plain": [
       "\u001b[32m╭─\u001b[0m\u001b[32m───────────────────────────────────────────────\u001b[0m\u001b[32m Task Completion \u001b[0m\u001b[32m───────────────────────────────────────────────\u001b[0m\u001b[32m─╮\u001b[0m\n",
       "\u001b[32m│\u001b[0m                                                                                                                 \u001b[32m│\u001b[0m\n",
       "\u001b[32m│\u001b[0m  \u001b[1;32mTask Completed\u001b[0m                                                                                                 \u001b[32m│\u001b[0m\n",
       "\u001b[32m│\u001b[0m  \u001b[37mName: \u001b[0m\u001b[32m61058d3b-c6d8-41a9-ab11-8e448603865c\u001b[0m                                                                     \u001b[32m│\u001b[0m\n",
       "\u001b[32m│\u001b[0m  \u001b[37mAgent: \u001b[0m\u001b[32mContent Editor\u001b[0m                                                                                          \u001b[32m│\u001b[0m\n",
       "\u001b[32m│\u001b[0m                                                                                                                 \u001b[32m│\u001b[0m\n",
       "\u001b[32m│\u001b[0m                                                                                                                 \u001b[32m│\u001b[0m\n",
       "\u001b[32m╰─────────────────────────────────────────────────────────────────────────────────────────────────────────────────╯\u001b[0m\n"
      ]
     },
     "metadata": {},
     "output_type": "display_data"
    },
    {
     "data": {
      "text/html": [
       "<pre style=\"white-space:pre;overflow-x:auto;line-height:normal;font-family:Menlo,'DejaVu Sans Mono',consolas,'Courier New',monospace\">\n",
       "</pre>\n"
      ],
      "text/plain": [
       "\n"
      ]
     },
     "metadata": {},
     "output_type": "display_data"
    },
    {
     "data": {
      "text/html": [
       "<pre style=\"white-space:pre;overflow-x:auto;line-height:normal;font-family:Menlo,'DejaVu Sans Mono',consolas,'Courier New',monospace\"><span style=\"color: #008000; text-decoration-color: #008000\">╭──────────────────────────────────────────────── Crew Completion ────────────────────────────────────────────────╮</span>\n",
       "<span style=\"color: #008000; text-decoration-color: #008000\">│</span>                                                                                                                 <span style=\"color: #008000; text-decoration-color: #008000\">│</span>\n",
       "<span style=\"color: #008000; text-decoration-color: #008000\">│</span>  <span style=\"color: #008000; text-decoration-color: #008000; font-weight: bold\">Crew Execution Completed</span>                                                                                       <span style=\"color: #008000; text-decoration-color: #008000\">│</span>\n",
       "<span style=\"color: #008000; text-decoration-color: #008000\">│</span>  <span style=\"color: #c0c0c0; text-decoration-color: #c0c0c0\">Name: </span><span style=\"color: #008000; text-decoration-color: #008000\">crew</span>                                                                                                     <span style=\"color: #008000; text-decoration-color: #008000\">│</span>\n",
       "<span style=\"color: #008000; text-decoration-color: #008000\">│</span>  <span style=\"color: #c0c0c0; text-decoration-color: #c0c0c0\">ID: </span><span style=\"color: #008000; text-decoration-color: #008000\">902278e0-a5b0-4aa2-afec-cae9ab4f4770</span>                                                                       <span style=\"color: #008000; text-decoration-color: #008000\">│</span>\n",
       "<span style=\"color: #008000; text-decoration-color: #008000\">│</span>                                                                                                                 <span style=\"color: #008000; text-decoration-color: #008000\">│</span>\n",
       "<span style=\"color: #008000; text-decoration-color: #008000\">│</span>                                                                                                                 <span style=\"color: #008000; text-decoration-color: #008000\">│</span>\n",
       "<span style=\"color: #008000; text-decoration-color: #008000\">╰─────────────────────────────────────────────────────────────────────────────────────────────────────────────────╯</span>\n",
       "</pre>\n"
      ],
      "text/plain": [
       "\u001b[32m╭─\u001b[0m\u001b[32m───────────────────────────────────────────────\u001b[0m\u001b[32m Crew Completion \u001b[0m\u001b[32m───────────────────────────────────────────────\u001b[0m\u001b[32m─╮\u001b[0m\n",
       "\u001b[32m│\u001b[0m                                                                                                                 \u001b[32m│\u001b[0m\n",
       "\u001b[32m│\u001b[0m  \u001b[1;32mCrew Execution Completed\u001b[0m                                                                                       \u001b[32m│\u001b[0m\n",
       "\u001b[32m│\u001b[0m  \u001b[37mName: \u001b[0m\u001b[32mcrew\u001b[0m                                                                                                     \u001b[32m│\u001b[0m\n",
       "\u001b[32m│\u001b[0m  \u001b[37mID: \u001b[0m\u001b[32m902278e0-a5b0-4aa2-afec-cae9ab4f4770\u001b[0m                                                                       \u001b[32m│\u001b[0m\n",
       "\u001b[32m│\u001b[0m                                                                                                                 \u001b[32m│\u001b[0m\n",
       "\u001b[32m│\u001b[0m                                                                                                                 \u001b[32m│\u001b[0m\n",
       "\u001b[32m╰─────────────────────────────────────────────────────────────────────────────────────────────────────────────────╯\u001b[0m\n"
      ]
     },
     "metadata": {},
     "output_type": "display_data"
    },
    {
     "data": {
      "text/html": [
       "<pre style=\"white-space:pre;overflow-x:auto;line-height:normal;font-family:Menlo,'DejaVu Sans Mono',consolas,'Courier New',monospace\">\n",
       "</pre>\n"
      ],
      "text/plain": [
       "\n"
      ]
     },
     "metadata": {},
     "output_type": "display_data"
    },
    {
     "name": "stdout",
     "output_type": "stream",
     "text": [
      "\n",
      "Collaborative Agent Results:\n",
      "## Unlock the Power of the Cloud: A Comprehensive Guide to Cloud Computing\n",
      "\n",
      "Imagine accessing limitless computing power, storage, and software without the burden of managing complex infrastructure. This is the promise of cloud computing, a transformative technology that has reshaped how businesses and individuals interact with technology. This article explores the core concepts of cloud computing, examines different service models, and discusses the benefits and challenges of adopting this innovative approach.\n",
      "\n",
      "### What is Cloud Computing? Demystifying the Core Concepts\n",
      "\n",
      "At its core, cloud computing is the on-demand delivery of computing services—including servers, storage, databases, networking, software, analytics, and intelligence—over the Internet (\"the cloud\"). It offers faster innovation, flexible resources, and economies of scale. Instead of owning and maintaining physical data centers, users can access these resources from a cloud provider and pay only for what they use.\n",
      "\n",
      "Think of it like electricity. You don't need to build your power plant to have electricity. You tap into the power grid and pay for the electricity consumed. Cloud computing works similarly, providing access to computing resources on a pay-as-you-go basis. If the service is provided according to the users' requirements, it falls under cloud computing.\n",
      "\n",
      "**Key Characteristics of Cloud Computing:**\n",
      "\n",
      "*   **On-demand self-service:** Users can independently provision computing capabilities, such as server time and network storage, as needed automatically without requiring human interaction with the service provider.\n",
      "*   **Broad network access:** Capabilities are available over the network and accessed through standard mechanisms that promote use by heterogeneous thin or thick client platforms (e.g., mobile phones, tablets, laptops, and workstations).\n",
      "*   **Resource pooling:** The provider's computing resources are pooled to serve multiple consumers using a multi-tenant model, with physical and virtual resources dynamically assigned and reassigned according to consumer demand. Location independence is a key aspect.\n",
      "*   **Rapid elasticity:** Capabilities can be elastically provisioned and released, in some cases automatically, to scale rapidly outward and inward commensurate with demand. To the consumer, the capabilities available often appear to be unlimited and can be appropriated in any quantity at any time.\n",
      "*   **Measured service:** Cloud systems automatically control and optimize resource use by leveraging a metering capability at some level of abstraction appropriate to the type of service (e.g., storage, processing, bandwidth, and active user accounts). Resource usage can be monitored, controlled, and reported, providing transparency for both the provider and consumer.\n",
      "\n",
      "### Major Cloud Service Providers\n",
      "\n",
      "The cloud computing market is led by several major players and numerous smaller, specialized providers. Here are some of the most prominent cloud service providers:\n",
      "\n",
      "*   **Amazon Web Services (AWS):** A comprehensive and broadly adopted cloud platform, offering a wide range of services including computing, storage, databases, analytics, machine learning, and more. AWS is generally considered the market leader.\n",
      "*   **Microsoft Azure:** Another leading cloud platform, providing a suite of services for computing, networking, storage, databases, analytics, AI, and IoT. Azure is tightly integrated with Microsoft's other products and services, making it a popular choice for organizations already using Microsoft technologies.\n",
      "*   **Google Cloud Platform (GCP):** A fast-growing cloud platform that offers a range of services including computing, storage, databases, data analytics, and machine learning. GCP is known for its strength in data analytics and machine learning, as well as its innovative technologies like Kubernetes.\n",
      "*   **Alibaba Cloud:** A major cloud provider, particularly in the Asia-Pacific region. It offers a wide range of services, including computing, storage, networking, databases, security, and AI.\n",
      "*   **IBM Cloud:** IBM offers a variety of cloud services, including IaaS, PaaS, and SaaS solutions. IBM Cloud emphasizes hybrid cloud solutions and enterprise-grade security.\n",
      "*   **Oracle Cloud Infrastructure (OCI):** Oracle's cloud platform, providing services for computing, storage, networking, databases, and applications. OCI is designed to support enterprise workloads and offers a focus on performance and security.\n",
      "*   **Salesforce:** Primarily known for its SaaS offerings, especially its customer relationship management (CRM) platform. Salesforce also offers PaaS solutions for building and deploying custom applications.\n",
      "*   **SAP:** Another major SaaS provider, specializing in enterprise resource planning (ERP) software and related services. SAP also offers PaaS solutions for developing and deploying custom applications on its platform.\n",
      "*   **DigitalOcean:** Focuses on providing cloud computing services to developers, offering simple and affordable virtual servers, storage, and networking solutions.\n",
      "*   **OVHcloud:** A European cloud provider offering a range of services, including IaaS, PaaS, and dedicated servers.\n",
      "\n",
      "### Cloud Service Models: IaaS, PaaS, and SaaS Explained\n",
      "\n",
      "Cloud computing services are typically categorized into three main types, each offering a different level of control and responsibility: Infrastructure as a Service (IaaS), Platform as a Service (PaaS), and Software as a Service (SaaS).\n",
      "\n",
      "#### Infrastructure as a Service (IaaS)\n",
      "\n",
      "*   **Description:** IaaS provides access to fundamental computing infrastructure—virtual machines, storage, networks, and operating systems—over the internet. Users manage the operating systems, storage, deployed applications, and potentially select networking components (e.g., firewalls). The cloud provider manages the hardware, virtualization, and underlying infrastructure.\n",
      "*   **Examples:** Amazon EC2, Microsoft Azure Virtual Machines, Google Compute Engine, DigitalOcean Droplets.\n",
      "*   **Use Cases:**\n",
      "    *   Testing and development\n",
      "    *   Storage, backup, and recovery\n",
      "    *   Web hosting\n",
      "    *   High-performance computing\n",
      "    *   Enterprise infrastructure\n",
      "*   **Benefits:**\n",
      "    *   Flexibility and control over infrastructure\n",
      "    *   Scalability and elasticity\n",
      "    *   Pay-as-you-go pricing\n",
      "    *   No upfront investment in hardware\n",
      "*   **Responsibilities:**\n",
      "    *   **Customer:** Managing operating systems, applications, data, runtime, middleware\n",
      "    *   **Provider:** Managing virtualization, servers, storage, networking\n",
      "\n",
      "#### Platform as a Service (PaaS)\n",
      "\n",
      "*   **Description:** PaaS provides a platform allowing customers to develop, run, and manage applications without the complexity of building and maintaining the underlying infrastructure. PaaS includes operating systems, programming language execution environments, databases, web servers, and more.\n",
      "*   **Examples:** AWS Elastic Beanstalk, Google App Engine, Microsoft Azure App Service, Heroku, Red Hat OpenShift.\n",
      "*   **Use Cases:**\n",
      "    *   Application development and deployment\n",
      "    *   API development and management\n",
      "    *   DevOps support\n",
      "    *   Business analytics\n",
      "*   **Benefits:**\n",
      "    *   Reduced management overhead\n",
      "    *   Faster development cycles\n",
      "    *   Support for multiple programming languages and frameworks\n",
      "    *   Collaboration and code sharing\n",
      "*   **Responsibilities:**\n",
      "    *   **Customer:** Managing applications and data\n",
      "    *   **Provider:** Managing everything else (runtime, middleware, OS, virtualization, servers, storage, networking)\n",
      "\n",
      "#### Software as a Service (SaaS)\n",
      "\n",
      "*   **Description:** SaaS provides access to software applications over the internet, typically on a subscription basis. Users can access the software from various devices without needing to install or manage anything. The cloud provider handles all aspects of the application, including infrastructure, maintenance, and updates.\n",
      "*   **Examples:** Salesforce, Google Workspace (Gmail, Docs, Drive), Microsoft 365, Dropbox, Zoom.\n",
      "*   **Use Cases:**\n",
      "    *   Customer relationship management (CRM)\n",
      "    *   Email and collaboration\n",
      "    *   Office productivity\n",
      "    *   Project management\n",
      "    *   Content management\n",
      "*   **Benefits:**\n",
      "    *   Easy to use and access\n",
      "    *   No installation or maintenance required\n",
      "    *   Automatic updates\n",
      "    *   Scalability and accessibility\n",
      "*   **Responsibilities:**\n",
      "    *   **Customer:** Using the software\n",
      "    *   **Provider:** Managing everything (application, data, runtime, middleware, OS, virtualization, servers, storage, networking)\n",
      "\n",
      "### Benefits and Challenges of Cloud Computing\n",
      "\n",
      "Cloud computing offers numerous benefits, but it's also essential to be aware of the challenges.\n",
      "\n",
      "#### Benefits\n",
      "\n",
      "*   **Cost Savings:** Reduced capital expenditure (CapEx) on hardware and infrastructure. Pay-as-you-go pricing models can lower operational expenditure (OpEx).\n",
      "*   **Scalability and Elasticity:** Easily scale resources up or down based on demand, ensuring optimal performance and cost efficiency.\n",
      "*   **Increased Agility and Speed:** Faster deployment of applications and services, enabling businesses to respond quickly to changing market conditions.\n",
      "*   **Improved Collaboration:** Enhanced collaboration among teams through shared access to data and applications.\n",
      "*   **Business Continuity and Disaster Recovery:** Cloud-based backup and recovery solutions provide robust protection against data loss and downtime.\n",
      "*   **Access from Anywhere:** Access applications and data from any device with an internet connection.\n",
      "*   **Automatic Updates:** Cloud providers handle software updates and maintenance, freeing up IT staff to focus on other priorities.\n",
      "*   **Innovation:** Cloud computing provides access to cutting-edge technologies, such as AI, machine learning, and big data analytics.\n",
      "\n",
      "#### Challenges\n",
      "\n",
      "*   **Security:** Concerns about data security and privacy in the cloud. Cloud providers must implement robust security measures to protect customer data.\n",
      "*   **Compliance:** Meeting regulatory compliance requirements (e.g., GDPR, HIPAA) can be complex in the cloud.\n",
      "*   **Vendor Lock-in:** Difficulty migrating data and applications from one cloud provider to another.\n",
      "*   **Downtime:** Cloud services can be subject to outages, which can disrupt business operations.\n",
      "*   **Lack of Control:** Less control over infrastructure compared to on-premises environments.\n",
      "*   **Complexity:** Managing cloud resources and services can be complex, requiring specialized skills and expertise.\n",
      "*   **Cost Management:** Unexpected costs can arise if cloud resources are not properly managed and optimized.\n",
      "*   **Network Dependency:** Reliance on a stable and reliable internet connection.\n",
      "\n",
      "### The Future of Cloud Computing: Trends and Predictions\n",
      "\n",
      "The future of cloud computing is marked by continuous innovation and expansion. Key trends include:\n",
      "\n",
      "*   **Edge Computing:** Bringing computation and data storage closer to the data source to reduce latency and improve performance.\n",
      "*   **Serverless Computing:** Further abstracting the underlying infrastructure, allowing developers to focus solely on writing code.\n",
      "*   **AI and Machine Learning Integration:** Seamlessly integrating AI and ML services into cloud platforms, making these technologies more accessible.\n",
      "*   **Hybrid and Multi-Cloud Strategies:** Organizations increasingly adopting hybrid and multi-cloud strategies to leverage the best of both worlds – on-premises infrastructure and multiple cloud providers – for optimized performance, cost, and resilience.\n",
      "*   **Greater Focus on Security and Compliance:** Cloud providers continuously investing in security and compliance to address growing concerns about data privacy and regulatory requirements.\n",
      "\n",
      "### Conclusion: Embracing the Cloud for the Future\n",
      "\n",
      "Cloud computing has revolutionized the IT landscape, offering unprecedented flexibility, scalability, and cost savings. By understanding the key concepts, service models, benefits, and potential challenges, organizations can leverage the power of the cloud to drive innovation, accelerate growth, and gain a competitive advantage. As cloud technology continues to evolve, embracing this transformative paradigm is essential for success in the digital age.\n"
     ]
    }
   ],
   "source": [
    "# Create specialized agents for collaboration\n",
    "researcher_agent = Agent(\n",
    "   role=\"Research Analyst\",\n",
    "   goal=\"Gather and analyze information on requested topics\",\n",
    "   backstory=\"\"\"You are an experienced research analyst who specializes in collecting\n",
    "   and analyzing information from various sources. You provide accurate, concise summaries.\"\"\",\n",
    "   verbose=True,\n",
    "   allow_delegation=False,\n",
    "   llm=llm\n",
    ")\n",
    "\n",
    "writer_agent = Agent(\n",
    "   role=\"Content Writer\",\n",
    "   goal=\"Transform research findings into well-written content\",\n",
    "   backstory=\"\"\"You are a skilled content writer who takes research data and creates\n",
    "   engaging, informative articles. You focus on clarity and readability.\"\"\",\n",
    "   verbose=True,\n",
    "   allow_delegation=False,\n",
    "   llm=llm\n",
    ")\n",
    "\n",
    "editor_agent = Agent(\n",
    "   role=\"Content Editor\",\n",
    "   goal=\"Review and refine written content for quality and accuracy\",\n",
    "   backstory=\"\"\"You are an experienced editor who ensures content is accurate, well-structured,\n",
    "   and free of errors. You provide constructive feedback and improvements.\"\"\",\n",
    "   verbose=True,\n",
    "   allow_delegation=False,\n",
    "   llm=llm\n",
    ")\n",
    "\n",
    "# Define collaborative tasks\n",
    "research_task = Task(\n",
    "   description=\"\"\"Research comprehensive information about \"Cloud Computing Services\":\n",
    "   1. Define what cloud computing is\n",
    "   2. List major cloud service providers\n",
    "   3. Explain types of cloud services (IaaS, PaaS, SaaS)\n",
    "   4. Describe benefits and challenges\"\"\",\n",
    "   expected_output=\"Detailed research findings about cloud computing services\",\n",
    "   agent=researcher_agent\n",
    ")\n",
    "\n",
    "writing_task = Task(\n",
    "   description=\"\"\"Using the research provided, write an informative article about cloud computing:\n",
    "   1. Start with an engaging introduction\n",
    "   2. Explain the key concepts clearly\n",
    "   3. Provide examples and comparisons\n",
    "   4. Conclude with future outlook\"\"\",\n",
    "   expected_output=\"Well-written article about cloud computing services\",\n",
    "   agent=writer_agent,\n",
    "   dependencies=[research_task]  # This task depends on research_task completion\n",
    ")\n",
    "\n",
    "editing_task = Task(\n",
    "   description=\"\"\"Review and edit the article about cloud computing:\n",
    "   1. Check for clarity and flow\n",
    "   2. Ensure technical accuracy\n",
    "   3. Improve sentence structure\n",
    "   4. Add section headings if missing\n",
    "   5. Finalize the content\"\"\",\n",
    "   expected_output=\"Polished, publication-ready article about cloud computing\",\n",
    "   agent=editor_agent,\n",
    "   dependencies=[writing_task]  # This task depends on writing_task completion\n",
    ")\n",
    "\n",
    "# Create collaborative crew\n",
    "collaborative_crew = Crew(\n",
    "   agents=[researcher_agent, writer_agent, editor_agent],\n",
    "   tasks=[research_task, writing_task, editing_task],\n",
    "   verbose=True\n",
    ")\n",
    "\n",
    "# Execute collaborative workflow\n",
    "print(\"Starting collaborative crew workflow...\")\n",
    "collaboration_result = collaborative_crew.kickoff()\n",
    "print(\"\\nCollaborative Agent Results:\")\n",
    "print(collaboration_result)"
   ]
  },
  {
   "cell_type": "markdown",
   "metadata": {
    "id": "ndPYuh_TcP3i"
   },
   "source": [
    "## 4. Planning Agent System\n",
    "\n",
    "This pattern demonstrates agents that can break down complex tasks into actionable steps and execute them systematically. The planning system creates structured workflows for task completion.\n",
    "\n",
    "Key features:\n",
    "- Task decomposition\n",
    "- Step-by-step execution planning\n",
    "- Goal-oriented task management\n",
    "- Systematic task completion"
   ]
  },
  {
   "cell_type": "code",
   "execution_count": 21,
   "metadata": {
    "colab": {
     "base_uri": "https://localhost:8080/",
     "height": 1000
    },
    "executionInfo": {
     "elapsed": 16787,
     "status": "ok",
     "timestamp": 1746264027423,
     "user": {
      "displayName": "Pruthvik Sheth",
      "userId": "03427505168681154907"
     },
     "user_tz": 420
    },
    "id": "jKeIBrD0cOQx",
    "outputId": "09d54d43-2047-4cd1-f1ef-9c6d96a333ca"
   },
   "outputs": [
    {
     "name": "stdout",
     "output_type": "stream",
     "text": [
      "Starting planning crew workflow...\n"
     ]
    },
    {
     "data": {
      "text/html": [
       "<pre style=\"white-space:pre;overflow-x:auto;line-height:normal;font-family:Menlo,'DejaVu Sans Mono',consolas,'Courier New',monospace\"><span style=\"color: #008080; text-decoration-color: #008080\">╭──────────────────────────────────────────── Crew Execution Started ─────────────────────────────────────────────╮</span>\n",
       "<span style=\"color: #008080; text-decoration-color: #008080\">│</span>                                                                                                                 <span style=\"color: #008080; text-decoration-color: #008080\">│</span>\n",
       "<span style=\"color: #008080; text-decoration-color: #008080\">│</span>  <span style=\"color: #008080; text-decoration-color: #008080; font-weight: bold\">Crew Execution Started</span>                                                                                         <span style=\"color: #008080; text-decoration-color: #008080\">│</span>\n",
       "<span style=\"color: #008080; text-decoration-color: #008080\">│</span>  <span style=\"color: #c0c0c0; text-decoration-color: #c0c0c0\">Name: </span><span style=\"color: #008080; text-decoration-color: #008080\">crew</span>                                                                                                     <span style=\"color: #008080; text-decoration-color: #008080\">│</span>\n",
       "<span style=\"color: #008080; text-decoration-color: #008080\">│</span>  <span style=\"color: #c0c0c0; text-decoration-color: #c0c0c0\">ID: </span><span style=\"color: #008080; text-decoration-color: #008080\">0c56e9b2-464a-423e-befc-198abf973f00</span>                                                                       <span style=\"color: #008080; text-decoration-color: #008080\">│</span>\n",
       "<span style=\"color: #008080; text-decoration-color: #008080\">│</span>                                                                                                                 <span style=\"color: #008080; text-decoration-color: #008080\">│</span>\n",
       "<span style=\"color: #008080; text-decoration-color: #008080\">│</span>                                                                                                                 <span style=\"color: #008080; text-decoration-color: #008080\">│</span>\n",
       "<span style=\"color: #008080; text-decoration-color: #008080\">╰─────────────────────────────────────────────────────────────────────────────────────────────────────────────────╯</span>\n",
       "</pre>\n"
      ],
      "text/plain": [
       "\u001b[36m╭─\u001b[0m\u001b[36m───────────────────────────────────────────\u001b[0m\u001b[36m Crew Execution Started \u001b[0m\u001b[36m────────────────────────────────────────────\u001b[0m\u001b[36m─╮\u001b[0m\n",
       "\u001b[36m│\u001b[0m                                                                                                                 \u001b[36m│\u001b[0m\n",
       "\u001b[36m│\u001b[0m  \u001b[1;36mCrew Execution Started\u001b[0m                                                                                         \u001b[36m│\u001b[0m\n",
       "\u001b[36m│\u001b[0m  \u001b[37mName: \u001b[0m\u001b[36mcrew\u001b[0m                                                                                                     \u001b[36m│\u001b[0m\n",
       "\u001b[36m│\u001b[0m  \u001b[37mID: \u001b[0m\u001b[36m0c56e9b2-464a-423e-befc-198abf973f00\u001b[0m                                                                       \u001b[36m│\u001b[0m\n",
       "\u001b[36m│\u001b[0m                                                                                                                 \u001b[36m│\u001b[0m\n",
       "\u001b[36m│\u001b[0m                                                                                                                 \u001b[36m│\u001b[0m\n",
       "\u001b[36m╰─────────────────────────────────────────────────────────────────────────────────────────────────────────────────╯\u001b[0m\n"
      ]
     },
     "metadata": {},
     "output_type": "display_data"
    },
    {
     "data": {
      "text/html": [
       "<pre style=\"white-space:pre;overflow-x:auto;line-height:normal;font-family:Menlo,'DejaVu Sans Mono',consolas,'Courier New',monospace\">\n",
       "</pre>\n"
      ],
      "text/plain": [
       "\n"
      ]
     },
     "metadata": {},
     "output_type": "display_data"
    },
    {
     "data": {
      "text/html": [
       "<pre style=\"white-space:pre;overflow-x:auto;line-height:normal;font-family:Menlo,'DejaVu Sans Mono',consolas,'Courier New',monospace\"><span style=\"color: #008080; text-decoration-color: #008080; font-weight: bold\">🚀 Crew: crew</span>\n",
       "└── <span style=\"color: #808000; text-decoration-color: #808000; font-weight: bold\">📋 Task: 0d3c0487-2bf4-4480-8f84-d1af1b5e9d38</span>\n",
       "    <span style=\"color: #c0c0c0; text-decoration-color: #c0c0c0\">   Status: </span><span style=\"color: #bfbf7f; text-decoration-color: #bfbf7f\">Executing Task...</span>\n",
       "</pre>\n"
      ],
      "text/plain": [
       "\u001b[1;36m🚀 Crew: \u001b[0m\u001b[1;36mcrew\u001b[0m\n",
       "└── \u001b[1;33m📋 Task: 0d3c0487-2bf4-4480-8f84-d1af1b5e9d38\u001b[0m\n",
       "    \u001b[37m   Status: \u001b[0m\u001b[2;33mExecuting Task...\u001b[0m\n"
      ]
     },
     "metadata": {},
     "output_type": "display_data"
    },
    {
     "data": {
      "text/html": [
       "<pre style=\"white-space:pre;overflow-x:auto;line-height:normal;font-family:Menlo,'DejaVu Sans Mono',consolas,'Courier New',monospace\">\n",
       "</pre>\n"
      ],
      "text/plain": [
       "\n"
      ]
     },
     "metadata": {},
     "output_type": "display_data"
    },
    {
     "data": {
      "text/html": [
       "<pre style=\"white-space:pre;overflow-x:auto;line-height:normal;font-family:Menlo,'DejaVu Sans Mono',consolas,'Courier New',monospace\"><span style=\"color: #008080; text-decoration-color: #008080; font-weight: bold\">🚀 Crew: crew</span>\n",
       "└── <span style=\"color: #808000; text-decoration-color: #808000; font-weight: bold\">📋 Task: 0d3c0487-2bf4-4480-8f84-d1af1b5e9d38</span>\n",
       "    <span style=\"color: #c0c0c0; text-decoration-color: #c0c0c0\">   Status: </span><span style=\"color: #bfbf7f; text-decoration-color: #bfbf7f\">Executing Task...</span>\n",
       "    └── <span style=\"color: #008000; text-decoration-color: #008000; font-weight: bold\">🤖 Agent: </span><span style=\"color: #008000; text-decoration-color: #008000\">Project Planner</span>\n",
       "        <span style=\"color: #c0c0c0; text-decoration-color: #c0c0c0\">    Status: </span><span style=\"color: #008000; text-decoration-color: #008000; font-weight: bold\">In Progress</span>\n",
       "</pre>\n"
      ],
      "text/plain": [
       "\u001b[1;36m🚀 Crew: \u001b[0m\u001b[1;36mcrew\u001b[0m\n",
       "└── \u001b[1;33m📋 Task: 0d3c0487-2bf4-4480-8f84-d1af1b5e9d38\u001b[0m\n",
       "    \u001b[37m   Status: \u001b[0m\u001b[2;33mExecuting Task...\u001b[0m\n",
       "    └── \u001b[1;32m🤖 Agent: \u001b[0m\u001b[32mProject Planner\u001b[0m\n",
       "        \u001b[37m    Status: \u001b[0m\u001b[1;32mIn Progress\u001b[0m\n"
      ]
     },
     "metadata": {},
     "output_type": "display_data"
    },
    {
     "data": {
      "text/html": [
       "<pre style=\"white-space:pre;overflow-x:auto;line-height:normal;font-family:Menlo,'DejaVu Sans Mono',consolas,'Courier New',monospace\">\n",
       "</pre>\n"
      ],
      "text/plain": [
       "\n"
      ]
     },
     "metadata": {},
     "output_type": "display_data"
    },
    {
     "name": "stdout",
     "output_type": "stream",
     "text": [
      "\u001b[1m\u001b[95m# Agent:\u001b[00m \u001b[1m\u001b[92mProject Planner\u001b[00m\n",
      "\u001b[95m## Task:\u001b[00m \u001b[92mCreate a detailed plan for building a simple e-commerce website:\n",
      "   1. Break down the project into major phases\n",
      "   2. List specific tasks for each phase\n",
      "   3. Define dependencies between tasks\n",
      "   4. Estimate effort for each component\n",
      "   5. Create a logical execution sequence\u001b[00m\n",
      "\n",
      "\n",
      "\u001b[1m\u001b[95m# Agent:\u001b[00m \u001b[1m\u001b[92mProject Planner\u001b[00m\n",
      "\u001b[95m## Final Answer:\u001b[00m \u001b[92m\n",
      "## E-commerce Website Project Plan\n",
      "\n",
      "**1. Project Goal:**\n",
      "\n",
      "To develop and launch a functional e-commerce website capable of showcasing products, processing orders, and managing customer accounts.\n",
      "\n",
      "**2. Major Phases:**\n",
      "\n",
      "1.  **Planning & Requirements Gathering:** Defining the scope, features, and functionalities of the website.\n",
      "2.  **Design & Prototyping:** Creating the user interface (UI) and user experience (UX) design, and developing interactive prototypes.\n",
      "3.  **Development:** Building the front-end and back-end components of the website.\n",
      "4.  **Testing & Quality Assurance:** Thoroughly testing the website to identify and fix bugs.\n",
      "5.  **Deployment:** Launching the website to a live server.\n",
      "6.  **Maintenance & Support:** Providing ongoing maintenance and support to ensure smooth operation and address user issues.\n",
      "\n",
      "**3. Detailed Tasks, Dependencies, Effort Estimates, and Execution Sequence:**\n",
      "\n",
      "| Phase | Task                                  | Description                                                                             | Dependencies | Effort Estimate (Hours) | Execution Sequence |\n",
      "| :---- | :------------------------------------ | :-------------------------------------------------------------------------------------- | :----------- | :------------------------ | :----------------- |\n",
      "| **1. Planning & Requirements Gathering** |\n",
      "| 1.1   | Define Project Scope                  | Clearly define the boundaries of the project. What is included and what is excluded?   | None         | 4                       | 1                  |\n",
      "| 1.2   | Identify Target Audience            | Determine the demographics and characteristics of the intended users.                      | 1.1          | 4                       | 2                  |\n",
      "| 1.3   | Gather Functional Requirements        | Document all the features and functionalities the website must have.                     | 1.2          | 16                      | 3                  |\n",
      "| 1.4   | Gather Non-Functional Requirements    | Define performance, security, scalability, and usability requirements.                  | 1.2          | 8                       | 4                  |\n",
      "| 1.5   | Choose E-commerce Platform/Technology | Select the appropriate platform (e.g., Shopify, WooCommerce, custom development).       | 1.3, 1.4     | 8                       | 5                  |\n",
      "| 1.6   | Define Payment Gateway Integration    | Determine which payment gateways will be integrated (e.g., Stripe, PayPal).                | 1.3          | 4                       | 6                  |\n",
      "| **2. Design & Prototyping** |\n",
      "| 2.1   | Create Wireframes                     | Develop basic structural outlines of key pages (homepage, product page, checkout).   | 1.3          | 12                      | 7                  |\n",
      "| 2.2   | Design UI Mockups                     | Create visual representations of the website with branding and styling.                  | 2.1          | 20                      | 8                  |\n",
      "| 2.3   | Develop Interactive Prototype         | Build a clickable prototype to simulate user interaction and test the user flow.       | 2.2          | 16                      | 9                  |\n",
      "| 2.4   | User Testing of Prototype             | Conduct user testing to gather feedback and identify areas for improvement.             | 2.3          | 8                       | 10                 |\n",
      "| 2.5   | Iterate on Design                   | Refine the design based on user feedback.                                               | 2.4          | 12                      | 11                 |\n",
      "| **3. Development** |\n",
      "| 3.1   | Set up Development Environment        | Configure the development environment with necessary tools and libraries.                | 1.5          | 4                       | 12                 |\n",
      "| 3.2   | Develop Front-End                     | Build the user interface using HTML, CSS, and JavaScript.                               | 2.5, 3.1     | 60                      | 13                 |\n",
      "| 3.3   | Develop Back-End                      | Build the server-side logic, database interactions, and API endpoints.                   | 1.5, 3.1     | 80                      | 14                 |\n",
      "| 3.4   | Implement Payment Gateway Integration | Integrate the chosen payment gateway for processing transactions.                        | 1.6, 3.3     | 24                      | 15                 |\n",
      "| 3.5   | Implement Database                    | Set up and configure the database to store product, customer, and order data.        | 3.3          | 16                      | 16                 |\n",
      "| 3.6   | Develop Content Management System (CMS) | Implement a CMS to manage website content (products, blog posts, etc.).                | 3.3          | 32                      | 17                 |\n",
      "| **4. Testing & Quality Assurance** |\n",
      "| 4.1   | Unit Testing                          | Test individual components and functions to ensure they work correctly.               | 3.2, 3.3     | 24                      | 18                 |\n",
      "| 4.2   | Integration Testing                   | Test the interaction between different components to ensure they work together smoothly. | 3.4, 3.5, 3.6| 20                      | 19                 |\n",
      "| 4.3   | System Testing                        | Test the entire system to ensure it meets the requirements.                             | 4.1, 4.2     | 24                      | 20                 |\n",
      "| 4.4   | User Acceptance Testing (UAT)         | Have users test the website to ensure it meets their needs.                            | 4.3          | 16                      | 21                 |\n",
      "| 4.5   | Bug Fixing                            | Fix any bugs identified during testing.                                                  | 4.1, 4.2, 4.3, 4.4| 40                      | 22                 |\n",
      "| **5. Deployment** |\n",
      "| 5.1   | Choose Hosting Provider               | Select a suitable hosting provider for the website.                                     | 1.4          | 4                       | 23                 |\n",
      "| 5.2   | Set up Server Environment             | Configure the server environment with necessary software and settings.                  | 5.1          | 8                       | 24                 |\n",
      "| 5.3   | Deploy Website Files                  | Upload the website files to the server.                                                 | 5.2, 4.5     | 8                       | 25                 |\n",
      "| 5.4   | Configure DNS Records                 | Configure DNS records to point the domain name to the server.                            | 5.3          | 4                       | 26                 |\n",
      "| 5.5   | Test Website on Live Server           | Test the website thoroughly on the live server.                                         | 5.4          | 8                       | 27                 |\n",
      "| **6. Maintenance & Support** |\n",
      "| 6.1   | Monitor Website Performance          | Track website performance metrics (e.g., uptime, page load speed).                       | 5.5          | Ongoing (4 hours/week)    | 28                 |\n",
      "| 6.2   | Provide Technical Support             | Address user issues and provide technical assistance.                                   | 5.5          | Ongoing (8 hours/week)    | 29                 |\n",
      "| 6.3   | Perform Security Updates              | Regularly update software and apply security patches.                                    | 5.5          | Ongoing (4 hours/month)   | 30                 |\n",
      "| 6.4   | Content Updates                       | Regularly update website content.                                                 | 5.5          | Ongoing (Varies)    | 31                 |\n",
      "| 6.5   | Bug Fixes and Enhancements            | Address new bugs as they appear and add new features.                                    | User Feedback, Monitoring  | Ongoing (Varies)        | 32                 |\n",
      "\n",
      "**4. Dependencies Summary:**\n",
      "\n",
      "*   Tasks within each phase generally depend on the completion of preceding tasks in the same phase.\n",
      "*   The Development phase depends on the completion of the Design & Prototyping phase.\n",
      "*   The Testing & Quality Assurance phase depends on the completion of the Development phase.\n",
      "*   The Deployment phase depends on the completion of the Testing & Quality Assurance phase.\n",
      "*   The Maintenance & Support phase depends on the completion of the Deployment phase.\n",
      "\n",
      "**5. Effort Estimate Summary:**\n",
      "\n",
      "*   Planning & Requirements Gathering: 44 hours\n",
      "*   Design & Prototyping: 68 hours\n",
      "*   Development: 212 hours\n",
      "*   Testing & Quality Assurance: 108 hours\n",
      "*   Deployment: 32 hours\n",
      "*   Maintenance & Support: Ongoing\n",
      "\n",
      "**Total Estimated Effort (Excluding Ongoing Maintenance): 464 hours**\n",
      "\n",
      "**6. Logical Execution Sequence (Gantt Chart Representation - Conceptual):**\n",
      "\n",
      "A Gantt chart would visually represent the execution sequence and dependencies. The tasks would be listed along the vertical axis, and time would be represented along the horizontal axis. Bars would indicate the duration of each task, and dependencies would be shown with arrows connecting the tasks.\n",
      "\n",
      "**Note:**\n",
      "\n",
      "*   The effort estimates are approximate and may vary depending on the complexity of the project and the skills of the team.\n",
      "*   The execution sequence is a suggestion and may need to be adjusted based on the specific circumstances of the project.\n",
      "*   This plan assumes a relatively simple e-commerce website. More complex projects will require a more detailed plan.\n",
      "*   Ongoing maintenance estimates are provided per week/month as indicated. Actual effort will vary greatly depending on the level of activity and number of issues that arise.\u001b[00m\n",
      "\n",
      "\n"
     ]
    },
    {
     "data": {
      "text/html": [
       "<pre style=\"white-space:pre;overflow-x:auto;line-height:normal;font-family:Menlo,'DejaVu Sans Mono',consolas,'Courier New',monospace\"><span style=\"color: #008080; text-decoration-color: #008080; font-weight: bold\">🚀 Crew: crew</span>\n",
       "└── <span style=\"color: #808000; text-decoration-color: #808000; font-weight: bold\">📋 Task: 0d3c0487-2bf4-4480-8f84-d1af1b5e9d38</span>\n",
       "    <span style=\"color: #c0c0c0; text-decoration-color: #c0c0c0\">   Status: </span><span style=\"color: #bfbf7f; text-decoration-color: #bfbf7f\">Executing Task...</span>\n",
       "    └── <span style=\"color: #008000; text-decoration-color: #008000; font-weight: bold\">🤖 Agent: </span><span style=\"color: #008000; text-decoration-color: #008000\">Project Planner</span>\n",
       "        <span style=\"color: #c0c0c0; text-decoration-color: #c0c0c0\">    Status: </span><span style=\"color: #008000; text-decoration-color: #008000; font-weight: bold\">✅ Completed</span>\n",
       "</pre>\n"
      ],
      "text/plain": [
       "\u001b[1;36m🚀 Crew: \u001b[0m\u001b[1;36mcrew\u001b[0m\n",
       "└── \u001b[1;33m📋 Task: 0d3c0487-2bf4-4480-8f84-d1af1b5e9d38\u001b[0m\n",
       "    \u001b[37m   Status: \u001b[0m\u001b[2;33mExecuting Task...\u001b[0m\n",
       "    └── \u001b[1;32m🤖 Agent: \u001b[0m\u001b[32mProject Planner\u001b[0m\n",
       "        \u001b[37m    Status: \u001b[0m\u001b[1;32m✅ Completed\u001b[0m\n"
      ]
     },
     "metadata": {},
     "output_type": "display_data"
    },
    {
     "data": {
      "text/html": [
       "<pre style=\"white-space:pre;overflow-x:auto;line-height:normal;font-family:Menlo,'DejaVu Sans Mono',consolas,'Courier New',monospace\">\n",
       "</pre>\n"
      ],
      "text/plain": [
       "\n"
      ]
     },
     "metadata": {},
     "output_type": "display_data"
    },
    {
     "data": {
      "text/html": [
       "<pre style=\"white-space:pre;overflow-x:auto;line-height:normal;font-family:Menlo,'DejaVu Sans Mono',consolas,'Courier New',monospace\"><span style=\"color: #008080; text-decoration-color: #008080; font-weight: bold\">🚀 Crew: crew</span>\n",
       "└── <span style=\"color: #008000; text-decoration-color: #008000; font-weight: bold\">📋 Task: 0d3c0487-2bf4-4480-8f84-d1af1b5e9d38</span>\n",
       "    <span style=\"color: #c0c0c0; text-decoration-color: #c0c0c0\">   Assigned to: </span><span style=\"color: #008000; text-decoration-color: #008000\">Project Planner</span>\n",
       "    <span style=\"color: #c0c0c0; text-decoration-color: #c0c0c0\">   Status: </span><span style=\"color: #008000; text-decoration-color: #008000; font-weight: bold\">✅ Completed</span>\n",
       "    └── <span style=\"color: #008000; text-decoration-color: #008000; font-weight: bold\">🤖 Agent: </span><span style=\"color: #008000; text-decoration-color: #008000\">Project Planner</span>\n",
       "        <span style=\"color: #c0c0c0; text-decoration-color: #c0c0c0\">    Status: </span><span style=\"color: #008000; text-decoration-color: #008000; font-weight: bold\">✅ Completed</span>\n",
       "</pre>\n"
      ],
      "text/plain": [
       "\u001b[1;36m🚀 Crew: \u001b[0m\u001b[1;36mcrew\u001b[0m\n",
       "└── \u001b[1;32m📋 Task: 0d3c0487-2bf4-4480-8f84-d1af1b5e9d38\u001b[0m\n",
       "    \u001b[37m   Assigned to: \u001b[0m\u001b[32mProject Planner\u001b[0m\n",
       "    \u001b[37m   Status: \u001b[0m\u001b[1;32m✅ Completed\u001b[0m\n",
       "    └── \u001b[1;32m🤖 Agent: \u001b[0m\u001b[32mProject Planner\u001b[0m\n",
       "        \u001b[37m    Status: \u001b[0m\u001b[1;32m✅ Completed\u001b[0m\n"
      ]
     },
     "metadata": {},
     "output_type": "display_data"
    },
    {
     "data": {
      "text/html": [
       "<pre style=\"white-space:pre;overflow-x:auto;line-height:normal;font-family:Menlo,'DejaVu Sans Mono',consolas,'Courier New',monospace\"><span style=\"color: #008000; text-decoration-color: #008000\">╭──────────────────────────────────────────────── Task Completion ────────────────────────────────────────────────╮</span>\n",
       "<span style=\"color: #008000; text-decoration-color: #008000\">│</span>                                                                                                                 <span style=\"color: #008000; text-decoration-color: #008000\">│</span>\n",
       "<span style=\"color: #008000; text-decoration-color: #008000\">│</span>  <span style=\"color: #008000; text-decoration-color: #008000; font-weight: bold\">Task Completed</span>                                                                                                 <span style=\"color: #008000; text-decoration-color: #008000\">│</span>\n",
       "<span style=\"color: #008000; text-decoration-color: #008000\">│</span>  <span style=\"color: #c0c0c0; text-decoration-color: #c0c0c0\">Name: </span><span style=\"color: #008000; text-decoration-color: #008000\">0d3c0487-2bf4-4480-8f84-d1af1b5e9d38</span>                                                                     <span style=\"color: #008000; text-decoration-color: #008000\">│</span>\n",
       "<span style=\"color: #008000; text-decoration-color: #008000\">│</span>  <span style=\"color: #c0c0c0; text-decoration-color: #c0c0c0\">Agent: </span><span style=\"color: #008000; text-decoration-color: #008000\">Project Planner</span>                                                                                         <span style=\"color: #008000; text-decoration-color: #008000\">│</span>\n",
       "<span style=\"color: #008000; text-decoration-color: #008000\">│</span>                                                                                                                 <span style=\"color: #008000; text-decoration-color: #008000\">│</span>\n",
       "<span style=\"color: #008000; text-decoration-color: #008000\">│</span>                                                                                                                 <span style=\"color: #008000; text-decoration-color: #008000\">│</span>\n",
       "<span style=\"color: #008000; text-decoration-color: #008000\">╰─────────────────────────────────────────────────────────────────────────────────────────────────────────────────╯</span>\n",
       "</pre>\n"
      ],
      "text/plain": [
       "\u001b[32m╭─\u001b[0m\u001b[32m───────────────────────────────────────────────\u001b[0m\u001b[32m Task Completion \u001b[0m\u001b[32m───────────────────────────────────────────────\u001b[0m\u001b[32m─╮\u001b[0m\n",
       "\u001b[32m│\u001b[0m                                                                                                                 \u001b[32m│\u001b[0m\n",
       "\u001b[32m│\u001b[0m  \u001b[1;32mTask Completed\u001b[0m                                                                                                 \u001b[32m│\u001b[0m\n",
       "\u001b[32m│\u001b[0m  \u001b[37mName: \u001b[0m\u001b[32m0d3c0487-2bf4-4480-8f84-d1af1b5e9d38\u001b[0m                                                                     \u001b[32m│\u001b[0m\n",
       "\u001b[32m│\u001b[0m  \u001b[37mAgent: \u001b[0m\u001b[32mProject Planner\u001b[0m                                                                                         \u001b[32m│\u001b[0m\n",
       "\u001b[32m│\u001b[0m                                                                                                                 \u001b[32m│\u001b[0m\n",
       "\u001b[32m│\u001b[0m                                                                                                                 \u001b[32m│\u001b[0m\n",
       "\u001b[32m╰─────────────────────────────────────────────────────────────────────────────────────────────────────────────────╯\u001b[0m\n"
      ]
     },
     "metadata": {},
     "output_type": "display_data"
    },
    {
     "data": {
      "text/html": [
       "<pre style=\"white-space:pre;overflow-x:auto;line-height:normal;font-family:Menlo,'DejaVu Sans Mono',consolas,'Courier New',monospace\">\n",
       "</pre>\n"
      ],
      "text/plain": [
       "\n"
      ]
     },
     "metadata": {},
     "output_type": "display_data"
    },
    {
     "data": {
      "text/html": [
       "<pre style=\"white-space:pre;overflow-x:auto;line-height:normal;font-family:Menlo,'DejaVu Sans Mono',consolas,'Courier New',monospace\"><span style=\"color: #008080; text-decoration-color: #008080; font-weight: bold\">🚀 Crew: crew</span>\n",
       "├── <span style=\"color: #008000; text-decoration-color: #008000; font-weight: bold\">📋 Task: 0d3c0487-2bf4-4480-8f84-d1af1b5e9d38</span>\n",
       "│   <span style=\"color: #c0c0c0; text-decoration-color: #c0c0c0\">   Assigned to: </span><span style=\"color: #008000; text-decoration-color: #008000\">Project Planner</span>\n",
       "│   <span style=\"color: #c0c0c0; text-decoration-color: #c0c0c0\">   Status: </span><span style=\"color: #008000; text-decoration-color: #008000; font-weight: bold\">✅ Completed</span>\n",
       "│   └── <span style=\"color: #008000; text-decoration-color: #008000; font-weight: bold\">🤖 Agent: </span><span style=\"color: #008000; text-decoration-color: #008000\">Project Planner</span>\n",
       "│       <span style=\"color: #c0c0c0; text-decoration-color: #c0c0c0\">    Status: </span><span style=\"color: #008000; text-decoration-color: #008000; font-weight: bold\">✅ Completed</span>\n",
       "└── <span style=\"color: #808000; text-decoration-color: #808000; font-weight: bold\">📋 Task: 8b97d6b6-13f1-4a03-86ff-9742e105efc9</span>\n",
       "    <span style=\"color: #c0c0c0; text-decoration-color: #c0c0c0\">   Status: </span><span style=\"color: #bfbf7f; text-decoration-color: #bfbf7f\">Executing Task...</span>\n",
       "</pre>\n"
      ],
      "text/plain": [
       "\u001b[1;36m🚀 Crew: \u001b[0m\u001b[1;36mcrew\u001b[0m\n",
       "├── \u001b[1;32m📋 Task: 0d3c0487-2bf4-4480-8f84-d1af1b5e9d38\u001b[0m\n",
       "│   \u001b[37m   Assigned to: \u001b[0m\u001b[32mProject Planner\u001b[0m\n",
       "│   \u001b[37m   Status: \u001b[0m\u001b[1;32m✅ Completed\u001b[0m\n",
       "│   └── \u001b[1;32m🤖 Agent: \u001b[0m\u001b[32mProject Planner\u001b[0m\n",
       "│       \u001b[37m    Status: \u001b[0m\u001b[1;32m✅ Completed\u001b[0m\n",
       "└── \u001b[1;33m📋 Task: 8b97d6b6-13f1-4a03-86ff-9742e105efc9\u001b[0m\n",
       "    \u001b[37m   Status: \u001b[0m\u001b[2;33mExecuting Task...\u001b[0m\n"
      ]
     },
     "metadata": {},
     "output_type": "display_data"
    },
    {
     "data": {
      "text/html": [
       "<pre style=\"white-space:pre;overflow-x:auto;line-height:normal;font-family:Menlo,'DejaVu Sans Mono',consolas,'Courier New',monospace\">\n",
       "</pre>\n"
      ],
      "text/plain": [
       "\n"
      ]
     },
     "metadata": {},
     "output_type": "display_data"
    },
    {
     "data": {
      "text/html": [
       "<pre style=\"white-space:pre;overflow-x:auto;line-height:normal;font-family:Menlo,'DejaVu Sans Mono',consolas,'Courier New',monospace\"><span style=\"color: #008080; text-decoration-color: #008080; font-weight: bold\">🚀 Crew: crew</span>\n",
       "├── <span style=\"color: #008000; text-decoration-color: #008000; font-weight: bold\">📋 Task: 0d3c0487-2bf4-4480-8f84-d1af1b5e9d38</span>\n",
       "│   <span style=\"color: #c0c0c0; text-decoration-color: #c0c0c0\">   Assigned to: </span><span style=\"color: #008000; text-decoration-color: #008000\">Project Planner</span>\n",
       "│   <span style=\"color: #c0c0c0; text-decoration-color: #c0c0c0\">   Status: </span><span style=\"color: #008000; text-decoration-color: #008000; font-weight: bold\">✅ Completed</span>\n",
       "│   └── <span style=\"color: #008000; text-decoration-color: #008000; font-weight: bold\">🤖 Agent: </span><span style=\"color: #008000; text-decoration-color: #008000\">Project Planner</span>\n",
       "│       <span style=\"color: #c0c0c0; text-decoration-color: #c0c0c0\">    Status: </span><span style=\"color: #008000; text-decoration-color: #008000; font-weight: bold\">✅ Completed</span>\n",
       "└── <span style=\"color: #808000; text-decoration-color: #808000; font-weight: bold\">📋 Task: 8b97d6b6-13f1-4a03-86ff-9742e105efc9</span>\n",
       "    <span style=\"color: #c0c0c0; text-decoration-color: #c0c0c0\">   Status: </span><span style=\"color: #bfbf7f; text-decoration-color: #bfbf7f\">Executing Task...</span>\n",
       "    └── <span style=\"color: #008000; text-decoration-color: #008000; font-weight: bold\">🤖 Agent: </span><span style=\"color: #008000; text-decoration-color: #008000\">Task Executor</span>\n",
       "        <span style=\"color: #c0c0c0; text-decoration-color: #c0c0c0\">    Status: </span><span style=\"color: #008000; text-decoration-color: #008000; font-weight: bold\">In Progress</span>\n",
       "</pre>\n"
      ],
      "text/plain": [
       "\u001b[1;36m🚀 Crew: \u001b[0m\u001b[1;36mcrew\u001b[0m\n",
       "├── \u001b[1;32m📋 Task: 0d3c0487-2bf4-4480-8f84-d1af1b5e9d38\u001b[0m\n",
       "│   \u001b[37m   Assigned to: \u001b[0m\u001b[32mProject Planner\u001b[0m\n",
       "│   \u001b[37m   Status: \u001b[0m\u001b[1;32m✅ Completed\u001b[0m\n",
       "│   └── \u001b[1;32m🤖 Agent: \u001b[0m\u001b[32mProject Planner\u001b[0m\n",
       "│       \u001b[37m    Status: \u001b[0m\u001b[1;32m✅ Completed\u001b[0m\n",
       "└── \u001b[1;33m📋 Task: 8b97d6b6-13f1-4a03-86ff-9742e105efc9\u001b[0m\n",
       "    \u001b[37m   Status: \u001b[0m\u001b[2;33mExecuting Task...\u001b[0m\n",
       "    └── \u001b[1;32m🤖 Agent: \u001b[0m\u001b[32mTask Executor\u001b[0m\n",
       "        \u001b[37m    Status: \u001b[0m\u001b[1;32mIn Progress\u001b[0m\n"
      ]
     },
     "metadata": {},
     "output_type": "display_data"
    },
    {
     "data": {
      "text/html": [
       "<pre style=\"white-space:pre;overflow-x:auto;line-height:normal;font-family:Menlo,'DejaVu Sans Mono',consolas,'Courier New',monospace\">\n",
       "</pre>\n"
      ],
      "text/plain": [
       "\n"
      ]
     },
     "metadata": {},
     "output_type": "display_data"
    },
    {
     "name": "stdout",
     "output_type": "stream",
     "text": [
      "\u001b[1m\u001b[95m# Agent:\u001b[00m \u001b[1m\u001b[92mTask Executor\u001b[00m\n",
      "\u001b[95m## Task:\u001b[00m \u001b[92mFollowing the plan created, simulate the execution process:\n",
      "   1. Execute the first 3 steps from the plan\n",
      "   2. Document progress and completion status\n",
      "   3. Identify any potential blockers\n",
      "   4. Provide status updates for each step\u001b[00m\n",
      "\n",
      "\n",
      "\u001b[1m\u001b[95m# Agent:\u001b[00m \u001b[1m\u001b[92mTask Executor\u001b[00m\n",
      "\u001b[95m## Final Answer:\u001b[00m \u001b[92m\n",
      "Execution Progress Report:\n",
      "\n",
      "Phase 1: Planning & Requirements Gathering\n",
      "\n",
      "Task 1.1: Define Project Scope\n",
      "Description: Clearly define the boundaries of the project. What is included and what is excluded?\n",
      "Status: Completed. The project scope has been defined to include the development of a functional e-commerce website with product showcasing, order processing, and customer account management. The scope excludes mobile app development and integration with third-party marketing platforms in the initial launch.\n",
      "Effort: 4 hours.\n",
      "Potential Blockers: None identified.\n",
      "Task 1.2: Identify Target Audience\n",
      "Description: Determine the demographics and characteristics of the intended users.\n",
      "Status: Completed. The target audience has been identified as tech-savvy individuals aged 25-45, with an interest in online shopping and a preference for user-friendly interfaces. Further segmentation may be required based on specific product categories.\n",
      "Effort: 4 hours.\n",
      "Potential Blockers: Limited market research data may require additional surveys or focus groups.\n",
      "Task 1.3: Gather Functional Requirements\n",
      "Description: Document all the features and functionalities the website must have.\n",
      "Status: Completed. Functional requirements have been gathered and documented. These include user registration and login, product browsing and search, shopping cart functionality, secure checkout process, order management, and customer support features (FAQ, contact form). Detailed requirements specifications document is available.\n",
      "Effort: 16 hours.\n",
      "Potential Blockers: Evolving requirements from stakeholders may lead to scope creep and require careful management. Insufficient stakeholder input may result in missing crucial functionalities.\u001b[00m\n",
      "\n",
      "\n"
     ]
    },
    {
     "data": {
      "text/html": [
       "<pre style=\"white-space:pre;overflow-x:auto;line-height:normal;font-family:Menlo,'DejaVu Sans Mono',consolas,'Courier New',monospace\"><span style=\"color: #008080; text-decoration-color: #008080; font-weight: bold\">🚀 Crew: crew</span>\n",
       "├── <span style=\"color: #008000; text-decoration-color: #008000; font-weight: bold\">📋 Task: 0d3c0487-2bf4-4480-8f84-d1af1b5e9d38</span>\n",
       "│   <span style=\"color: #c0c0c0; text-decoration-color: #c0c0c0\">   Assigned to: </span><span style=\"color: #008000; text-decoration-color: #008000\">Project Planner</span>\n",
       "│   <span style=\"color: #c0c0c0; text-decoration-color: #c0c0c0\">   Status: </span><span style=\"color: #008000; text-decoration-color: #008000; font-weight: bold\">✅ Completed</span>\n",
       "│   └── <span style=\"color: #008000; text-decoration-color: #008000; font-weight: bold\">🤖 Agent: </span><span style=\"color: #008000; text-decoration-color: #008000\">Project Planner</span>\n",
       "│       <span style=\"color: #c0c0c0; text-decoration-color: #c0c0c0\">    Status: </span><span style=\"color: #008000; text-decoration-color: #008000; font-weight: bold\">✅ Completed</span>\n",
       "└── <span style=\"color: #808000; text-decoration-color: #808000; font-weight: bold\">📋 Task: 8b97d6b6-13f1-4a03-86ff-9742e105efc9</span>\n",
       "    <span style=\"color: #c0c0c0; text-decoration-color: #c0c0c0\">   Status: </span><span style=\"color: #bfbf7f; text-decoration-color: #bfbf7f\">Executing Task...</span>\n",
       "    └── <span style=\"color: #008000; text-decoration-color: #008000; font-weight: bold\">🤖 Agent: </span><span style=\"color: #008000; text-decoration-color: #008000\">Task Executor</span>\n",
       "        <span style=\"color: #c0c0c0; text-decoration-color: #c0c0c0\">    Status: </span><span style=\"color: #008000; text-decoration-color: #008000; font-weight: bold\">✅ Completed</span>\n",
       "</pre>\n"
      ],
      "text/plain": [
       "\u001b[1;36m🚀 Crew: \u001b[0m\u001b[1;36mcrew\u001b[0m\n",
       "├── \u001b[1;32m📋 Task: 0d3c0487-2bf4-4480-8f84-d1af1b5e9d38\u001b[0m\n",
       "│   \u001b[37m   Assigned to: \u001b[0m\u001b[32mProject Planner\u001b[0m\n",
       "│   \u001b[37m   Status: \u001b[0m\u001b[1;32m✅ Completed\u001b[0m\n",
       "│   └── \u001b[1;32m🤖 Agent: \u001b[0m\u001b[32mProject Planner\u001b[0m\n",
       "│       \u001b[37m    Status: \u001b[0m\u001b[1;32m✅ Completed\u001b[0m\n",
       "└── \u001b[1;33m📋 Task: 8b97d6b6-13f1-4a03-86ff-9742e105efc9\u001b[0m\n",
       "    \u001b[37m   Status: \u001b[0m\u001b[2;33mExecuting Task...\u001b[0m\n",
       "    └── \u001b[1;32m🤖 Agent: \u001b[0m\u001b[32mTask Executor\u001b[0m\n",
       "        \u001b[37m    Status: \u001b[0m\u001b[1;32m✅ Completed\u001b[0m\n"
      ]
     },
     "metadata": {},
     "output_type": "display_data"
    },
    {
     "data": {
      "text/html": [
       "<pre style=\"white-space:pre;overflow-x:auto;line-height:normal;font-family:Menlo,'DejaVu Sans Mono',consolas,'Courier New',monospace\">\n",
       "</pre>\n"
      ],
      "text/plain": [
       "\n"
      ]
     },
     "metadata": {},
     "output_type": "display_data"
    },
    {
     "data": {
      "text/html": [
       "<pre style=\"white-space:pre;overflow-x:auto;line-height:normal;font-family:Menlo,'DejaVu Sans Mono',consolas,'Courier New',monospace\"><span style=\"color: #008080; text-decoration-color: #008080; font-weight: bold\">🚀 Crew: crew</span>\n",
       "├── <span style=\"color: #008000; text-decoration-color: #008000; font-weight: bold\">📋 Task: 0d3c0487-2bf4-4480-8f84-d1af1b5e9d38</span>\n",
       "│   <span style=\"color: #c0c0c0; text-decoration-color: #c0c0c0\">   Assigned to: </span><span style=\"color: #008000; text-decoration-color: #008000\">Project Planner</span>\n",
       "│   <span style=\"color: #c0c0c0; text-decoration-color: #c0c0c0\">   Status: </span><span style=\"color: #008000; text-decoration-color: #008000; font-weight: bold\">✅ Completed</span>\n",
       "│   └── <span style=\"color: #008000; text-decoration-color: #008000; font-weight: bold\">🤖 Agent: </span><span style=\"color: #008000; text-decoration-color: #008000\">Project Planner</span>\n",
       "│       <span style=\"color: #c0c0c0; text-decoration-color: #c0c0c0\">    Status: </span><span style=\"color: #008000; text-decoration-color: #008000; font-weight: bold\">✅ Completed</span>\n",
       "└── <span style=\"color: #008000; text-decoration-color: #008000; font-weight: bold\">📋 Task: 8b97d6b6-13f1-4a03-86ff-9742e105efc9</span>\n",
       "    <span style=\"color: #c0c0c0; text-decoration-color: #c0c0c0\">   Assigned to: </span><span style=\"color: #008000; text-decoration-color: #008000\">Task Executor</span>\n",
       "    <span style=\"color: #c0c0c0; text-decoration-color: #c0c0c0\">   Status: </span><span style=\"color: #008000; text-decoration-color: #008000; font-weight: bold\">✅ Completed</span>\n",
       "    └── <span style=\"color: #008000; text-decoration-color: #008000; font-weight: bold\">🤖 Agent: </span><span style=\"color: #008000; text-decoration-color: #008000\">Task Executor</span>\n",
       "        <span style=\"color: #c0c0c0; text-decoration-color: #c0c0c0\">    Status: </span><span style=\"color: #008000; text-decoration-color: #008000; font-weight: bold\">✅ Completed</span>\n",
       "</pre>\n"
      ],
      "text/plain": [
       "\u001b[1;36m🚀 Crew: \u001b[0m\u001b[1;36mcrew\u001b[0m\n",
       "├── \u001b[1;32m📋 Task: 0d3c0487-2bf4-4480-8f84-d1af1b5e9d38\u001b[0m\n",
       "│   \u001b[37m   Assigned to: \u001b[0m\u001b[32mProject Planner\u001b[0m\n",
       "│   \u001b[37m   Status: \u001b[0m\u001b[1;32m✅ Completed\u001b[0m\n",
       "│   └── \u001b[1;32m🤖 Agent: \u001b[0m\u001b[32mProject Planner\u001b[0m\n",
       "│       \u001b[37m    Status: \u001b[0m\u001b[1;32m✅ Completed\u001b[0m\n",
       "└── \u001b[1;32m📋 Task: 8b97d6b6-13f1-4a03-86ff-9742e105efc9\u001b[0m\n",
       "    \u001b[37m   Assigned to: \u001b[0m\u001b[32mTask Executor\u001b[0m\n",
       "    \u001b[37m   Status: \u001b[0m\u001b[1;32m✅ Completed\u001b[0m\n",
       "    └── \u001b[1;32m🤖 Agent: \u001b[0m\u001b[32mTask Executor\u001b[0m\n",
       "        \u001b[37m    Status: \u001b[0m\u001b[1;32m✅ Completed\u001b[0m\n"
      ]
     },
     "metadata": {},
     "output_type": "display_data"
    },
    {
     "data": {
      "text/html": [
       "<pre style=\"white-space:pre;overflow-x:auto;line-height:normal;font-family:Menlo,'DejaVu Sans Mono',consolas,'Courier New',monospace\"><span style=\"color: #008000; text-decoration-color: #008000\">╭──────────────────────────────────────────────── Task Completion ────────────────────────────────────────────────╮</span>\n",
       "<span style=\"color: #008000; text-decoration-color: #008000\">│</span>                                                                                                                 <span style=\"color: #008000; text-decoration-color: #008000\">│</span>\n",
       "<span style=\"color: #008000; text-decoration-color: #008000\">│</span>  <span style=\"color: #008000; text-decoration-color: #008000; font-weight: bold\">Task Completed</span>                                                                                                 <span style=\"color: #008000; text-decoration-color: #008000\">│</span>\n",
       "<span style=\"color: #008000; text-decoration-color: #008000\">│</span>  <span style=\"color: #c0c0c0; text-decoration-color: #c0c0c0\">Name: </span><span style=\"color: #008000; text-decoration-color: #008000\">8b97d6b6-13f1-4a03-86ff-9742e105efc9</span>                                                                     <span style=\"color: #008000; text-decoration-color: #008000\">│</span>\n",
       "<span style=\"color: #008000; text-decoration-color: #008000\">│</span>  <span style=\"color: #c0c0c0; text-decoration-color: #c0c0c0\">Agent: </span><span style=\"color: #008000; text-decoration-color: #008000\">Task Executor</span>                                                                                           <span style=\"color: #008000; text-decoration-color: #008000\">│</span>\n",
       "<span style=\"color: #008000; text-decoration-color: #008000\">│</span>                                                                                                                 <span style=\"color: #008000; text-decoration-color: #008000\">│</span>\n",
       "<span style=\"color: #008000; text-decoration-color: #008000\">│</span>                                                                                                                 <span style=\"color: #008000; text-decoration-color: #008000\">│</span>\n",
       "<span style=\"color: #008000; text-decoration-color: #008000\">╰─────────────────────────────────────────────────────────────────────────────────────────────────────────────────╯</span>\n",
       "</pre>\n"
      ],
      "text/plain": [
       "\u001b[32m╭─\u001b[0m\u001b[32m───────────────────────────────────────────────\u001b[0m\u001b[32m Task Completion \u001b[0m\u001b[32m───────────────────────────────────────────────\u001b[0m\u001b[32m─╮\u001b[0m\n",
       "\u001b[32m│\u001b[0m                                                                                                                 \u001b[32m│\u001b[0m\n",
       "\u001b[32m│\u001b[0m  \u001b[1;32mTask Completed\u001b[0m                                                                                                 \u001b[32m│\u001b[0m\n",
       "\u001b[32m│\u001b[0m  \u001b[37mName: \u001b[0m\u001b[32m8b97d6b6-13f1-4a03-86ff-9742e105efc9\u001b[0m                                                                     \u001b[32m│\u001b[0m\n",
       "\u001b[32m│\u001b[0m  \u001b[37mAgent: \u001b[0m\u001b[32mTask Executor\u001b[0m                                                                                           \u001b[32m│\u001b[0m\n",
       "\u001b[32m│\u001b[0m                                                                                                                 \u001b[32m│\u001b[0m\n",
       "\u001b[32m│\u001b[0m                                                                                                                 \u001b[32m│\u001b[0m\n",
       "\u001b[32m╰─────────────────────────────────────────────────────────────────────────────────────────────────────────────────╯\u001b[0m\n"
      ]
     },
     "metadata": {},
     "output_type": "display_data"
    },
    {
     "data": {
      "text/html": [
       "<pre style=\"white-space:pre;overflow-x:auto;line-height:normal;font-family:Menlo,'DejaVu Sans Mono',consolas,'Courier New',monospace\">\n",
       "</pre>\n"
      ],
      "text/plain": [
       "\n"
      ]
     },
     "metadata": {},
     "output_type": "display_data"
    },
    {
     "data": {
      "text/html": [
       "<pre style=\"white-space:pre;overflow-x:auto;line-height:normal;font-family:Menlo,'DejaVu Sans Mono',consolas,'Courier New',monospace\"><span style=\"color: #008000; text-decoration-color: #008000\">╭──────────────────────────────────────────────── Crew Completion ────────────────────────────────────────────────╮</span>\n",
       "<span style=\"color: #008000; text-decoration-color: #008000\">│</span>                                                                                                                 <span style=\"color: #008000; text-decoration-color: #008000\">│</span>\n",
       "<span style=\"color: #008000; text-decoration-color: #008000\">│</span>  <span style=\"color: #008000; text-decoration-color: #008000; font-weight: bold\">Crew Execution Completed</span>                                                                                       <span style=\"color: #008000; text-decoration-color: #008000\">│</span>\n",
       "<span style=\"color: #008000; text-decoration-color: #008000\">│</span>  <span style=\"color: #c0c0c0; text-decoration-color: #c0c0c0\">Name: </span><span style=\"color: #008000; text-decoration-color: #008000\">crew</span>                                                                                                     <span style=\"color: #008000; text-decoration-color: #008000\">│</span>\n",
       "<span style=\"color: #008000; text-decoration-color: #008000\">│</span>  <span style=\"color: #c0c0c0; text-decoration-color: #c0c0c0\">ID: </span><span style=\"color: #008000; text-decoration-color: #008000\">0c56e9b2-464a-423e-befc-198abf973f00</span>                                                                       <span style=\"color: #008000; text-decoration-color: #008000\">│</span>\n",
       "<span style=\"color: #008000; text-decoration-color: #008000\">│</span>                                                                                                                 <span style=\"color: #008000; text-decoration-color: #008000\">│</span>\n",
       "<span style=\"color: #008000; text-decoration-color: #008000\">│</span>                                                                                                                 <span style=\"color: #008000; text-decoration-color: #008000\">│</span>\n",
       "<span style=\"color: #008000; text-decoration-color: #008000\">╰─────────────────────────────────────────────────────────────────────────────────────────────────────────────────╯</span>\n",
       "</pre>\n"
      ],
      "text/plain": [
       "\u001b[32m╭─\u001b[0m\u001b[32m───────────────────────────────────────────────\u001b[0m\u001b[32m Crew Completion \u001b[0m\u001b[32m───────────────────────────────────────────────\u001b[0m\u001b[32m─╮\u001b[0m\n",
       "\u001b[32m│\u001b[0m                                                                                                                 \u001b[32m│\u001b[0m\n",
       "\u001b[32m│\u001b[0m  \u001b[1;32mCrew Execution Completed\u001b[0m                                                                                       \u001b[32m│\u001b[0m\n",
       "\u001b[32m│\u001b[0m  \u001b[37mName: \u001b[0m\u001b[32mcrew\u001b[0m                                                                                                     \u001b[32m│\u001b[0m\n",
       "\u001b[32m│\u001b[0m  \u001b[37mID: \u001b[0m\u001b[32m0c56e9b2-464a-423e-befc-198abf973f00\u001b[0m                                                                       \u001b[32m│\u001b[0m\n",
       "\u001b[32m│\u001b[0m                                                                                                                 \u001b[32m│\u001b[0m\n",
       "\u001b[32m│\u001b[0m                                                                                                                 \u001b[32m│\u001b[0m\n",
       "\u001b[32m╰─────────────────────────────────────────────────────────────────────────────────────────────────────────────────╯\u001b[0m\n"
      ]
     },
     "metadata": {},
     "output_type": "display_data"
    },
    {
     "data": {
      "text/html": [
       "<pre style=\"white-space:pre;overflow-x:auto;line-height:normal;font-family:Menlo,'DejaVu Sans Mono',consolas,'Courier New',monospace\">\n",
       "</pre>\n"
      ],
      "text/plain": [
       "\n"
      ]
     },
     "metadata": {},
     "output_type": "display_data"
    },
    {
     "name": "stdout",
     "output_type": "stream",
     "text": [
      "\n",
      "Planning Agent Results:\n",
      "Execution Progress Report:\n",
      "\n",
      "Phase 1: Planning & Requirements Gathering\n",
      "\n",
      "Task 1.1: Define Project Scope\n",
      "Description: Clearly define the boundaries of the project. What is included and what is excluded?\n",
      "Status: Completed. The project scope has been defined to include the development of a functional e-commerce website with product showcasing, order processing, and customer account management. The scope excludes mobile app development and integration with third-party marketing platforms in the initial launch.\n",
      "Effort: 4 hours.\n",
      "Potential Blockers: None identified.\n",
      "Task 1.2: Identify Target Audience\n",
      "Description: Determine the demographics and characteristics of the intended users.\n",
      "Status: Completed. The target audience has been identified as tech-savvy individuals aged 25-45, with an interest in online shopping and a preference for user-friendly interfaces. Further segmentation may be required based on specific product categories.\n",
      "Effort: 4 hours.\n",
      "Potential Blockers: Limited market research data may require additional surveys or focus groups.\n",
      "Task 1.3: Gather Functional Requirements\n",
      "Description: Document all the features and functionalities the website must have.\n",
      "Status: Completed. Functional requirements have been gathered and documented. These include user registration and login, product browsing and search, shopping cart functionality, secure checkout process, order management, and customer support features (FAQ, contact form). Detailed requirements specifications document is available.\n",
      "Effort: 16 hours.\n",
      "Potential Blockers: Evolving requirements from stakeholders may lead to scope creep and require careful management. Insufficient stakeholder input may result in missing crucial functionalities.\n"
     ]
    }
   ],
   "source": [
    "# Create planning agents\n",
    "planning_agent = Agent(\n",
    "   role=\"Project Planner\",\n",
    "   goal=\"Break down complex projects into actionable steps\",\n",
    "   backstory=\"\"\"You are an expert project planner who excels at decomposing complex tasks\n",
    "   into manageable steps. You create detailed, logical plans that ensure successful project completion.\"\"\",\n",
    "   verbose=True,\n",
    "   allow_delegation=False,\n",
    "   llm=llm\n",
    ")\n",
    "\n",
    "execution_agent = Agent(\n",
    "   role=\"Task Executor\",\n",
    "   goal=\"Execute tasks according to the plan effectively\",\n",
    "   backstory=\"\"\"You are a reliable task executor who follows plans precisely and\n",
    "   delivers results efficiently. You ensure each step is completed properly before moving to the next.\"\"\",\n",
    "   verbose=True,\n",
    "   allow_delegation=False,\n",
    "   llm=llm\n",
    ")\n",
    "\n",
    "# Define planning tasks\n",
    "breakdown_task = Task(\n",
    "   description=\"\"\"Create a detailed plan for building a simple e-commerce website:\n",
    "   1. Break down the project into major phases\n",
    "   2. List specific tasks for each phase\n",
    "   3. Define dependencies between tasks\n",
    "   4. Estimate effort for each component\n",
    "   5. Create a logical execution sequence\"\"\",\n",
    "   expected_output=\"Detailed project plan with tasks and execution order\",\n",
    "   agent=planning_agent\n",
    ")\n",
    "\n",
    "execution_simulation_task = Task(\n",
    "   description=\"\"\"Following the plan created, simulate the execution process:\n",
    "   1. Execute the first 3 steps from the plan\n",
    "   2. Document progress and completion status\n",
    "   3. Identify any potential blockers\n",
    "   4. Provide status updates for each step\"\"\",\n",
    "   expected_output=\"Execution progress report with completed tasks and status\",\n",
    "   agent=execution_agent,\n",
    "   dependencies=[breakdown_task]\n",
    ")\n",
    "\n",
    "# Create planning crew\n",
    "planning_crew = Crew(\n",
    "   agents=[planning_agent, execution_agent],\n",
    "   tasks=[breakdown_task, execution_simulation_task],\n",
    "   verbose=True\n",
    ")\n",
    "\n",
    "# Execute planning workflow\n",
    "print(\"Starting planning crew workflow...\")\n",
    "planning_result = planning_crew.kickoff()\n",
    "print(\"\\nPlanning Agent Results:\")\n",
    "print(planning_result)"
   ]
  },
  {
   "cell_type": "markdown",
   "metadata": {
    "id": "gAiitzBgckFe"
   },
   "source": [
    "## Summary: CrewAI vs LangGraph Comparison\n",
    "\n",
    "Let's create a visual comparison of both frameworks and their approach to agent patterns:\n",
    "\n",
    "Key differences:\n",
    "1. **Structure**: LangGraph uses workflow graphs, CrewAI uses role-based crews\n",
    "2. **State Management**: LangGraph has explicit state, CrewAI has implicit crew context\n",
    "3. **Tool Integration**: LangGraph has direct tool integration, CrewAI requires workarounds\n",
    "4. **Multi-agent**: LangGraph uses flow control, CrewAI uses task dependencies\n",
    "5. **Learning Curve**: CrewAI is simpler for role-based scenarios, LangGraph is more flexible\n",
    "\n",
    "Both frameworks successfully implement the core agent patterns for building effective AI systems."
   ]
  },
  {
   "cell_type": "code",
   "execution_count": 23,
   "metadata": {
    "colab": {
     "base_uri": "https://localhost:8080/",
     "height": 1000
    },
    "executionInfo": {
     "elapsed": 619,
     "status": "ok",
     "timestamp": 1746264168967,
     "user": {
      "displayName": "Pruthvik Sheth",
      "userId": "03427505168681154907"
     },
     "user_tz": 420
    },
    "id": "mbCzxbXldDsP",
    "outputId": "c28fa096-0aa5-4523-b33c-5aaf7fb954f1"
   },
   "outputs": [
    {
     "data": {
      "image/png": "[encoded data removed]",
      "text/plain": [
       "<Figure size 1600x1200 with 3 Axes>"
      ]
     },
     "metadata": {},
     "output_type": "display_data"
    },
    {
     "name": "stdout",
     "output_type": "stream",
     "text": [
      "\n",
      "============================================================\n",
      "AGENT PATTERN IMPLEMENTATION SUMMARY\n",
      "============================================================\n",
      "\n",
      "Framework Comparison:\n",
      "\n",
      "1. LangGraph Implementation:\n",
      "  ✓ Memory-based Agent: Uses checkpointing with MemorySaver\n",
      "  ✓ Tool-using Agent: Direct tool integration with React pattern\n",
      "  ✓ Multi-agent Collaboration: State graph with multiple nodes\n",
      "  ✓ Planning Agent: Step-by-step execution with state tracking\n",
      "\n",
      "2. CrewAI Implementation:\n",
      "  ✓ Memory-based Agent: Task context within crew sessions\n",
      "  ✓ Tool-using Agent: Limited tool support, requires workarounds\n",
      "  ✓ Multi-agent Collaboration: Natural crew metaphor with role delegation\n",
      "  ✓ Planning Agent: Task dependencies and sequential execution\n",
      "\n",
      "Key Takeaways:\n",
      "- LangGraph offers more control but requires more setup\n",
      "- CrewAI is ideal for role-based, collaborative scenarios\n",
      "- Both frameworks successfully implement core agent patterns\n",
      "- Choice depends on specific use case and complexity needs\n",
      "\n",
      "Recommendation: Use LangGraph for complex workflows requiring precise control,\n",
      "use CrewAI for role-based multi-agent scenarios with simpler requirements.\n",
      "\n"
     ]
    }
   ],
   "source": [
    "# Create a visual comparison of LangGraph vs CrewAI patterns\n",
    "import matplotlib.pyplot as plt\n",
    "import matplotlib.gridspec as gridspec\n",
    "import numpy as np\n",
    "\n",
    "# Create a comparison visualization\n",
    "fig = plt.figure(figsize=(16, 12))\n",
    "gs = gridspec.GridSpec(3, 2, figure=fig)\n",
    "\n",
    "# Title\n",
    "fig.suptitle('LangGraph vs CrewAI: Agent Pattern Comparison', fontsize=20, fontweight='bold')\n",
    "\n",
    "# Define comparison metrics\n",
    "metrics = ['Memory', 'Tools', 'Multi-Agent', 'Planning', 'Ease of Use', 'Flexibility']\n",
    "langgraph_scores = [9, 10, 8, 9, 7, 10]\n",
    "crewai_scores = [8, 6, 9, 8, 9, 7]\n",
    "\n",
    "# Create radar chart comparison\n",
    "ax_radar = fig.add_subplot(gs[0, :], projection='polar')\n",
    "angles = np.linspace(0, 2*np.pi, len(metrics), endpoint=False).tolist()\n",
    "angles += angles[:1]\n",
    "\n",
    "langgraph_scores += langgraph_scores[:1]\n",
    "crewai_scores += crewai_scores[:1]\n",
    "\n",
    "ax_radar.plot(angles, langgraph_scores, 'o-', linewidth=2, label='LangGraph', color='blue')\n",
    "ax_radar.fill(angles, langgraph_scores, alpha=0.25, color='blue')\n",
    "ax_radar.plot(angles, crewai_scores, 'o-', linewidth=2, label='CrewAI', color='red')\n",
    "ax_radar.fill(angles, crewai_scores, alpha=0.25, color='red')\n",
    "\n",
    "ax_radar.set_xticks(angles[:-1])\n",
    "ax_radar.set_xticklabels(metrics)\n",
    "ax_radar.set_ylim(0, 10)\n",
    "ax_radar.set_title('Framework Capabilities Comparison', size=14, pad=20)\n",
    "ax_radar.legend(loc='upper right', bbox_to_anchor=(1.2, 1.1))\n",
    "ax_radar.grid(True)\n",
    "\n",
    "# Pattern implementation comparison\n",
    "ax_patterns = fig.add_subplot(gs[1, :])\n",
    "patterns = ['Memory Agent', 'Tool Agent', 'Multi-Agent', 'Planning Agent']\n",
    "implementations = np.arange(len(patterns))\n",
    "width = 0.35\n",
    "\n",
    "ax_patterns.bar(implementations - width/2, [1, 1, 1, 1], width, label='LangGraph', color='blue', alpha=0.7)\n",
    "ax_patterns.bar(implementations + width/2, [1, 0.7, 1, 1], width, label='CrewAI', color='red', alpha=0.7)\n",
    "\n",
    "ax_patterns.set_ylabel('Implementation Completeness')\n",
    "ax_patterns.set_title('Pattern Implementation Completeness', size=14)\n",
    "ax_patterns.set_xticks(implementations)\n",
    "ax_patterns.set_xticklabels(patterns, rotation=45)\n",
    "ax_patterns.legend()\n",
    "ax_patterns.set_ylim(0, 1.2)\n",
    "\n",
    "# Framework characteristics\n",
    "characteristics_text = \"\"\"\n",
    "LangGraph Strengths:\n",
    "- Direct state management\n",
    "- Explicit workflow control\n",
    "- Full tool integration\n",
    "- Complex branching logic\n",
    "- Fine-grained control\n",
    "\n",
    "CrewAI Strengths:\n",
    "- Role-based organization\n",
    "- Simpler syntax\n",
    "- Built-in task dependencies\n",
    "- Natural crew metaphor\n",
    "- Faster prototyping\n",
    "\"\"\"\n",
    "\n",
    "ax_char = fig.add_subplot(gs[2, :])\n",
    "ax_char.text(0.5, 0.5, characteristics_text, ha='center', va='center', fontsize=12,\n",
    "            bbox=dict(boxstyle=\"round,pad=1\", facecolor=\"lightgray\", alpha=0.5))\n",
    "ax_char.set_xlim(0, 1)\n",
    "ax_char.set_ylim(0, 1)\n",
    "ax_char.axis('off')\n",
    "ax_char.set_title('Framework Characteristics', size=14)\n",
    "\n",
    "plt.tight_layout()\n",
    "plt.show()\n",
    "\n",
    "# Create a summary report\n",
    "print(\"\\n\" + \"=\"*60)\n",
    "print(\"AGENT PATTERN IMPLEMENTATION SUMMARY\")\n",
    "print(\"=\"*60)\n",
    "\n",
    "summary_report = \"\"\"\n",
    "Framework Comparison:\n",
    "\n",
    "1. LangGraph Implementation:\n",
    "  ✓ Memory-based Agent: Uses checkpointing with MemorySaver\n",
    "  ✓ Tool-using Agent: Direct tool integration with React pattern\n",
    "  ✓ Multi-agent Collaboration: State graph with multiple nodes\n",
    "  ✓ Planning Agent: Step-by-step execution with state tracking\n",
    "\n",
    "2. CrewAI Implementation:\n",
    "  ✓ Memory-based Agent: Task context within crew sessions\n",
    "  ✓ Tool-using Agent: Limited tool support, requires workarounds\n",
    "  ✓ Multi-agent Collaboration: Natural crew metaphor with role delegation\n",
    "  ✓ Planning Agent: Task dependencies and sequential execution\n",
    "\n",
    "Key Takeaways:\n",
    "- LangGraph offers more control but requires more setup\n",
    "- CrewAI is ideal for role-based, collaborative scenarios\n",
    "- Both frameworks successfully implement core agent patterns\n",
    "- Choice depends on specific use case and complexity needs\n",
    "\n",
    "Recommendation: Use LangGraph for complex workflows requiring precise control,\n",
    "use CrewAI for role-based multi-agent scenarios with simpler requirements.\n",
    "\"\"\"\n",
    "\n",
    "print(summary_report)\n"
   ]
  },
  {
   "cell_type": "markdown",
   "metadata": {
    "id": "rpGBbVMfdR7G"
   },
   "source": [
    "## Complete Agent Pattern Demonstration\n",
    "\n",
    "This concludes the implementation of all agent patterns using both LangGraph and CrewAI frameworks.\n",
    "\n",
    "### Summary of Implemented Patterns:\n",
    "\n",
    "**LangGraph (Workflow-based):**\n",
    "1. Memory Agent - Uses state checkpointing for persistent memory\n",
    "2. Tool Agent - Direct tool integration with React pattern\n",
    "3. Multi-Agent - State graph with multiple agent nodes\n",
    "4. Planning Agent - Sequential execution with state tracking\n",
    "\n",
    "**CrewAI (Role-based):**\n",
    "1. Memory Agent - Crew context for conversation memory\n",
    "2. Tool Agent - Limited tool support (workarounds needed)\n",
    "3. Multi-Agent - Natural role delegation in crews\n",
    "4. Planning Agent - Task dependencies and execution order"
   ]
  },
  {
   "cell_type": "code",
   "execution_count": null,
   "metadata": {
    "id": "jmQVnNtLci8x"
   },
   "outputs": [],
   "source": []
  }
 ],
 "metadata": {
  "colab": {
   "authorship_tag": "ABX9TyPolRhTIw90n/eaBdlz4mSq",
   "provenance": []
  },
  "kernelspec": {
   "display_name": "Python 3",
   "name": "python3"
  },
  "language_info": {
   "name": "python"
  }
 },
 "nbformat": 4,
 "nbformat_minor": 0
}
